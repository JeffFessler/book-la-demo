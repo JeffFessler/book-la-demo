{
 "cells": [
  {
   "cell_type": "markdown",
   "source": [
    "# Source localization\n",
    "\n",
    "This example illustrates source localization via\n",
    "[multi-dimensional scaling](https://en.wikipedia.org/wiki/Multidimensional_scaling)\n",
    "using the Julia language."
   ],
   "metadata": {}
  },
  {
   "cell_type": "markdown",
   "source": [
    "## Setup\n",
    "Add the Julia packages used in this demo.\n",
    "Change `false` to `true` in the following code block\n",
    "if you are using any of the following packages for the first time."
   ],
   "metadata": {}
  },
  {
   "outputs": [],
   "cell_type": "code",
   "source": [
    "if false\n",
    "    import Pkg\n",
    "    Pkg.add([\n",
    "        \"InteractiveUtils\"\n",
    "        \"LinearAlgebra\"\n",
    "        \"MIRTjim\"\n",
    "        \"Optim\"\n",
    "        \"Plots\"\n",
    "        \"Random\"\n",
    "        \"Statistics\"\n",
    "    ])\n",
    "end"
   ],
   "metadata": {},
   "execution_count": null
  },
  {
   "cell_type": "markdown",
   "source": [
    "Tell Julia to use the following packages.\n",
    "Run `Pkg.add()` in the preceding code block first, if needed."
   ],
   "metadata": {}
  },
  {
   "outputs": [],
   "cell_type": "code",
   "source": [
    "using InteractiveUtils: versioninfo\n",
    "using LaTeXStrings\n",
    "using LinearAlgebra: svd, norm, Diagonal\n",
    "using MIRTjim: jim, prompt\n",
    "using Optim: optimize\n",
    "using Plots: default, scatter, savefig\n",
    "using Random: seed!\n",
    "using Statistics: mean\n",
    "default(); default(label=\"\", markerstrokecolor=:auto, widen=true,\n",
    "    guidefontsize=14, tickfontsize=12, legendfontsize=14)"
   ],
   "metadata": {},
   "execution_count": null
  },
  {
   "cell_type": "markdown",
   "source": [
    "The following line is helpful when running this jl-file as a script;\n",
    "this way it will prompt user to hit a key after each image is displayed."
   ],
   "metadata": {}
  },
  {
   "outputs": [],
   "cell_type": "code",
   "source": [
    "isinteractive() && prompt(:prompt);\n",
    "isinteractive() && jim(:prompt);"
   ],
   "metadata": {},
   "execution_count": null
  },
  {
   "cell_type": "markdown",
   "source": [
    "## Generate data"
   ],
   "metadata": {}
  },
  {
   "cell_type": "markdown",
   "source": [
    "Coordinates - can you identify the pattern?  probably not..."
   ],
   "metadata": {}
  },
  {
   "outputs": [],
   "cell_type": "code",
   "source": [
    "C0 = [\n",
    "3 2.5 2 2 2 2 2 1 0 0 1 1 1 1 0 0 1 2 2.5 3  4 4.5 5 6 7 7 6 6 6 6 7 7 6 5 5 5 5 5 4.5 4;\n",
    "2 3.0 4 3 2 1 0 0 0 1 1 2 3 4 4 5 5 5 4.0 3  3 4.0 5 5 5 4 4 3 2 1 1 0 0 0 1 2 3 4 3.0 2\n",
    "];"
   ],
   "metadata": {},
   "execution_count": null
  },
  {
   "cell_type": "markdown",
   "source": [
    "Interpolate the locations to make the final set more familiar"
   ],
   "metadata": {}
  },
  {
   "outputs": [],
   "cell_type": "code",
   "source": [
    "C2 = (C0[:,2:end] + C0[:,1:end-1])/2\n",
    "Ce = (C0[:,1] + C0[:,end])/2\n",
    "C3 = [C2 Ce]\n",
    "C4 = [C0; C3]\n",
    "C = reshape(C4, 2, :);"
   ],
   "metadata": {},
   "execution_count": null
  },
  {
   "cell_type": "markdown",
   "source": [
    "### Compute J × J distance array and display it"
   ],
   "metadata": {}
  },
  {
   "outputs": [],
   "cell_type": "code",
   "source": [
    "J = size(C,2) # number of points\n",
    "D = [norm(C[:,j] - C[:,i]) for i in 1:J, j in 1:J] # \"comprehension\" in julia!\n",
    "pd = jim(D, L\"D\", color=:cividis, xlabel=L\"j\", ylabel=L\"i\")\n",
    "\n",
    "# savefig(pd, \"06_source_local1_d.pdf\")"
   ],
   "metadata": {},
   "execution_count": null
  },
  {
   "cell_type": "markdown",
   "source": [
    "### MDS algorithm"
   ],
   "metadata": {}
  },
  {
   "cell_type": "markdown",
   "source": [
    "Compute Gram matrix by de-meaning squared distance matrix"
   ],
   "metadata": {}
  },
  {
   "outputs": [],
   "cell_type": "code",
   "source": [
    "S = D.^2 # squared distances\n",
    "G = S .- mean(S, dims=1) # trick: use \"broadcasting\" feature of julia\n",
    "G = G .- mean(G, dims=2) # now we have de-meaned the columns and rows of S\n",
    "G = -1/2 * G;"
   ],
   "metadata": {},
   "execution_count": null
  },
  {
   "cell_type": "markdown",
   "source": [
    "We still cannot determine visually the point locations:"
   ],
   "metadata": {}
  },
  {
   "outputs": [],
   "cell_type": "code",
   "source": [
    "pg = jim(G, L\"G\", color=:cividis, xlabel=L\"j\", ylabel=L\"i\")\n",
    "\n",
    "# savefig(pg, \"06_source_local1_g.pdf\")"
   ],
   "metadata": {},
   "execution_count": null
  },
  {
   "cell_type": "markdown",
   "source": [
    "Examine singular values"
   ],
   "metadata": {}
  },
  {
   "outputs": [],
   "cell_type": "code",
   "source": [
    "(_, σ, V) = svd(G) # svd returns singular values in descending order\n",
    "ps = scatter(σ, label=\"singular values (noiseless case)\",\n",
    "    xlabel=L\"k\", ylabel=L\"σ_k\") # two nonzero (d=2)"
   ],
   "metadata": {},
   "execution_count": null
  },
  {
   "outputs": [],
   "cell_type": "code",
   "source": [
    "prompt()\n",
    "\n",
    "# savefig(ps, \"06_source_local1_eig.pdf\")"
   ],
   "metadata": {},
   "execution_count": null
  },
  {
   "cell_type": "markdown",
   "source": [
    "### Estimate the source locations using rank=2"
   ],
   "metadata": {}
  },
  {
   "outputs": [],
   "cell_type": "code",
   "source": [
    "Ch = Diagonal(sqrt.(σ[1:2])) * V[:,1:2]' # here is the key step"
   ],
   "metadata": {},
   "execution_count": null
  },
  {
   "cell_type": "markdown",
   "source": [
    "### Plot estimated source locations"
   ],
   "metadata": {}
  },
  {
   "outputs": [],
   "cell_type": "code",
   "source": [
    "pc = scatter(Ch[1,:], -Ch[2,:], xtick=-4:4, ytick=-3:3, aspect_ratio=1,\n",
    " title=\"Location estimates (noiseless case)\")"
   ],
   "metadata": {},
   "execution_count": null
  },
  {
   "outputs": [],
   "cell_type": "code",
   "source": [
    "prompt()"
   ],
   "metadata": {},
   "execution_count": null
  },
  {
   "cell_type": "markdown",
   "source": [
    "## Noisy case"
   ],
   "metadata": {}
  },
  {
   "outputs": [],
   "cell_type": "code",
   "source": [
    "seed!(0)\n",
    "Dn = D + 0.3 * randn(size(D))\n",
    "Sn = Dn.^2\n",
    "Gn = Sn .- mean(Sn, dims=1)\n",
    "Gn = Gn .- mean(Gn, dims=2) # de-meaned\n",
    "Gn = -1/2 * Gn\n",
    "pgn = jim(Gn, \"G noisy\", color=:cividis)"
   ],
   "metadata": {},
   "execution_count": null
  },
  {
   "cell_type": "markdown",
   "source": [
    "Singular values"
   ],
   "metadata": {}
  },
  {
   "outputs": [],
   "cell_type": "code",
   "source": [
    "(_, sn, Vn) = svd(Gn)\n",
    "psn = scatter(sn, label=\"singular values (noisy case)\") # σ₂ ≫ σ₃"
   ],
   "metadata": {},
   "execution_count": null
  },
  {
   "outputs": [],
   "cell_type": "code",
   "source": [
    "prompt()"
   ],
   "metadata": {},
   "execution_count": null
  },
  {
   "cell_type": "markdown",
   "source": [
    "### Plot estimated source locations from noisy distance measurements"
   ],
   "metadata": {}
  },
  {
   "outputs": [],
   "cell_type": "code",
   "source": [
    "Cn = Diagonal(sqrt.(sn[1:2])) * Vn[:,1:2]'\n",
    "pcn = scatter(Cn[1,:], -Cn[2,:], xtick=-4:4, ytick=-3:3, aspect_ratio=1,\n",
    " title=\"Location estimates (noisy case)\")"
   ],
   "metadata": {},
   "execution_count": null
  },
  {
   "outputs": [],
   "cell_type": "code",
   "source": [
    "prompt()"
   ],
   "metadata": {},
   "execution_count": null
  },
  {
   "cell_type": "markdown",
   "source": [
    "Nonlinear LS fitting / optimization approach to noisy case.\n",
    "This cost function was considered in\n",
    "[de Leeuw, 1988](https://doi.org/10.1007/BF01897162)."
   ],
   "metadata": {}
  },
  {
   "outputs": [],
   "cell_type": "code",
   "source": [
    "Dfun(C) = [norm(C[:,j] - C[:,i]) for i in 1:J, j in 1:J]\n",
    "cost(C) = norm(Dfun(C) - Dn)^2\n",
    "outp = optimize(cost, Cn)\n",
    "Cf = outp.minimizer\n",
    "pcf = scatter(Cf[1,:], -Cf[2,:], xtick=-4:4, ytick=-3:3, aspect_ratio=1,\n",
    " title=\"Location estimates (noisy case - fitted)\")"
   ],
   "metadata": {},
   "execution_count": null
  },
  {
   "outputs": [],
   "cell_type": "code",
   "source": [
    "prompt()"
   ],
   "metadata": {},
   "execution_count": null
  },
  {
   "cell_type": "markdown",
   "source": [
    "Compare fitting approach and SVD-based approach\n",
    "to the noiseless distance matrix.\n",
    "The fitted approach is closer to the noiseless `D`."
   ],
   "metadata": {}
  },
  {
   "outputs": [],
   "cell_type": "code",
   "source": [
    "Dfits = norm(D - Dfun(C)), norm(D - Dfun(Ch)), norm(D - Dfun(Cn)), norm(D - Dfun(Cf))\n",
    "round.(Dfits, digits=2)"
   ],
   "metadata": {},
   "execution_count": null
  },
  {
   "cell_type": "markdown",
   "source": [
    "Compare fitting approach and SVD-based approach\n",
    "to the noiseless coordinates.\n",
    "Probably there should be a permutation here?\n",
    "In principle there should be a Procrustes rotation here\n",
    "to make the comparison more meaningful.\n",
    "The fitted approach is closer to the noiseless coordinates."
   ],
   "metadata": {}
  },
  {
   "outputs": [],
   "cell_type": "code",
   "source": [
    "(Un,_,Vn) = svd(Ch * Cn')\n",
    "(Uf,_,Vf) = svd(Ch * Cf')\n",
    "round.( [\n",
    " norm(Cn - Ch),\n",
    " norm(Ch - Un*Vn'*Cn),\n",
    " norm(Ch - Cf),\n",
    " norm(Ch - Uf*Vf'*Cf) ],\n",
    " digits = 3,\n",
    ")"
   ],
   "metadata": {},
   "execution_count": null
  },
  {
   "cell_type": "markdown",
   "source": [
    "## Constant bias case"
   ],
   "metadata": {}
  },
  {
   "outputs": [],
   "cell_type": "code",
   "source": [
    "seed!(0)\n",
    "Db = D .+ 0.3 * maximum(D) # fairly large bias\n",
    "Sb = Db.^2\n",
    "Gb = Sb .- mean(Sb, dims=1)\n",
    "Gb = Gb .- mean(Gb, dims=2) # de-meaned\n",
    "Gb = -1/2 * Gb\n",
    "pgb = jim(Gb, \"G biased\", color=:cividis)"
   ],
   "metadata": {},
   "execution_count": null
  },
  {
   "cell_type": "markdown",
   "source": [
    "Singular values"
   ],
   "metadata": {}
  },
  {
   "outputs": [],
   "cell_type": "code",
   "source": [
    "(_, sb, Vb) = svd(Gb)\n",
    "psb = scatter(sb, label=\"singular values (biased case)\") # σ₂ ≫ σ₃"
   ],
   "metadata": {},
   "execution_count": null
  },
  {
   "outputs": [],
   "cell_type": "code",
   "source": [
    "prompt()"
   ],
   "metadata": {},
   "execution_count": null
  },
  {
   "cell_type": "markdown",
   "source": [
    "### Plot estimated source locations from biased distance measurements"
   ],
   "metadata": {}
  },
  {
   "outputs": [],
   "cell_type": "code",
   "source": [
    "Cb = Diagonal(sqrt.(sb[1:2])) * Vb[:,1:2]'\n",
    "pcb = scatter(Cb[1,:], -Cb[2,:], xtick=-4:4, ytick=-3:3, aspect_ratio=1,\n",
    " title=\"Location estimates (biased case)\")"
   ],
   "metadata": {},
   "execution_count": null
  },
  {
   "outputs": [],
   "cell_type": "code",
   "source": [
    "prompt()"
   ],
   "metadata": {},
   "execution_count": null
  },
  {
   "cell_type": "markdown",
   "source": [
    "## Equilateral triangle example"
   ],
   "metadata": {}
  },
  {
   "outputs": [],
   "cell_type": "code",
   "source": [
    "G = [-2 1 1; 1 -2 1; 1 1 -2] / (-6.)\n",
    "(~, σ, V) = svd(G)\n",
    "Ch = Diagonal(sqrt.(σ[1:2])) * V[:,1:2]'\n",
    "scatter(Ch[1,:], Ch[2,:], aspect_ratio=1, title=\"Location estimates\")"
   ],
   "metadata": {},
   "execution_count": null
  },
  {
   "outputs": [],
   "cell_type": "code",
   "source": [
    "prompt()"
   ],
   "metadata": {},
   "execution_count": null
  },
  {
   "cell_type": "markdown",
   "source": [
    "---\n",
    "\n",
    "*This notebook was generated using [Literate.jl](https://github.com/fredrikekre/Literate.jl).*"
   ],
   "metadata": {}
  }
 ],
 "nbformat_minor": 3,
 "metadata": {
  "language_info": {
   "file_extension": ".jl",
   "mimetype": "application/julia",
   "name": "julia",
   "version": "1.11.6"
  },
  "kernelspec": {
   "name": "julia-1.11",
   "display_name": "Julia 1.11.6",
   "language": "julia"
  }
 },
 "nbformat": 4
}

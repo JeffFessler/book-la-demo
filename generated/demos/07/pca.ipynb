{
 "cells": [
  {
   "cell_type": "markdown",
   "source": [
    "# PCA\n",
    "\n",
    "## Principal component analysis (PCA) illustration\n",
    "\n",
    "This example illustrates\n",
    "[PCA](https://en.wikipedia.org/wiki/Principal_component_analysis)\n",
    "of hand-written digit data."
   ],
   "metadata": {}
  },
  {
   "cell_type": "markdown",
   "source": [
    "## Setup\n",
    "\n",
    "Add the Julia packages used in this demo.\n",
    "Change `false` to `true` in the following code block\n",
    "if you are using any of the following packages for the first time."
   ],
   "metadata": {}
  },
  {
   "outputs": [],
   "cell_type": "code",
   "source": [
    "if false\n",
    "    import Pkg\n",
    "    Pkg.add([\n",
    "        \"InteractiveUtils\"\n",
    "        \"LaTeXStrings\"\n",
    "        \"LinearAlgebra\"\n",
    "        \"MIRTjim\"\n",
    "        \"MLDatasets\"\n",
    "        \"Plots\"\n",
    "        \"Random\"\n",
    "        \"StatsBase\"\n",
    "    ])\n",
    "end"
   ],
   "metadata": {},
   "execution_count": null
  },
  {
   "cell_type": "markdown",
   "source": [
    "Tell Julia to use the following packages.\n",
    "Run `Pkg.add()` in the preceding code block first, if needed."
   ],
   "metadata": {}
  },
  {
   "outputs": [],
   "cell_type": "code",
   "source": [
    "using InteractiveUtils: versioninfo\n",
    "using LaTeXStrings # nice plot labels\n",
    "using LinearAlgebra: svd\n",
    "using MIRTjim: jim, prompt\n",
    "using MLDatasets: MNIST\n",
    "using Plots: default, gui, plot, savefig, scatter, scatter!\n",
    "using Plots.PlotMeasures: px\n",
    "using Random: seed!, randperm\n",
    "using StatsBase: mean\n",
    "default(); default(markersize=5, markerstrokecolor=:auto, label=\"\",\n",
    " tickfontsize=14, labelfontsize=18, legendfontsize=18, titlefontsize=18)"
   ],
   "metadata": {},
   "execution_count": null
  },
  {
   "cell_type": "markdown",
   "source": [
    "The following line is helpful when running this file as a script;\n",
    "this way it will prompt user to hit a key after each figure is displayed."
   ],
   "metadata": {}
  },
  {
   "outputs": [],
   "cell_type": "code",
   "source": [
    "isinteractive() ? jim(:prompt, true) : prompt(:draw);"
   ],
   "metadata": {},
   "execution_count": null
  },
  {
   "cell_type": "markdown",
   "source": [
    "## Load data\n",
    "\n",
    "Read the MNIST data for some handwritten digits.\n",
    "This code will automatically download the data from web if needed\n",
    "and put it in a folder like: `~/.julia/datadeps/MNIST/`."
   ],
   "metadata": {}
  },
  {
   "outputs": [],
   "cell_type": "code",
   "source": [
    "if !@isdefined(data)\n",
    "    digitn = (0, 1, 4) # which digits to use\n",
    "    isinteractive() || (ENV[\"DATADEPS_ALWAYS_ACCEPT\"] = true) # avoid prompt\n",
    "    dataset = MNIST(Float32, :train)\n",
    "    nrep = 60 # how many of each digit\n",
    "    # function to extract the 1st `nrep` examples of digit n:\n",
    "    data = n -> dataset.features[:,:,findall(==(n), dataset.targets)[1:nrep]]\n",
    "    data = cat(dims=4, data.(digitn)...)\n",
    "    labels = vcat([fill(d, nrep) for d in digitn]...) # to check later\n",
    "    nx, ny, nrep, ndigit = size(data)\n",
    "    data = data[:,2:ny,:,:] # make images non-square to force debug\n",
    "    ny = size(data,2)\n",
    "    data = reshape(data, nx, ny, :)\n",
    "    seed!(0)\n",
    "    tmp = randperm(nrep * ndigit)\n",
    "    data = data[:,:,tmp]\n",
    "    labels = labels[tmp]\n",
    "    size(data) # (nx, ny, nrep*ndigit)\n",
    "end"
   ],
   "metadata": {},
   "execution_count": null
  },
  {
   "cell_type": "markdown",
   "source": [
    "Look at \"unlabeled\" image data prior to unsupervised dimensionality reduction"
   ],
   "metadata": {}
  },
  {
   "outputs": [],
   "cell_type": "code",
   "source": [
    "pd = jim(data, \"Data\"; size=(600,300), cticks=0:1,\n",
    "# xticks = false, yticks = false, tickfontsize=12, right_margin=-5px, # book\n",
    ")\n",
    "# savefig(pd, \"pca-data.pdf\")"
   ],
   "metadata": {},
   "execution_count": null
  },
  {
   "cell_type": "markdown",
   "source": [
    "Compute sample average of data"
   ],
   "metadata": {}
  },
  {
   "outputs": [],
   "cell_type": "code",
   "source": [
    "μ = mean(data, dims=3)\n",
    "pm = jim(μ, \"Mean\")\n",
    "# savefig(pm, \"pca-mean.pdf\")"
   ],
   "metadata": {},
   "execution_count": null
  },
  {
   "cell_type": "markdown",
   "source": [
    "## Scree plot\n",
    "Show singular values."
   ],
   "metadata": {}
  },
  {
   "outputs": [],
   "cell_type": "code",
   "source": [
    "data2 = reshape(data .- μ, :, nrep*ndigit) # (nx*ny, nrep*ndigit)\n",
    "f = svd(data2)\n",
    "ps = scatter(f.S; title=\"Scree plot\", widen=true,\n",
    " xaxis = (L\"k\", (1,ndigit*nrep), [1, 6, ndigit*nrep]),\n",
    " yaxis = (L\"σ_k\", (0,48), [0, 0, 47]),\n",
    ")\n",
    "# savefig(ps, \"pca-scree.pdf\")"
   ],
   "metadata": {},
   "execution_count": null
  },
  {
   "outputs": [],
   "cell_type": "code",
   "source": [
    "prompt()"
   ],
   "metadata": {},
   "execution_count": null
  },
  {
   "cell_type": "markdown",
   "source": [
    "## Principal components\n",
    "The first 6 or so singular values are notably larger than the rest,\n",
    "but for simplicity of visualization here\n",
    "we just use the first two components."
   ],
   "metadata": {}
  },
  {
   "outputs": [],
   "cell_type": "code",
   "source": [
    "K = 2\n",
    "Q = f.U[:,1:K]\n",
    "pq = jim(reshape(Q, nx,ny,:), \"First $K singular components\"; size=(600,300))\n",
    "# savefig(pq, \"pca-q.pdf\")"
   ],
   "metadata": {},
   "execution_count": null
  },
  {
   "cell_type": "markdown",
   "source": [
    "Now use the learned subspace basis `Q`\n",
    "to perform dimensionality reduction.\n",
    "The resulting coefficients are called\n",
    "\"factors\" in\n",
    "[factor analysis](https://en.wikipedia.org/wiki/Factor_analysis)\n",
    "and\n",
    "\"scores\" in\n",
    "[PCA](https://en.wikipedia.org/wiki/Principal_component_analysis)."
   ],
   "metadata": {}
  },
  {
   "outputs": [],
   "cell_type": "code",
   "source": [
    "z = Q' * data2 # (K, nrep*ndigit)"
   ],
   "metadata": {},
   "execution_count": null
  },
  {
   "cell_type": "markdown",
   "source": [
    "## PCA scores\n",
    "The three digits are remarkably well separated\n",
    "even in just two dimensions."
   ],
   "metadata": {}
  },
  {
   "outputs": [],
   "cell_type": "code",
   "source": [
    "pz = plot(title = \"Score plot for $ndigit digits\",\n",
    " xaxis=(\"Score 1\", (-5,8), -3:3:6),\n",
    " yaxis=(\"Score 2\", (-6,4), -4:4:4),\n",
    ")\n",
    "markers = (:circle, :diamond, :square)\n",
    "for (i,d) in enumerate(digitn)\n",
    "    scatter!(z[1,labels .== d], z[2,labels .== d], label=\"Digit $d\", marker=markers[i])\n",
    "end\n",
    "pz\n",
    "# savefig(pz, \"pca-score.pdf\")"
   ],
   "metadata": {},
   "execution_count": null
  },
  {
   "outputs": [],
   "cell_type": "code",
   "source": [
    "prompt()"
   ],
   "metadata": {},
   "execution_count": null
  },
  {
   "cell_type": "markdown",
   "source": [
    "---\n",
    "\n",
    "*This notebook was generated using [Literate.jl](https://github.com/fredrikekre/Literate.jl).*"
   ],
   "metadata": {}
  }
 ],
 "nbformat_minor": 3,
 "metadata": {
  "language_info": {
   "file_extension": ".jl",
   "mimetype": "application/julia",
   "name": "julia",
   "version": "1.11.6"
  },
  "kernelspec": {
   "name": "julia-1.11",
   "display_name": "Julia 1.11.6",
   "language": "julia"
  }
 },
 "nbformat": 4
}

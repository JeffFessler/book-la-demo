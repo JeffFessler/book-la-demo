{
 "cells": [
  {
   "cell_type": "markdown",
   "source": [
    "# Photometric stereo\n",
    "\n",
    "This example illustrates\n",
    "[photometric stereo](https://en.wikipedia.org/wiki/Photometric_stereo)\n",
    "for\n",
    "[Lambertian surfaces](https://en.wikipedia.org/wiki/Lambertian_reflectance)\n",
    "using the Julia language.\n",
    "\n",
    "This method determines the surface normals of an object\n",
    "from 3 or more pictures of the object\n",
    "taken with different lighting directions.\n",
    "\n",
    "This demo follows the \"uncalibrated\" approach of\n",
    "[Hayakawa, JOSA, 1994](https://doi.org/10.1364/JOSAA.11.003079)\n",
    "that treats the lighting directions as being unknown,\n",
    "unlike\n",
    "the original least-squares approach of\n",
    "[Woodham, 1980](https://doi.org/10.1117/12.7972479)."
   ],
   "metadata": {}
  },
  {
   "cell_type": "markdown",
   "source": [
    "## Setup\n",
    "\n",
    "Add the Julia packages used in this demo.\n",
    "Change `false` to `true` in the following code block\n",
    "if you are using any of the following packages for the first time."
   ],
   "metadata": {}
  },
  {
   "outputs": [],
   "cell_type": "code",
   "source": [
    "if false\n",
    "    import Pkg\n",
    "    Pkg.add([\n",
    "        \"Downloads\"\n",
    "        \"InteractiveUtils\"\n",
    "        \"LinearAlgebra\"\n",
    "        \"LaTeXStrings\"\n",
    "        \"MIRTjim\"\n",
    "        \"NPZ\"\n",
    "        \"Plots\"\n",
    "        \"Printf\"\n",
    "        \"Random\"\n",
    "    ])\n",
    "end"
   ],
   "metadata": {},
   "execution_count": null
  },
  {
   "cell_type": "markdown",
   "source": [
    "Tell Julia to use the following packages.\n",
    "Run `Pkg.add()` in the preceding code block first, if needed."
   ],
   "metadata": {}
  },
  {
   "outputs": [],
   "cell_type": "code",
   "source": [
    "using Downloads: download\n",
    "using InteractiveUtils: versioninfo\n",
    "using LaTeXStrings\n",
    "using LinearAlgebra: Diagonal, svd, svdvals, rank, norm, pinv\n",
    "using MIRTjim: jim, prompt\n",
    "using NPZ: npzread\n",
    "using Plots: gui, plot, scatter, scatter!, ylims!, cgrad, default, RGB, savefig\n",
    "using Plots.PlotMeasures: px\n",
    "using Printf: @sprintf\n",
    "using Random: seed!\n",
    "default(); default(label=\"\", markerstrokecolor=:auto)"
   ],
   "metadata": {},
   "execution_count": null
  },
  {
   "cell_type": "markdown",
   "source": [
    "The following line is helpful when running this jl-file as a script;\n",
    "this way it will prompt user to hit a key after each image is displayed."
   ],
   "metadata": {}
  },
  {
   "outputs": [],
   "cell_type": "code",
   "source": [
    "isinteractive() && prompt(:prompt);"
   ],
   "metadata": {},
   "execution_count": null
  },
  {
   "cell_type": "markdown",
   "source": [
    "## Ground-truth surface normals\n",
    "\n",
    "Load ground truth surface normal vectors of \"bunny\" data used in\n",
    "[2012 CVPR paper by Ikehata et al.](https://doi.org/10.1109/CVPR.2012.6247691)."
   ],
   "metadata": {}
  },
  {
   "outputs": [],
   "cell_type": "code",
   "source": [
    "if !@isdefined(gt_normal_bunny)\n",
    "    url = \"https://github.com/yasumat/RobustPhotometricStereo/raw/master/data/bunny/gt_normal.npy\"\n",
    "    tmp = npzread(download(url))\n",
    "    i1, i2 = 32:256-25, 33:212 # crop to reduce compute\n",
    "    tmp = permutedims(tmp, [2, 1, 3]) # \"transpose\"\n",
    "    gt_normal_bunny = tmp[i1, i2, :] # crop\n",
    "end;"
   ],
   "metadata": {},
   "execution_count": null
  },
  {
   "cell_type": "markdown",
   "source": [
    "Create hemisphere to augment the bunny data."
   ],
   "metadata": {}
  },
  {
   "outputs": [],
   "cell_type": "code",
   "source": [
    "function hemi_normal(x, y ; # surface normal of a hemi-ellipsoid\n",
    "    xh = 20f0, yh = xh, zh = xh,\n",
    ")\n",
    "    tmp = (x/xh)^2 + (y/yh)^2\n",
    "    if tmp < 1\n",
    "        z = zh * sqrt(1 - tmp)\n",
    "        tmp = [x/xh^2, y/yh^2, z/zh^2]\n",
    "        return tmp / norm(tmp)\n",
    "    end\n",
    "    return [0, 0, 0]\n",
    "end;\n",
    "\n",
    "if true\n",
    "    rh = 20\n",
    "    x = -rh:rh\n",
    "    y = x\n",
    "    tmp = hemi_normal.(x, y'; xh=rh)\n",
    "    tmp = reduce(hcat, tmp)\n",
    "    tmp = reshape(tmp', 2rh+1, 2rh+1, 3)\n",
    "end;"
   ],
   "metadata": {},
   "execution_count": null
  },
  {
   "cell_type": "markdown",
   "source": [
    "Define ground truth normals\n",
    "as combination of bunny normals\n",
    "and hemisphere normals."
   ],
   "metadata": {}
  },
  {
   "outputs": [],
   "cell_type": "code",
   "source": [
    "if !@isdefined(gt_normal)\n",
    "    gt_normal = copy(gt_normal_bunny)\n",
    "    gt_normal[176 .+ x, 25 .+ y, :] = tmp\n",
    "    nx, ny = size(gt_normal)[1:2]\n",
    "    shape2 = x -> reshape(x, prod(size(x)[1:2]), :)\n",
    "    shape3 = x -> reshape(x, nx, ny, :)\n",
    "end;"
   ],
   "metadata": {},
   "execution_count": null
  },
  {
   "cell_type": "markdown",
   "source": [
    "The three images are the x, y, and z components"
   ],
   "metadata": {}
  },
  {
   "outputs": [],
   "cell_type": "code",
   "source": [
    "pn_gt = jim(gt_normal; title=\"Ground-truth normals\", nrow=1,\n",
    "    xticks = false, yticks = false, labelfontsize = 16, tickfontsize=12,\n",
    "    left_margin = 20px, right_margin = 30px,\n",
    "#  xaxis=L\"x\", yaxis=L\"y\",\n",
    "    size=(600,200), clim=(-1,1), colorbar_ticks=-1:1,\n",
    ")\n",
    "# savefig(pn_gt, \"photometric3_gt.pdf\")"
   ],
   "metadata": {},
   "execution_count": null
  },
  {
   "cell_type": "markdown",
   "source": [
    "Surface normals are meaningful\n",
    "only where the object is present,\n",
    "so we determine an object \"mask\"."
   ],
   "metadata": {}
  },
  {
   "outputs": [],
   "cell_type": "code",
   "source": [
    "mask = dropdims(sum(abs, gt_normal, dims=3), dims=3) .> eps(Float32)\n",
    "pm = jim(mask, \"Mask\"; cticks=0:1)"
   ],
   "metadata": {},
   "execution_count": null
  },
  {
   "cell_type": "markdown",
   "source": [
    "Verify that the surface normals are unit norm\n",
    "(within the mask)."
   ],
   "metadata": {}
  },
  {
   "outputs": [],
   "cell_type": "code",
   "source": [
    "@assert maximum(abs, sum(abs2, gt_normal, dims=3)[vec(mask)] .- 1) < 1e-12"
   ],
   "metadata": {},
   "execution_count": null
  },
  {
   "cell_type": "markdown",
   "source": [
    "View angle of surface normal w.r.t. z-axis"
   ],
   "metadata": {}
  },
  {
   "outputs": [],
   "cell_type": "code",
   "source": [
    "if true\n",
    "    tmp = sqrt.(sum(abs2, gt_normal[:,:,1:2]; dims=3))\n",
    "    tmp = rad2deg.(atan.(tmp, gt_normal[:,:,3]))\n",
    "    pza = jim(tmp; title=\"Angle of surface normal w.r.t. z axis\",\n",
    "        ctitle=\"degrees\", cticks=0:30:90)\n",
    "end"
   ],
   "metadata": {},
   "execution_count": null
  },
  {
   "cell_type": "markdown",
   "source": [
    "## Lighting directions\n",
    "\n",
    "Define lighting directions\n",
    "for simulated object views."
   ],
   "metadata": {}
  },
  {
   "outputs": [],
   "cell_type": "code",
   "source": [
    "function light_vector( ;\n",
    "    θ = rand() * 2π,\n",
    "    r = 1/sqrt(2),\n",
    "    xoffset = 0.2,\n",
    "    yoffset = 0.2,\n",
    "    x = r * cos(θ) + xoffset,\n",
    "    y = r * sin(θ) + yoffset,\n",
    ")\n",
    "    z = sqrt(1 - x^2 - y^2)\n",
    "    return [x, y, z]\n",
    "end;"
   ],
   "metadata": {},
   "execution_count": null
  },
  {
   "cell_type": "markdown",
   "source": [
    "Deliberately asymmetric directions to aid testing"
   ],
   "metadata": {}
  },
  {
   "outputs": [],
   "cell_type": "code",
   "source": [
    "if !@isdefined(Ltrue)\n",
    "    nlight = 12 # number of lighting directions\n",
    "    Ltrue = [light_vector(; θ=il/nlight*1.7π, r=0.5-0.1*il/nlight) for il in 1:nlight]\n",
    "    Ltrue = reduce(hcat, Ltrue) # (3, nlight)\n",
    "    @assert maximum(abs, sum(abs2, Ltrue; dims=1) .- 1) < 9eps()\n",
    "    @show extrema(Ltrue[3,:])\n",
    "end;"
   ],
   "metadata": {},
   "execution_count": null
  },
  {
   "cell_type": "markdown",
   "source": [
    "Plot lighting directions"
   ],
   "metadata": {}
  },
  {
   "outputs": [],
   "cell_type": "code",
   "source": [
    "tmp = range(0, 2π, 361)\n",
    "plot(cos.(tmp), sin.(tmp); aspect_ratio=1, color=:black,\n",
    "    xaxis = (L\"x\", (-1,1)),\n",
    "    yaxis = (L\"y\", (-1,1)),\n",
    "    title = \"Lighting directions\",\n",
    ")\n",
    "pl_gt = scatter!(Ltrue[1,:], Ltrue[2,:]; label = \"True\", color=:red)"
   ],
   "metadata": {},
   "execution_count": null
  },
  {
   "outputs": [],
   "cell_type": "code",
   "source": [
    "prompt()"
   ],
   "metadata": {},
   "execution_count": null
  },
  {
   "cell_type": "markdown",
   "source": [
    "## Synthesize images\n",
    "\n",
    "Synthesize image data using Lambertian reflectance model.\n",
    "\n",
    "For the Lambertian model,\n",
    "each pixel value\n",
    "is proportional\n",
    "to the inner product\n",
    "of the lighting direction\n",
    "with the corresponding surface normal.\n",
    "\n",
    "If that inner product is zero for some pixels,\n",
    "then the image contains \"shadows\" at those pixels.\n",
    "[Wu et al., ACCV, 2011](https://doi.org/10.1007/978-3-642-19318-7_55)\n",
    "describe the `max(⋅,0)` operation below as \"attached shadows.\""
   ],
   "metadata": {}
  },
  {
   "outputs": [],
   "cell_type": "code",
   "source": [
    "if !@isdefined(images)\n",
    "    images_ideal = shape2(gt_normal) * Ltrue # hypothetical Lambertian\n",
    "    images_ideal ./= maximum(images_ideal) # normalize\n",
    "    svdval_ideal = svdvals(images_ideal)\n",
    "    images = max.(images_ideal, 0) # \"shadows\" if lighting is ≥ 90° from normal\n",
    "    svdval_images = svdvals(images)\n",
    "    images = shape3(images)\n",
    "end;"
   ],
   "metadata": {},
   "execution_count": null
  },
  {
   "cell_type": "markdown",
   "source": [
    "Note the different shadings in the different images.\n",
    "Obviously the bunny cannot \"jump around\" during the imaging..."
   ],
   "metadata": {}
  },
  {
   "outputs": [],
   "cell_type": "code",
   "source": [
    "pd = jim(images; title=\"Images for $nlight different lighting directions\",\n",
    "#  xticks = false, yticks = false, tickfontsize=12, # book\n",
    "    caxis=(\"Intensity\", (0,1), 0:1),\n",
    ")\n",
    "\n",
    "# savefig(pd, \"photometric3_data.pdf\")"
   ],
   "metadata": {},
   "execution_count": null
  },
  {
   "cell_type": "markdown",
   "source": [
    "## Low-rank structure\n",
    "\n",
    "Examine the singular values.\n",
    "Ideally\n",
    "(i.e., ignoring shadows),\n",
    "there would be (at most) 3 nonzero singular values,\n",
    "because `images_ideal`\n",
    "is the product of (`npixel` × 3) object normal matrix\n",
    "with a (3 × `nlight`) lighting direction matrix,\n",
    "so its rank is at most 3.\n",
    "\n",
    "With self-shadow effects, e.g.,\n",
    "[Barsky & Petrou, 2003, T-PAMI](https://doi.org/10.1109/TPAMI.2003.1233898),\n",
    "there are 3 dominant singular values\n",
    "and additional small but non-negligible values.\n",
    "The `images` matrix rank is not exactly 3\n",
    "because of the shadow effects."
   ],
   "metadata": {}
  },
  {
   "outputs": [],
   "cell_type": "code",
   "source": [
    "if !@isdefined(ps)\n",
    "    ps1 = scatter(svdval_ideal, label=\"Ideal\", color=:blue,\n",
    "       xaxis=(L\"k\", (1,nlight), [1,3,4,nlight]),\n",
    "       yaxis=(L\"σ_k\",), marker=:x, widen=true,\n",
    "       title=\"Singular values\")\n",
    "    scatter!(ps1, svdval_images, label=\"Realistic\", color=:red)\n",
    "\n",
    "    good = all(>(0), images, dims=3)\n",
    "    images_good = shape2(images)[vec(good),:]\n",
    "    svdval_good = svdvals(images_good)\n",
    "    scatter!(ps1, svdval_good, label=\"Good pixels\", color=:green)\n",
    "    ps4 = deepcopy(ps1)\n",
    "    ylims!(ps4, (0,5); title=\"zoom\")\n",
    "    ps = plot(ps1, ps4)\n",
    "end"
   ],
   "metadata": {},
   "execution_count": null
  },
  {
   "outputs": [],
   "cell_type": "code",
   "source": [
    "prompt()\n",
    "\n",
    "# savefig(ps, \"photometric3_svdvals.pdf\")"
   ],
   "metadata": {},
   "execution_count": null
  },
  {
   "cell_type": "markdown",
   "source": [
    "## Rank-3 approximation\n",
    "\n",
    "To make a low-rank approximation,\n",
    "collect image data into a `npixel × nlight` matrix\n",
    "and use a SVD.\n",
    "\n",
    "Estimate the lighting directions\n",
    "using _only_ the pixels with no shadows."
   ],
   "metadata": {}
  },
  {
   "outputs": [],
   "cell_type": "code",
   "source": [
    "tmp = svd(images_good)\n",
    "light1 = tmp.Vt[1:3,:] # right singular vectors\n",
    "normal1 = tmp.U[:,1:3] * Diagonal(tmp.S[1:3])\n",
    "@assert norm(images_good - normal1 * light1) / norm(images_good) < 9eps()"
   ],
   "metadata": {},
   "execution_count": null
  },
  {
   "cell_type": "markdown",
   "source": [
    "## Estimate lighting directions\n",
    "\n",
    "Apply method of\n",
    "[Hayakawa, JOSA, 1994](https://doi.org/10.1364/JOSAA.11.003079)\n",
    "to resolve non-uniqueness issue,\n",
    "under the simplifying assumption\n",
    "(satisfied here)\n",
    "that the light intensity is the same\n",
    "for all lighting directions.\n",
    "\n",
    "That method does not explicitly exploit\n",
    "the fact that $A'A$ is positive semi-definite.\n",
    "Challenge:\n",
    "develop method that does use that property."
   ],
   "metadata": {}
  },
  {
   "outputs": [],
   "cell_type": "code",
   "source": [
    "Abig = reduce(vcat, map(c -> kron(c', c'), eachcol(light1)))\n",
    "tmp = Abig \\ ones(nlight)\n",
    "B = reshape(tmp, 3, 3) # B = A'A\n",
    "@assert B ≈ B' # (symmetry check)\n",
    "A = sqrt(B)\n",
    "@assert A'A ≈ B\n",
    "light2 = A * light1\n",
    "@assert maximum(abs, sum(abs2, light2, dims=1) .- 1) < 30eps()\n",
    "\n",
    "normal2 = normal1 * inv(A)\n",
    "@assert norm(images_good - normal2 * light2) / norm(images_good) < 10eps()\n",
    "@assert maximum(abs, norm.(eachrow(normal2)) .- 1) < 9e-6 # already unit norm!"
   ],
   "metadata": {},
   "execution_count": null
  },
  {
   "cell_type": "markdown",
   "source": [
    "As described in\n",
    "[Hayakawa, JOSA, 1994](https://doi.org/10.1364/JOSAA.11.003079),\n",
    "the estimated lighting and surface normals\n",
    "are in an arbitrary 3D coordinate system.\n",
    "To display them in a useful way,\n",
    "we use the Procrustes method\n",
    "to align the coordinate system\n",
    "with that of the original lighting."
   ],
   "metadata": {}
  },
  {
   "outputs": [],
   "cell_type": "code",
   "source": [
    "if true\n",
    "    tmp = Ltrue[:,1:3] * light2[:,1:3]' # use just the first 3 sources\n",
    "    tmp = svd(tmp)\n",
    "    tmp = tmp.U * tmp.Vt\n",
    "    light3 = tmp * light2\n",
    "    normal3 = normal2 * tmp'\n",
    "    @assert norm(images_good - normal3 * light3) / norm(images_good) < 10eps()\n",
    "end"
   ],
   "metadata": {},
   "execution_count": null
  },
  {
   "cell_type": "markdown",
   "source": [
    "Plot estimated lighting directions\n",
    "(after coordinate system alignment)"
   ],
   "metadata": {}
  },
  {
   "outputs": [],
   "cell_type": "code",
   "source": [
    "tmp = deepcopy(pl_gt)\n",
    "pl = scatter!(tmp, light3[1,:], light3[2,:],\n",
    "    marker = :x, label = \"Estimated\", color=:blue)"
   ],
   "metadata": {},
   "execution_count": null
  },
  {
   "outputs": [],
   "cell_type": "code",
   "source": [
    "prompt()"
   ],
   "metadata": {},
   "execution_count": null
  },
  {
   "cell_type": "markdown",
   "source": [
    "## Estimate surface normals.\n",
    "\n",
    "Having estimated the lighting directions,\n",
    "return to estimate the surface normals\n",
    "for _all_ pixels,\n",
    "not just the \"good\" pixels."
   ],
   "metadata": {}
  },
  {
   "outputs": [],
   "cell_type": "code",
   "source": [
    "normal3 = shape3(shape2(images) * pinv(light3));"
   ],
   "metadata": {},
   "execution_count": null
  },
  {
   "cell_type": "markdown",
   "source": [
    "Examine the estimated surface normals.\n",
    "The accuracy is very good,\n",
    "except in the shadow regions."
   ],
   "metadata": {}
  },
  {
   "outputs": [],
   "cell_type": "code",
   "source": [
    "pn_hat = jim(normal3; nrow=1, title=\"Estimated normals\",\n",
    "    xticks = false, yticks = false, labelfontsize = 16, tickfontsize=12,\n",
    "    left_margin = 20px, right_margin = 30px,\n",
    "#  xaxis=L\"x\", yaxis=L\"y\",\n",
    "    size=(600,200), clim=(-1,1), colorbar_ticks=-1:1,\n",
    ")\n",
    "# savefig(pn_hat, \"photometric3_hat.pdf\")\n",
    "RGB255(args...) = RGB((args ./ 255)...)\n",
    "color = cgrad([RGB255(230, 80, 65), :black, RGB255(23, 120, 232)])\n",
    "pn_d = jim(normal3 - gt_normal; nrow=1, title=\"Difference\", color,\n",
    "    xticks = false, yticks = false, labelfontsize = 16, tickfontsize=12,\n",
    "    left_margin = 20px, right_margin = 30px,\n",
    "    xaxis=L\"x\", yaxis=L\"y\", size=(600,200), clim=(-1,1), colorbar_ticks=-1:1,\n",
    ")\n",
    "pn = jim(\n",
    " pn_gt,\n",
    " pn_hat,\n",
    " pn_d,\n",
    " layout=(3,1),\n",
    " size=(550, 600),\n",
    ")\n",
    "\n",
    "# savefig(pn, \"photometric3_pn1.pdf\")"
   ],
   "metadata": {},
   "execution_count": null
  },
  {
   "cell_type": "markdown",
   "source": [
    "This demo illustrates the utility of the SVD\n",
    "and low-rank matrix approximation.\n",
    "\n",
    "More advanced methods\n",
    "handle shadows by allowing sparse errors, e.g.,\n",
    "* [Wu et al., ACCV 2011](https://doi.org/10.1007/978-3-642-19318-7_55)\n",
    "* [Ikehata et al., CVPR 2012](https://doi.org/10.1109/CVPR.2012.6247691),\n",
    "or handle more general lighting conditions, e.g.,\n",
    "* [Basri & Jacobs, CVPR 2001](https://doi.org/10.1109/CVPR.2001.990985)."
   ],
   "metadata": {}
  },
  {
   "cell_type": "markdown",
   "source": [
    "## Exercise\n",
    "\n",
    "Apply the method described above\n",
    "to the bunny data used in\n",
    "[Ikehata et al., CVPR 2012](https://doi.org/10.1109/CVPR.2012.6247691).\n",
    "This is a set of 50 images\n",
    "under various lighting directions.\n",
    "\n",
    "As a starting point,\n",
    "here we load that data."
   ],
   "metadata": {}
  },
  {
   "outputs": [],
   "cell_type": "code",
   "source": [
    "if !@isdefined(images_bunny)\n",
    "    url0 = \"https://github.com/yasumat/RobustPhotometricStereo/raw/master/data/bunny/bunny_lambert/image000.npy\"\n",
    "\n",
    "    index_bunny = 0:5:45 # just load 10 of the 50\n",
    "    nlight_bunny = length(index_bunny)\n",
    "    tmp = download(url0)\n",
    "    x = npzread(tmp)\n",
    "\n",
    "    dim = size(x)[1:2]\n",
    "    images_bunny = zeros(Float32, dim..., nlight_bunny)\n",
    "    images_bunny[:,:,1] = x[:,:,1]'\n",
    "\n",
    "    for (iz, index) in enumerate(index_bunny[2:end])\n",
    "        id3 = @sprintf(\"%03d\", index)\n",
    "        @show id3\n",
    "        url1 = replace(url0, \"000\" => id3)\n",
    "        xtmp = npzread(download(url1))\n",
    "        images_bunny[:,:,iz+1] = xtmp[:,:,1]'\n",
    "    end\n",
    "    images_bunny ./= maximum(images_bunny) # normalize\n",
    "end\n",
    "pb = jim(images_bunny; title=\"Images for different lighting directions\")"
   ],
   "metadata": {},
   "execution_count": null
  },
  {
   "cell_type": "markdown",
   "source": [
    "For reference,\n",
    "here are the ground truth lighting directions."
   ],
   "metadata": {}
  },
  {
   "outputs": [],
   "cell_type": "code",
   "source": [
    "if !@isdefined(gt_lights)\n",
    "    url = \"https://github.com/yasumat/RobustPhotometricStereo/raw/master/data/bunny/lights.npy\"\n",
    "    gt_lights = npzread(download(url))\n",
    "    gt_lights = gt_lights'[:,index_bunny .+ 1]\n",
    "end\n",
    "pl_gtb = scatter(eachrow(gt_lights)...,\n",
    "   xaxis = (L\"x\", (-0.8, 0.8), (-1:1)*0.8),\n",
    "   yaxis = (L\"y\", (-0.8, 0.8), (-1:1)*0.8),\n",
    "   zaxis = (L\"z\", (0.4, 1.0), [0.4, 0.69, 0.96]),\n",
    "   title = \"True lighting directions\",\n",
    ")"
   ],
   "metadata": {},
   "execution_count": null
  },
  {
   "outputs": [],
   "cell_type": "code",
   "source": [
    "prompt()"
   ],
   "metadata": {},
   "execution_count": null
  },
  {
   "cell_type": "markdown",
   "source": [
    "If needed, here is the url for the mask:\n",
    "* https://raw.githubusercontent.com/yasumat/RobustPhotometricStereo/master/data/bunny/mask.png"
   ],
   "metadata": {}
  },
  {
   "cell_type": "markdown",
   "source": [
    "---\n",
    "\n",
    "*This notebook was generated using [Literate.jl](https://github.com/fredrikekre/Literate.jl).*"
   ],
   "metadata": {}
  }
 ],
 "nbformat_minor": 3,
 "metadata": {
  "language_info": {
   "file_extension": ".jl",
   "mimetype": "application/julia",
   "name": "julia",
   "version": "1.11.6"
  },
  "kernelspec": {
   "name": "julia-1.11",
   "display_name": "Julia 1.11.6",
   "language": "julia"
  }
 },
 "nbformat": 4
}

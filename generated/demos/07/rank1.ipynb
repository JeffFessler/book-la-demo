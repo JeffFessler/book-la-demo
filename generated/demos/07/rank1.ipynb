{
 "cells": [
  {
   "cell_type": "markdown",
   "source": [
    "# Rank-1 approximation\n",
    "\n",
    "This example illustrates rank-1 approximations\n",
    "using the Julia language."
   ],
   "metadata": {}
  },
  {
   "cell_type": "markdown",
   "source": [
    "## Setup\n",
    "Add the Julia packages used in this demo.\n",
    "Change `false` to `true` in the following code block\n",
    "if you are using any of the following packages for the first time."
   ],
   "metadata": {}
  },
  {
   "outputs": [],
   "cell_type": "code",
   "source": [
    "if false\n",
    "    import Pkg\n",
    "    Pkg.add([\n",
    "        \"InteractiveUtils\"\n",
    "        \"LaTeXStrings\"\n",
    "        \"LinearAlgebra\"\n",
    "        \"MIRTjim\"\n",
    "        \"Plots\"\n",
    "        \"Random\"\n",
    "    ])\n",
    "end"
   ],
   "metadata": {},
   "execution_count": null
  },
  {
   "cell_type": "markdown",
   "source": [
    "Tell Julia to use the following packages.\n",
    "Run `Pkg.add()` in the preceding code block first, if needed."
   ],
   "metadata": {}
  },
  {
   "outputs": [],
   "cell_type": "code",
   "source": [
    "using InteractiveUtils: versioninfo\n",
    "using LaTeXStrings\n",
    "using LinearAlgebra: svd, rank\n",
    "using MIRTjim: prompt\n",
    "using Plots: default, plot!, scatter, scatter!, savefig\n",
    "using Random: seed!\n",
    "default(); default(label=\"\", markerstrokecolor=:auto,\n",
    "    guidefontsize=14, legendfontsize=14, tickfontsize=12)"
   ],
   "metadata": {},
   "execution_count": null
  },
  {
   "cell_type": "markdown",
   "source": [
    "The following line is helpful when running this jl-file as a script;\n",
    "this way it will prompt user to hit a key after each image is displayed."
   ],
   "metadata": {}
  },
  {
   "outputs": [],
   "cell_type": "code",
   "source": [
    "isinteractive() && prompt(:prompt);"
   ],
   "metadata": {},
   "execution_count": null
  },
  {
   "cell_type": "markdown",
   "source": [
    "## Generate data"
   ],
   "metadata": {}
  },
  {
   "cell_type": "markdown",
   "source": [
    "Noisy data with slope=1.  Both x and y values are noisy!"
   ],
   "metadata": {}
  },
  {
   "outputs": [],
   "cell_type": "code",
   "source": [
    "seed!(0)\n",
    "x0 = 1:8 # true x locations\n",
    "x = x0 + 2*randn(size(x0)) # called \"errors in variables\"\n",
    "y = x0 + 2*randn(size(x0)); # noisy samples"
   ],
   "metadata": {},
   "execution_count": null
  },
  {
   "cell_type": "markdown",
   "source": [
    "Plotting utility function"
   ],
   "metadata": {}
  },
  {
   "outputs": [],
   "cell_type": "code",
   "source": [
    "lineplot = (p, s, c, l; w=3, t=:dash) ->\n",
    "    plot!(p, 0:10, (0:10)*s, line=(c,t), label=l, width=w)\n",
    "function plotdata()\n",
    "    p = scatter(x, y, label=\"data\", legend=:bottomright,\n",
    "        color=:blue, markersize=7, aspect_ratio=:equal,\n",
    "        xaxis = (L\"x\", (0, 10), 0:4:8),\n",
    "        yaxis = (L\"y\", (0, 10), 0:4:8),\n",
    "    )\n",
    "    lineplot(p, 1, :red, \"true\", t=:solid, w=2)\n",
    "end\n",
    "pl = plotdata()"
   ],
   "metadata": {},
   "execution_count": null
  },
  {
   "outputs": [],
   "cell_type": "code",
   "source": [
    "prompt()"
   ],
   "metadata": {},
   "execution_count": null
  },
  {
   "cell_type": "markdown",
   "source": [
    "## Rank-1 approximation"
   ],
   "metadata": {}
  },
  {
   "cell_type": "markdown",
   "source": [
    "To make a low-rank approximation, collect data into a matrix"
   ],
   "metadata": {}
  },
  {
   "outputs": [],
   "cell_type": "code",
   "source": [
    "A = [x'; y']"
   ],
   "metadata": {},
   "execution_count": null
  },
  {
   "cell_type": "markdown",
   "source": [
    "Examine singular values"
   ],
   "metadata": {}
  },
  {
   "outputs": [],
   "cell_type": "code",
   "source": [
    "U, s, V = svd(A)\n",
    "s # 2nd singular value is much smaller than 1st"
   ],
   "metadata": {},
   "execution_count": null
  },
  {
   "cell_type": "markdown",
   "source": [
    "Construct rank-1 approximation"
   ],
   "metadata": {}
  },
  {
   "outputs": [],
   "cell_type": "code",
   "source": [
    "B = U[:,1] * s[1] * V[:,1]' # rank-1 approximation\n",
    "rank(B)"
   ],
   "metadata": {},
   "execution_count": null
  },
  {
   "outputs": [],
   "cell_type": "code",
   "source": [
    "B"
   ],
   "metadata": {},
   "execution_count": null
  },
  {
   "cell_type": "markdown",
   "source": [
    "### Plot rank-1 approximation"
   ],
   "metadata": {}
  },
  {
   "outputs": [],
   "cell_type": "code",
   "source": [
    "xb = B[1,:]\n",
    "yb = B[2,:]\n",
    "\n",
    "lineplot(pl, (xb\\yb)[1], :black, \"\")\n",
    "scatter!(pl, xb, yb, color=:black, markersize=5, marker=:square, label=\"rank1\")"
   ],
   "metadata": {},
   "execution_count": null
  },
  {
   "outputs": [],
   "cell_type": "code",
   "source": [
    "prompt()"
   ],
   "metadata": {},
   "execution_count": null
  },
  {
   "cell_type": "markdown",
   "source": [
    "## Use least-squares estimation to estimate slope:"
   ],
   "metadata": {}
  },
  {
   "outputs": [],
   "cell_type": "code",
   "source": [
    "slope = y'*x / (x'*x) # cf inv(A'A) * A'b\n",
    "slope = (x \\ y)[1] # cf A \\ b"
   ],
   "metadata": {},
   "execution_count": null
  },
  {
   "cell_type": "markdown",
   "source": [
    "### Plot the LS fit and the low-rank approximation on same graph"
   ],
   "metadata": {}
  },
  {
   "outputs": [],
   "cell_type": "code",
   "source": [
    "pa = lineplot(pl, slope, :green, \"LS\")"
   ],
   "metadata": {},
   "execution_count": null
  },
  {
   "outputs": [],
   "cell_type": "code",
   "source": [
    "prompt()\n",
    "\n",
    "# savefig(pa, \"06_low_rank1_all.pdf\")"
   ],
   "metadata": {},
   "execution_count": null
  },
  {
   "cell_type": "markdown",
   "source": [
    "## Illustrate the Frobenius norm approximation error graphically"
   ],
   "metadata": {}
  },
  {
   "outputs": [],
   "cell_type": "code",
   "source": [
    "pf = plotdata()\n",
    "for i in 1:length(xb)\n",
    "    plot!(pf, [x[i], xb[i]], [y[i], yb[i]], color=:black, width=2)\n",
    "end\n",
    "lineplot(pf, (xb\\yb)[1], :black, \"\")\n",
    "scatter!(pf, xb, yb, color=:black, markersize=5, marker=:square, label=\"rank1\")"
   ],
   "metadata": {},
   "execution_count": null
  },
  {
   "outputs": [],
   "cell_type": "code",
   "source": [
    "prompt()\n",
    "\n",
    "# savefig(pf, \"06_low_rank1_r1.pdf\")"
   ],
   "metadata": {},
   "execution_count": null
  },
  {
   "cell_type": "markdown",
   "source": [
    "## Illustrate the LS residual graphically"
   ],
   "metadata": {}
  },
  {
   "outputs": [],
   "cell_type": "code",
   "source": [
    "xl = x; yl = slope*xl # LS points\n",
    "ps = plotdata()\n",
    "for i in 1:length(x)\n",
    "    plot!(ps, [x[i], xl[i]], [y[i], yl[i]], color=:green, width=2)\n",
    "end\n",
    "lineplot(ps, slope, :green, \"\")\n",
    "scatter!(ps, xl, yl, color=:green, markersize=5, marker=:square, label=\"LS\")"
   ],
   "metadata": {},
   "execution_count": null
  },
  {
   "outputs": [],
   "cell_type": "code",
   "source": [
    "prompt()\n",
    "\n",
    "# savefig(ps, \"06_low_rank1_ls.pdf\")"
   ],
   "metadata": {},
   "execution_count": null
  },
  {
   "cell_type": "markdown",
   "source": [
    "---\n",
    "\n",
    "*This notebook was generated using [Literate.jl](https://github.com/fredrikekre/Literate.jl).*"
   ],
   "metadata": {}
  }
 ],
 "nbformat_minor": 3,
 "metadata": {
  "language_info": {
   "file_extension": ".jl",
   "mimetype": "application/julia",
   "name": "julia",
   "version": "1.11.6"
  },
  "kernelspec": {
   "name": "julia-1.11",
   "display_name": "Julia 1.11.6",
   "language": "julia"
  }
 },
 "nbformat": 4
}

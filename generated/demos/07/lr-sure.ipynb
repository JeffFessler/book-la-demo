{
 "cells": [
  {
   "cell_type": "markdown",
   "source": [
    "# Low-Rank SURE\n",
    "\n",
    "This example illustrates\n",
    "Stein's unbiased risk estimation (SURE)\n",
    "for parameter selection\n",
    "in low-rank matrix approximation,\n",
    "using the Julia language."
   ],
   "metadata": {}
  },
  {
   "cell_type": "markdown",
   "source": [
    "## Setup\n",
    "Add the Julia packages used in this demo.\n",
    "Change `false` to `true` in the following code block\n",
    "if you are using any of the following packages for the first time."
   ],
   "metadata": {}
  },
  {
   "outputs": [],
   "cell_type": "code",
   "source": [
    "if false\n",
    "    import Pkg\n",
    "    Pkg.add([\n",
    "        \"InteractiveUtils\"\n",
    "        \"LaTeXStrings\"\n",
    "        \"LinearAlgebra\"\n",
    "        \"MIRTjim\"\n",
    "        \"Plots\"\n",
    "        \"Random\"\n",
    "    ])\n",
    "end"
   ],
   "metadata": {},
   "execution_count": null
  },
  {
   "cell_type": "markdown",
   "source": [
    "Tell Julia to use the following packages.\n",
    "Run `Pkg.add()` in the preceding code block first, if needed."
   ],
   "metadata": {}
  },
  {
   "outputs": [],
   "cell_type": "code",
   "source": [
    "using InteractiveUtils: versioninfo\n",
    "using LaTeXStrings\n",
    "using LinearAlgebra: svd, svdvals, Diagonal, norm\n",
    "using MIRTjim: prompt\n",
    "using Plots: default, gui, plot, plot!, scatter!, savefig\n",
    "using Random: seed!\n",
    "default(); default(label=\"\", markerstrokecolor=:auto, markersize=7,\n",
    "    labelfontsize=20, tickfontsize=16, legendfontsize=17, widen=true)"
   ],
   "metadata": {},
   "execution_count": null
  },
  {
   "cell_type": "markdown",
   "source": [
    "The following line is helpful when running this jl-file as a script;\n",
    "this way it will prompt user to hit a key after each image is displayed."
   ],
   "metadata": {}
  },
  {
   "outputs": [],
   "cell_type": "code",
   "source": [
    "isinteractive() && prompt(:prompt);"
   ],
   "metadata": {},
   "execution_count": null
  },
  {
   "cell_type": "markdown",
   "source": [
    "## Generate data"
   ],
   "metadata": {}
  },
  {
   "cell_type": "markdown",
   "source": [
    "Noiseless low-rank matrix and noisy data matrix"
   ],
   "metadata": {}
  },
  {
   "outputs": [],
   "cell_type": "code",
   "source": [
    "M, N = 100, 50 # problem size\n",
    "seed!(0)\n",
    "Ktrue = 5 # true rank (planted model)\n",
    "X = svd(randn(M,Ktrue)).U * Diagonal(1:Ktrue) * svd(randn(Ktrue,N)).Vt\n",
    "sig0 = 0.03 # noise standard deviation\n",
    "Y = X + sig0 * randn(size(X)) # noisy\n",
    "sy = svdvals(Y)\n",
    "sx = svdvals(X)\n",
    "sx[1:Ktrue]"
   ],
   "metadata": {},
   "execution_count": null
  },
  {
   "outputs": [],
   "cell_type": "code",
   "source": [
    "sy[1:Ktrue]"
   ],
   "metadata": {},
   "execution_count": null
  },
  {
   "cell_type": "markdown",
   "source": [
    "### Plot singular values"
   ],
   "metadata": {}
  },
  {
   "outputs": [],
   "cell_type": "code",
   "source": [
    "ps = plot(xaxis = (L\"k\", (1,N), [1, Ktrue, N]), yaxis = (L\"σ\", (0,5.5), 0:5))\n",
    "scatter!(1:N, sy, color=:red, marker=:hexagon,\n",
    " label=L\"\\sigma_k(Y) \\ \\mathrm{noisy}\")\n",
    "scatter!(1:N, sx, color=:blue, label=L\"\\sigma_k(X) \\ \\mathrm{noiseless}\")"
   ],
   "metadata": {},
   "execution_count": null
  },
  {
   "outputs": [],
   "cell_type": "code",
   "source": [
    "prompt()\n",
    "\n",
    "# savefig(ps, \"lr_sure1s.pdf\")"
   ],
   "metadata": {},
   "execution_count": null
  },
  {
   "cell_type": "markdown",
   "source": [
    "## Low-rank approximation with various ranks"
   ],
   "metadata": {}
  },
  {
   "outputs": [],
   "cell_type": "code",
   "source": [
    "(U, sy, V) = svd(Y)\n",
    "nrmse_K = zeros(N)\n",
    "nrmsd_K = zeros(N)\n",
    "nrmsd = (D) -> norm(D) / norm(Y) * 100\n",
    "nrmse = (D) -> norm(D) / norm(X) * 100\n",
    "for K in 1:N\n",
    "    Xh = U[:,1:K] * Diagonal(sy[1:K]) * V[:,1:K]'\n",
    "    nrmsd_K[K] = nrmsd(Xh - Y)\n",
    "    nrmse_K[K] = nrmse(Xh - X)\n",
    "end\n",
    "nrmsd_K = [nrmsd(0 .- Y); nrmsd_K]\n",
    "nrmse_K = [nrmse(0 .- X); nrmse_K]\n",
    "klist = 0:N;"
   ],
   "metadata": {},
   "execution_count": null
  },
  {
   "cell_type": "markdown",
   "source": [
    "### Plot normalized root mean-squared error/difference versus rank K"
   ],
   "metadata": {}
  },
  {
   "outputs": [],
   "cell_type": "code",
   "source": [
    "pk = plot( # legend=:outertop,\n",
    "    xaxis = (L\"K\", (1,N), [0, 2, Ktrue, N]),\n",
    "    yaxis = (\"'Error' [%]\", (0, 100), 0:20:100),\n",
    ")\n",
    "scatter!(klist, nrmse_K, color=:blue,\n",
    "    label=L\"\\mathrm{NRMSE\\ } ‖ \\! \\hat{X}_K - X \\ ‖_{\\mathrm{F}} / ‖X \\ ‖_{\\mathrm{F}} \\cdot 100\\%\",\n",
    ")\n",
    "scatter!(klist, nrmsd_K, color=:red, marker=:diamond,\n",
    "    label=L\"\\mathrm{NRMSD\\ } ‖ \\! \\hat{X}_K - Y \\ ‖_{\\mathrm{F}} / ‖Y \\ ‖_{\\mathrm{F}} \\cdot 100\\%\",\n",
    ")"
   ],
   "metadata": {},
   "execution_count": null
  },
  {
   "outputs": [],
   "cell_type": "code",
   "source": [
    "prompt()\n",
    "\n",
    "# savefig(pk, \"lr_sure1a.pdf\")"
   ],
   "metadata": {},
   "execution_count": null
  },
  {
   "cell_type": "markdown",
   "source": [
    "## Explore (nuclear norm) regularized version"
   ],
   "metadata": {}
  },
  {
   "outputs": [],
   "cell_type": "code",
   "source": [
    "soft = (s,β) -> max.(s-β,0) # soft threshold function\n",
    "dsoft = (s,β) -> Float32.(s .> β) # \"derivative\" thereof\n",
    "reglist = [range(0, 0.5, 11); 0.75:0.25:6]\n",
    "Nr = length(reglist)\n",
    "nrmse_reg = zeros(Nr)\n",
    "nrmsd_reg = zeros(Nr)\n",
    "for ir in 1:Nr\n",
    "    reg = reglist[ir]\n",
    "    Xh = U * Diagonal(soft.(sy,reg)) * V'\n",
    "    nrmsd_reg[ir] = nrmsd(Xh - Y)\n",
    "    nrmse_reg[ir] = nrmse(Xh - X)\n",
    "end;"
   ],
   "metadata": {},
   "execution_count": null
  },
  {
   "cell_type": "markdown",
   "source": [
    "### Plot NRMSE and NRMSD versus regularization parameter"
   ],
   "metadata": {}
  },
  {
   "outputs": [],
   "cell_type": "code",
   "source": [
    "pb = plot(legend=:topleft, xaxis = (L\"β\", (0,6), 0:6),\n",
    "    yaxis = (\"'Error' [%]\", (0, 100), 0:20:100))\n",
    "scatter!(reglist, nrmse_reg, color=:blue,\n",
    "    label=L\"\\mathrm{NRMSE\\ } ‖ \\! \\hat{X}_{\\beta} - X \\ ‖_{\\mathrm{F}} / ‖X \\ ‖_{\\mathrm{F}} \\cdot 100\\%\",\n",
    "#  label=L\"\\mathrm{NRMSE}\", # book\n",
    ")\n",
    "scatter!(reglist, nrmsd_reg, color=:red, marker=:diamond,\n",
    "    label=L\"\\mathrm{NRMSD\\ } ‖ \\! \\hat{X}_{\\beta} - Y \\ ‖_{\\mathrm{F}} / ‖Y \\ ‖_{\\mathrm{F}} \\cdot 100\\%\",\n",
    "#  label=L\"\\mathrm{NRMSD}\", # book\n",
    ")"
   ],
   "metadata": {},
   "execution_count": null
  },
  {
   "outputs": [],
   "cell_type": "code",
   "source": [
    "prompt()\n",
    "\n",
    "# savefig(pb, \"lr_sure1b.pdf\")"
   ],
   "metadata": {},
   "execution_count": null
  },
  {
   "cell_type": "markdown",
   "source": [
    "## Explore SURE for selecting $β$\n",
    "\n",
    "$$\n",
    "\\mathrm{SURE}(β) = ‖ \\hat{X} - Y ‖^2 - MN \\sigma_0^2\n",
    " + 2 σ_0^2 \\left( |M - N| \\sum_{i=1}^{\\min(M,N)} \\frac{h(σ_iσ)}{σ_i}\n",
    " + \\sum_{i=1}^{\\min(M,N)} \\dot{h}_i(σ_i;β)\n",
    " + 2 \\sum_{i \\neq j}^{\\min(M,N)} \\frac{σ_i h_i(σ_i;β)}{σ_i^2 - σ_j^2} \\right)\n",
    "$$\n",
    "\n",
    "- `sy` singular values of Y\n",
    "- `reg` regularization parameter\n",
    "- `v0 = sigma_0^2` noise variance"
   ],
   "metadata": {}
  },
  {
   "outputs": [],
   "cell_type": "code",
   "source": [
    "function sure(sy, reg, v0, M, N)\n",
    "    sh = soft.(sy, reg) # estimated singular values\n",
    "    big = sy.^2 .- (sy.^2)'\n",
    "    big[big .== 0] .= Inf # trick to avoid divide by 0\n",
    "    big = (sy .* sh) ./ big # [sy[i] * sh[i] / big[i,j] for i in 1:N, j in 1:N]\n",
    "    big = sum(big)\n",
    "    norm(sh - sy)^2 - M*N*v0 + 2*v0*(abs(M-N)*sum(sh ./ sy) + sum(dsoft.(sy,reg)) + 2*big)\n",
    "end"
   ],
   "metadata": {},
   "execution_count": null
  },
  {
   "cell_type": "markdown",
   "source": [
    "### Evaluate SURE for each candidate regularization parameter"
   ],
   "metadata": {}
  },
  {
   "outputs": [],
   "cell_type": "code",
   "source": [
    "sure_reg = [sure(sy, reglist[ir], sig0^2, M, N) for ir in 1:Nr]\n",
    "reg_best = reglist[argmin(sure_reg)] # SURE pick for β"
   ],
   "metadata": {},
   "execution_count": null
  },
  {
   "cell_type": "markdown",
   "source": [
    "### Plot NRMSE and NRMSD versus regularization parameter"
   ],
   "metadata": {}
  },
  {
   "outputs": [],
   "cell_type": "code",
   "source": [
    "psb = plot(legend=:bottomright, widen=true,\n",
    "    xaxis = (L\"β\", (0,6), [reg_best, 5, 6]),\n",
    "    yaxis = (\"'Error' [%]\", (0,100), 0:20:100),\n",
    ")\n",
    "scatter!(reglist, nrmse_reg, color=:blue,\n",
    "    label=L\"\\mathrm{NRMSE\\ } ‖ \\! \\hat{X}_\\beta - X \\ ‖_{\\mathrm{F}} / ‖X \\ ‖_{\\mathrm{F}} \\cdot 100\\%\",\n",
    "#  label=L\"\\mathrm{NRMSE}\", # book\n",
    ")\n",
    "scatter!(reglist, nrmsd_reg, color=:red, marker=:diamond,\n",
    "    label=L\"\\mathrm{NRMSD\\ } ‖ \\! \\hat{X}_\\beta - Y \\ ‖_{\\mathrm{F}} / ‖Y \\ ‖_{\\mathrm{F}} \\cdot 100\\%\",\n",
    "#  label=L\"\\mathrm{NRMSD}\", # book\n",
    ")\n",
    "scatter!(reglist, sqrt.(sure_reg)/norm(Y)*100, color=:green, marker=:star,\n",
    "    label=L\"(\\mathrm{SURE}(\\beta))^{1/2} / ‖Y \\ ‖_{\\mathrm{F}} \\cdot 100\\%\")"
   ],
   "metadata": {},
   "execution_count": null
  },
  {
   "outputs": [],
   "cell_type": "code",
   "source": [
    "prompt()\n",
    "\n",
    "# savefig(psb, \"lr_sure1c.pdf\")"
   ],
   "metadata": {},
   "execution_count": null
  },
  {
   "cell_type": "markdown",
   "source": [
    "### Examine shrunk singular values for best regularization parameter"
   ],
   "metadata": {}
  },
  {
   "outputs": [],
   "cell_type": "code",
   "source": [
    "sh = soft.(sy,reg_best)\n",
    "psk = plot(\n",
    "    xaxis = (L\"k\", (1, N), [1, Ktrue, sum(sh .!= 0), N]),\n",
    "    yaxis = (L\"σ\", (0, 5.5), 0:6),\n",
    "    legendfontsize = 20,\n",
    ")\n",
    "scatter!(1:N, sy, color=:red, marker=:hexagon, label=L\"\\sigma(Y) \\ \\mathrm{noisy}\")\n",
    "scatter!(1:N, sx, color=:blue, label=L\"\\sigma(X) \\ \\mathrm{noiseless}\")\n",
    "scatter!(1:N, sh, color=:green, marker=:star, label=L\"\\hat{\\sigma} \\ \\ \\mathrm{SURE} \\ \\hat{\\beta}\")"
   ],
   "metadata": {},
   "execution_count": null
  },
  {
   "outputs": [],
   "cell_type": "code",
   "source": [
    "prompt()\n",
    "\n",
    "# savefig(psk, \"lr_sure1t.pdf\")"
   ],
   "metadata": {},
   "execution_count": null
  },
  {
   "cell_type": "markdown",
   "source": [
    "---\n",
    "\n",
    "*This notebook was generated using [Literate.jl](https://github.com/fredrikekre/Literate.jl).*"
   ],
   "metadata": {}
  }
 ],
 "nbformat_minor": 3,
 "metadata": {
  "language_info": {
   "file_extension": ".jl",
   "mimetype": "application/julia",
   "name": "julia",
   "version": "1.11.6"
  },
  "kernelspec": {
   "name": "julia-1.11",
   "display_name": "Julia 1.11.6",
   "language": "julia"
  }
 },
 "nbformat": 4
}

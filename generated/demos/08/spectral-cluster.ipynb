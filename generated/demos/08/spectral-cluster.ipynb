{
 "cells": [
  {
   "cell_type": "markdown",
   "source": [
    "# Spectral clustering\n",
    "\n",
    "This example illustrates\n",
    "[spectral clustering](https://en.wikipedia.org/wiki/Spectral_clustering)\n",
    "via normalized graph Laplacian\n",
    "applied to hand-written digits."
   ],
   "metadata": {}
  },
  {
   "cell_type": "markdown",
   "source": [
    "## Setup\n",
    "\n",
    "Add the Julia packages used in this demo.\n",
    "Change `false` to `true` in the following code block\n",
    "if you are using any of the following packages for the first time."
   ],
   "metadata": {}
  },
  {
   "outputs": [],
   "cell_type": "code",
   "source": [
    "if false\n",
    "    import Pkg\n",
    "    Pkg.add([\n",
    "        \"Clustering\"\n",
    "        \"InteractiveUtils\"\n",
    "        \"LaTeXStrings\"\n",
    "        \"LinearAlgebra\"\n",
    "        \"MIRTjim\"\n",
    "        \"MLDatasets\"\n",
    "        \"Plots\"\n",
    "        \"Random\"\n",
    "        \"StatsBase\"\n",
    "    ])\n",
    "end"
   ],
   "metadata": {},
   "execution_count": null
  },
  {
   "cell_type": "markdown",
   "source": [
    "Tell Julia to use the following packages.\n",
    "Run `Pkg.add()` in the preceding code block first, if needed."
   ],
   "metadata": {}
  },
  {
   "outputs": [],
   "cell_type": "code",
   "source": [
    "using Clustering: kmeans\n",
    "using InteractiveUtils: versioninfo\n",
    "using LaTeXStrings # pretty plot labels\n",
    "using LinearAlgebra: I, norm, Diagonal, eigen\n",
    "using MIRTjim: jim, prompt\n",
    "using MLDatasets: MNIST\n",
    "using Plots: default, gui, plot, scatter, plot!, scatter!\n",
    "using Random: seed!, randperm\n",
    "using StatsBase: mean\n",
    "default(); default(markersize=5, markerstrokecolor=:auto, label=\"\")"
   ],
   "metadata": {},
   "execution_count": null
  },
  {
   "cell_type": "markdown",
   "source": [
    "The following line is helpful when running this file as a script;\n",
    "this way it will prompt user to hit a key after each figure is displayed."
   ],
   "metadata": {}
  },
  {
   "outputs": [],
   "cell_type": "code",
   "source": [
    "isinteractive() ? jim(:prompt, true) : prompt(:draw);"
   ],
   "metadata": {},
   "execution_count": null
  },
  {
   "cell_type": "markdown",
   "source": [
    "## Load data\n",
    "\n",
    "Read the MNIST data for some handwritten digits.\n",
    "This code will automatically download the data from web if needed\n",
    "and put it in a folder like: `~/.julia/datadeps/MNIST/`."
   ],
   "metadata": {}
  },
  {
   "outputs": [],
   "cell_type": "code",
   "source": [
    "if !@isdefined(data)\n",
    "    digitn = (0, 1, 3) # which digits to use\n",
    "    isinteractive() || (ENV[\"DATADEPS_ALWAYS_ACCEPT\"] = true) # avoid prompt\n",
    "    dataset = MNIST(Float32, :train)\n",
    "    nrep = 30\n",
    "    # function to extract the 1st 1000 examples of digit n:\n",
    "    data = n -> dataset.features[:,:,findall(==(n), dataset.targets)[1:nrep]]\n",
    "    data = cat(dims=4, data.(digitn)...)\n",
    "    labels = vcat([fill(d, nrep) for d in digitn]...) # to check later\n",
    "    nx, ny, nrep, ndigit = size(data)\n",
    "    data = data[:,2:ny,:,:] # make images non-square to force debug\n",
    "    ny = size(data,2)\n",
    "    data = reshape(data, nx, ny, :)\n",
    "    seed!(0)\n",
    "    tmp = randperm(nrep * ndigit)\n",
    "    data = data[:,:,tmp]\n",
    "    labels = labels[tmp]\n",
    "    size(data) # (nx, ny, nrep*ndigit)\n",
    "end"
   ],
   "metadata": {},
   "execution_count": null
  },
  {
   "cell_type": "markdown",
   "source": [
    "Look at \"unlabeled\" image data for unsupervised clustering"
   ],
   "metadata": {}
  },
  {
   "outputs": [],
   "cell_type": "code",
   "source": [
    "jim(data)\n",
    "# savefig(\"spectral-cluster-data.pdf\")"
   ],
   "metadata": {},
   "execution_count": null
  },
  {
   "cell_type": "markdown",
   "source": [
    "Choose similarity function"
   ],
   "metadata": {}
  },
  {
   "outputs": [],
   "cell_type": "code",
   "source": [
    "σ = 2^-2 # tuning parameter\n",
    "sfun(x,z) = exp(-norm(x-z)^2/nx/ny/σ^2)"
   ],
   "metadata": {},
   "execution_count": null
  },
  {
   "cell_type": "markdown",
   "source": [
    "Weight matrix"
   ],
   "metadata": {}
  },
  {
   "outputs": [],
   "cell_type": "code",
   "source": [
    "slices = eachslice(data, dims=3)\n",
    "W = [sfun(x,z) for x in slices, z in slices]\n",
    "pw = jim(W, \"weight matrix W\")"
   ],
   "metadata": {},
   "execution_count": null
  },
  {
   "cell_type": "markdown",
   "source": [
    "Degree matrix"
   ],
   "metadata": {}
  },
  {
   "outputs": [],
   "cell_type": "code",
   "source": [
    "D = Diagonal(vec(sum(W; dims=2)))"
   ],
   "metadata": {},
   "execution_count": null
  },
  {
   "cell_type": "markdown",
   "source": [
    "## Normalized graph Laplacian"
   ],
   "metadata": {}
  },
  {
   "outputs": [],
   "cell_type": "code",
   "source": [
    "L = I - inv(D) * W\n",
    "jim(L, \"Normalized graph Laplacian L\")"
   ],
   "metadata": {},
   "execution_count": null
  },
  {
   "cell_type": "markdown",
   "source": [
    "Eigendecomposition and eigenvalues"
   ],
   "metadata": {}
  },
  {
   "outputs": [],
   "cell_type": "code",
   "source": [
    "eig = eigen(L)\n",
    "pe = scatter(eig.values, xlabel = L\"k\", ylabel=\"Eigenvalues\")"
   ],
   "metadata": {},
   "execution_count": null
  },
  {
   "outputs": [],
   "cell_type": "code",
   "source": [
    "prompt()"
   ],
   "metadata": {},
   "execution_count": null
  },
  {
   "cell_type": "markdown",
   "source": [
    "## Apply k-means++ to eigenvectors"
   ],
   "metadata": {}
  },
  {
   "outputs": [],
   "cell_type": "code",
   "source": [
    "K = length(digitn) # try using the known number of digits\n",
    "Y = eig.vectors[:,1:K]'\n",
    "r3 = kmeans(Y, K)"
   ],
   "metadata": {},
   "execution_count": null
  },
  {
   "cell_type": "markdown",
   "source": [
    "Confusion matrix using class assignments from kmeans++"
   ],
   "metadata": {}
  },
  {
   "outputs": [],
   "cell_type": "code",
   "source": [
    "label_list = unique(labels)\n",
    "\n",
    "result = zeros(Int, K, length(label_list))\n",
    "for k in 1:K # each cluster\n",
    "    rck = r3.assignments .== k\n",
    "    for (j,l) in enumerate(label_list)\n",
    "        result[k,j] = count(rck .& (l .== labels))\n",
    "    end\n",
    "end\n",
    "result"
   ],
   "metadata": {},
   "execution_count": null
  },
  {
   "cell_type": "markdown",
   "source": [
    "Visualize the clustered digits"
   ],
   "metadata": {}
  },
  {
   "outputs": [],
   "cell_type": "code",
   "source": [
    "p3 = jim(\n",
    " [jim(data[:,:,r3.assignments .== k], \"Class $k\"; prompt=false) for k in 1:K]...\n",
    ")"
   ],
   "metadata": {},
   "execution_count": null
  },
  {
   "cell_type": "markdown",
   "source": [
    "The clustering here seems only so-so,\n",
    "at least from the digit classification point of view.\n",
    "Each of these digits lives reasonably close\n",
    "to a manifold,\n",
    "and apparently the simply Gaussian similarity function\n",
    "used here does not adequately capture\n",
    "within-manifold similarities.\n",
    "\n",
    "However,\n",
    "there is no reason to think that it is optimal\n",
    "to use the same number of classes\n",
    "as digits.\n",
    "Let's try again using more classes (larger $K$)."
   ],
   "metadata": {}
  },
  {
   "outputs": [],
   "cell_type": "code",
   "source": [
    "K = 9\n",
    "Y = eig.vectors[:,1:K]'\n",
    "r9 = kmeans(Y, K)\n",
    "p9 = jim(\n",
    " [jim(data[:,:,r9.assignments .== k], \"Class $k\"; prompt=false) for k in 1:K]...\n",
    ")"
   ],
   "metadata": {},
   "execution_count": null
  },
  {
   "cell_type": "markdown",
   "source": [
    "Now there is somewhat more consistency\n",
    "between images in the same class,"
   ],
   "metadata": {}
  },
  {
   "cell_type": "markdown",
   "source": [
    "---\n",
    "\n",
    "*This notebook was generated using [Literate.jl](https://github.com/fredrikekre/Literate.jl).*"
   ],
   "metadata": {}
  }
 ],
 "nbformat_minor": 3,
 "metadata": {
  "language_info": {
   "file_extension": ".jl",
   "mimetype": "application/julia",
   "name": "julia",
   "version": "1.11.6"
  },
  "kernelspec": {
   "name": "julia-1.11",
   "display_name": "Julia 1.11.6",
   "language": "julia"
  }
 },
 "nbformat": 4
}

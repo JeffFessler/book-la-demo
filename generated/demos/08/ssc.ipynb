{
 "cells": [
  {
   "cell_type": "markdown",
   "source": [
    "# Sparse spectral clustering (SSC)\n",
    "\n",
    "This example illustrates\n",
    "[sparse spectral clustering](https://en.wikipedia.org/wiki/Spectral_clustering)\n",
    "using POGM\n",
    "applied to simulated data\n",
    "and (todo) hand-written digits.\n",
    "\n",
    "Original version by Javier Salazar Cavazos."
   ],
   "metadata": {}
  },
  {
   "cell_type": "markdown",
   "source": [
    "## Setup\n",
    "\n",
    "Add the Julia packages used in this demo.\n",
    "Change `false` to `true` in the following code block\n",
    "if you are using any of the following packages for the first time."
   ],
   "metadata": {}
  },
  {
   "outputs": [],
   "cell_type": "code",
   "source": [
    "if false\n",
    "    import Pkg\n",
    "    Pkg.add([\n",
    "        \"Clustering\"\n",
    "        \"InteractiveUtils\"\n",
    "        \"LaTeXStrings\"\n",
    "        \"LinearAlgebra\"\n",
    "        \"MIRT\"\n",
    "        \"MIRTjim\"\n",
    "        \"MLDatasets\"\n",
    "        \"Plots\"\n",
    "        \"Random\"\n",
    "    ])\n",
    "end"
   ],
   "metadata": {},
   "execution_count": null
  },
  {
   "cell_type": "markdown",
   "source": [
    "Tell Julia to use the following packages.\n",
    "Run `Pkg.add()` in the preceding code block first, if needed."
   ],
   "metadata": {}
  },
  {
   "outputs": [],
   "cell_type": "code",
   "source": [
    "using Clustering: kmeans\n",
    "using InteractiveUtils: versioninfo\n",
    "using LaTeXStrings\n",
    "using LinearAlgebra: Diagonal, eigen, I, opnorm\n",
    "using MIRT: pogm_restart\n",
    "using MIRTjim: jim, prompt\n",
    "using Plots: default, gui, palette, plot, plot!, scatter, scatter!\n",
    "using Random: randperm, seed!\n",
    "default(); default(markersize=5, markerstrokecolor=:auto, label=\"\")"
   ],
   "metadata": {},
   "execution_count": null
  },
  {
   "cell_type": "markdown",
   "source": [
    "The following line is helpful when running this file as a script;\n",
    "this way it will prompt user to hit a key after each figure is displayed."
   ],
   "metadata": {}
  },
  {
   "outputs": [],
   "cell_type": "code",
   "source": [
    "isinteractive() ? jim(:prompt, true) : prompt(:draw);"
   ],
   "metadata": {},
   "execution_count": null
  },
  {
   "cell_type": "markdown",
   "source": [
    "## Synthetic data\n",
    "\n",
    "Generate synthetic data points in ℝ²\n",
    "that lie along $K = 2$ subspaces\n",
    "in the span of $(1,1)$ and $(1,-1)$."
   ],
   "metadata": {}
  },
  {
   "outputs": [],
   "cell_type": "code",
   "source": [
    "seed!(3) # fix random generation for better debugging\n",
    "\n",
    "xval = -9.5:1:9.5 # x locations before adding noise\n",
    "\n",
    "N = length(xval)\n",
    "σ = 0.5\n",
    "x1 = xval + σ * randn(N) # noisy data that lies on union of subspaces\n",
    "x2 = xval + σ * randn(N)\n",
    "y1 = 1 * x1 .+ σ * randn(N) # y=x and y=-x are the 2 subspaces\n",
    "y2 = -1 * x2 .+ σ * randn(N)\n",
    "\n",
    "data = [ [x1';y1'] [x2';y2'] ] # gathering data to one matrix\n",
    "clusters = [1*ones(Int,20); 2*ones(Int,20)]; # ground-truth clusters\n",
    "\n",
    "if true # permute data points\n",
    "    permuteOrder = randperm(40)\n",
    "    data = data[:,permuteOrder]\n",
    "    clusters = clusters[permuteOrder]\n",
    "end\n",
    "reord = invperm(permuteOrder)"
   ],
   "metadata": {},
   "execution_count": null
  },
  {
   "cell_type": "markdown",
   "source": [
    "plot subspaces and data points"
   ],
   "metadata": {}
  },
  {
   "outputs": [],
   "cell_type": "code",
   "source": [
    "p0 = plot(aspect_ratio = 1, size = (550, 500), xlabel=L\"x_1\", ylabel=L\"x_2\")\n",
    "plot!(p0, xval, 1 .* xval)\n",
    "plot!(p0, xval, -1 .* xval)\n",
    "pd = deepcopy(p0)\n",
    "scatter!(pd, x1, y1, color=1)\n",
    "scatter!(pd, x2, y2, color=2)\n",
    "plot!(pd, title = \"Data and Subspaces\")"
   ],
   "metadata": {},
   "execution_count": null
  },
  {
   "cell_type": "markdown",
   "source": [
    "## POGM for SSC\n",
    "\n",
    "Solve the SSC problem with the self-representation cost function\n",
    "$$\n",
    "\\arg\\min_C (1/2) ‖ Y (M ⊙ C) - Y ‖_{\\mathrm{F}}² + λ ‖ C ‖_{1,1}\n",
    "$$\n",
    "where $M$ is a mask matrix\n",
    "that is unity everywhere except 0 along the diagonal\n",
    "that forces each column of $Y$\n",
    "to be represented as a (sparse) linear combination\n",
    "of *other* columns of $Y$.\n",
    "The regularizer encourages sparsity of $C$.\n",
    "\n",
    "POGM is an optimal accelerated optimization method\n",
    "for convex composite cost functions.\n",
    "- [https://doi.org/10.1007/s10957-018-1287-4](https://doi.org/10.1007/s10957-018-1287-4)\n",
    "- [https://doi.org/10.1137/16m108104x](https://doi.org/10.1137/16m108104x)"
   ],
   "metadata": {}
  },
  {
   "outputs": [],
   "cell_type": "code",
   "source": [
    "λ = 0.001 # regularization parameter for sparsity term\n",
    "Lf = opnorm(data,2)^2 # Lipschitz constant for ∇f: smooth term of obj function\n",
    "npoint = size(data,2) # total # of points\n",
    "x0 = zeros(npoint, npoint) # initialize solution\n",
    "M = 1 .- I(npoint); # mask to force diag(C)=0\n",
    "\n",
    "grad(x) = M .* (data' * (data*x - data)) # ∇f: gradient of smooth term\n",
    "soft(x,t) = sign(x) * max(abs(x) - t, 0) # soft threshold at t\n",
    "g_prox(z,c) = soft.(z, c * λ) # proximal operator for c*b*|x|_1\n",
    "\n",
    "niter = 1000\n",
    "A, _ = pogm_restart(x0, x->0, grad, Lf ; g_prox, niter) # POGM method\n",
    "jim(A[reord,reord], \"A\")"
   ],
   "metadata": {},
   "execution_count": null
  },
  {
   "cell_type": "markdown",
   "source": [
    "## Spectral clustering\n",
    "\n",
    "Cluster via a spectral method;\n",
    "see:\n",
    "- [https://doi.org/10.1109/JSTSP.2018.2867446](https://doi.org/10.1109/JSTSP.2018.2867446)\n",
    "- [https://doi.org/10.1109/TPAMI.2013.57](https://doi.org/10.1109/TPAMI.2013.57)"
   ],
   "metadata": {}
  },
  {
   "outputs": [],
   "cell_type": "code",
   "source": [
    "W = transpose(abs.(A)) + abs.(A) # Weight matrix, force Hermitian\n",
    "jim(W[reord,reord], \"W\")"
   ],
   "metadata": {},
   "execution_count": null
  },
  {
   "outputs": [],
   "cell_type": "code",
   "source": [
    "D = vec(sum(W, dims=2)) # degree matrix of graph\n",
    "D = D .^ (-1/2)\n",
    "D = Diagonal(D) # normalized symmetric Laplacian formula\n",
    "L = I - D * W * D\n",
    "jim(L[reord,reord], \"L\")"
   ],
   "metadata": {},
   "execution_count": null
  },
  {
   "cell_type": "markdown",
   "source": [
    "For $K=2$ subspaces we pick the bottom $K$ eigenvectors (smallest λ)"
   ],
   "metadata": {}
  },
  {
   "outputs": [],
   "cell_type": "code",
   "source": [
    "K = 2\n",
    "E = eigen(L) # eigen value decomposition, really only need vectors\n",
    "eigenVectors = E.vectors[:, 1:K];\n",
    "\n",
    "seriescolor = palette([:orange, :skyblue], 2)\n",
    "p4 = scatter(eigenVectors[:,1], eigenVectors[:,2],\n",
    " title=\"Spectral Embedding Plot\",\n",
    " marker_z = clusters;\n",
    " seriescolor,\n",
    " colorbar = nothing,\n",
    ")"
   ],
   "metadata": {},
   "execution_count": null
  },
  {
   "cell_type": "markdown",
   "source": [
    "Since there are $K$ subspaces,\n",
    "we look for $K$ clusters in rows of eigenvectors\n",
    "using `kmeans`"
   ],
   "metadata": {}
  },
  {
   "outputs": [],
   "cell_type": "code",
   "source": [
    "results = kmeans(eigenVectors', K)\n",
    "assign = results.assignments; # store assignments"
   ],
   "metadata": {},
   "execution_count": null
  },
  {
   "cell_type": "markdown",
   "source": [
    "Plot truth (on the left) and SSC results (on the right)"
   ],
   "metadata": {}
  },
  {
   "outputs": [],
   "cell_type": "code",
   "source": [
    "p1 = deepcopy(p0)\n",
    "scatter!(p1, data[1,:], data[2,:];\n",
    " aspect_ratio = 1, size = (550, 450),\n",
    " xlims = (-11,11), ylims = (-11,11),\n",
    " marker_z = clusters,\n",
    " seriescolor,\n",
    " colorbar = nothing,\n",
    " title = \"Truth\",\n",
    ");\n",
    "\n",
    "p2 = deepcopy(p0)\n",
    "scatter!(p2, data[1,:], data[2,:];\n",
    " aspect_ratio = 1, size = (550, 450),\n",
    " xlims = (-11,11), ylims = (-11,11),\n",
    " marker_z = assign,\n",
    " seriescolor,\n",
    " colorbar = nothing,\n",
    " title = \"SSC (POGM)\",\n",
    ")\n",
    "p12 = plot(p1, p2, layout = (1, 2), size=(1100, 450))"
   ],
   "metadata": {},
   "execution_count": null
  },
  {
   "cell_type": "markdown",
   "source": [
    "---\n",
    "\n",
    "*This notebook was generated using [Literate.jl](https://github.com/fredrikekre/Literate.jl).*"
   ],
   "metadata": {}
  }
 ],
 "nbformat_minor": 3,
 "metadata": {
  "language_info": {
   "file_extension": ".jl",
   "mimetype": "application/julia",
   "name": "julia",
   "version": "1.11.6"
  },
  "kernelspec": {
   "name": "julia-1.11",
   "display_name": "Julia 1.11.6",
   "language": "julia"
  }
 },
 "nbformat": 4
}

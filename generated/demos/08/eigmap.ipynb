{
 "cells": [
  {
   "cell_type": "markdown",
   "source": [
    "# Laplacian eigenmaps\n",
    "\n",
    "This example illustrates\n",
    "Laplacian eigenmaps\n",
    "using the Julia language.\n",
    "These eigenmaps\n",
    "provide nonlinear dimensionality reduction\n",
    "for data lying near manifolds\n",
    "(rather than near subspaces).\n",
    "\n",
    "See\n",
    "[Belkin & Niyogi, 2003](https://doi.org/10.1162/089976603321780317)."
   ],
   "metadata": {}
  },
  {
   "cell_type": "markdown",
   "source": [
    "## Setup\n",
    "Add the Julia packages used in this demo.\n",
    "Change `false` to `true` in the following code block\n",
    "if you are using any of the following packages for the first time."
   ],
   "metadata": {}
  },
  {
   "outputs": [],
   "cell_type": "code",
   "source": [
    "if false\n",
    "    import Pkg\n",
    "    Pkg.add([\n",
    "        \"ImagePhantoms\"\n",
    "        \"InteractiveUtils\"\n",
    "        \"LaTeXStrings\"\n",
    "        \"LinearAlgebra\"\n",
    "        \"MIRTjim\"\n",
    "        \"Plots\"\n",
    "        \"Random\"\n",
    "    ])\n",
    "end"
   ],
   "metadata": {},
   "execution_count": null
  },
  {
   "cell_type": "markdown",
   "source": [
    "Tell Julia to use the following packages.\n",
    "Run `Pkg.add()` in the preceding code block first, if needed."
   ],
   "metadata": {}
  },
  {
   "outputs": [],
   "cell_type": "code",
   "source": [
    "using ImagePhantoms: rect, phantom\n",
    "using InteractiveUtils: versioninfo\n",
    "using LaTeXStrings\n",
    "using LinearAlgebra: norm, Diagonal, eigen, svd, svdvals\n",
    "using MIRTjim: jim, prompt\n",
    "using Plots: default, gui, plot, savefig, scatter\n",
    "using Plots.PlotMeasures: px\n",
    "using Random: seed!\n",
    "default(); default(label = \"\", markerstrokecolor = :auto,\n",
    " tickfontsize = 12, labelfontsize = 16,\n",
    ")\n",
    "seed!(0)"
   ],
   "metadata": {},
   "execution_count": null
  },
  {
   "cell_type": "markdown",
   "source": [
    "The following line is helpful when running this jl-file as a script;\n",
    "this way it will prompt user to hit a key after each image is displayed."
   ],
   "metadata": {}
  },
  {
   "outputs": [],
   "cell_type": "code",
   "source": [
    "isinteractive() && prompt(:prompt);"
   ],
   "metadata": {},
   "execution_count": null
  },
  {
   "cell_type": "markdown",
   "source": [
    "## Generate data\n",
    "\n",
    "The example considered here\n",
    "uses synthetic data\n",
    "consisting of images of rectangles\n",
    "of various widths and rotations.\n",
    "\n",
    "The only latent parameters here\n",
    "are one of the rectangle widths\n",
    "and the rotation angle.\n",
    "So all of the images\n",
    "lie in a manifold of dimension 2\n",
    "in a $16^2 = 256$ dimensional\n",
    "ambient space."
   ],
   "metadata": {}
  },
  {
   "outputs": [],
   "cell_type": "code",
   "source": [
    "function rect_phantom( ;\n",
    "    T = Float32,\n",
    "    nx = 40,\n",
    "    ny = 40,\n",
    "    sigma1::Real = 0f0,\n",
    "    sigma2::Real = 0f0,\n",
    "    level1::Function = () -> 0 + sigma1 * randn(T),\n",
    "    level2::Function = () -> 1 + sigma2 * randn(T),\n",
    "    angle::Function = () -> rand(T) * π/4f0,\n",
    "    width_min::Real = min(nx,ny) / 4f0 + 3,\n",
    "    width_max::Real = min(nx,ny) / 1.6f0, # √2\n",
    "    width::Function = () -> [width_min/2,\n",
    "        width_min + rand(T) * (width_max - width_min)],\n",
    "    center::Function = () -> 0 * (rand(T, 2) .- 1//2),\n",
    "    oversample::Int = 6,\n",
    ")\n",
    "    ob = rect(Tuple(center()), Tuple(width()), angle())\n",
    "    l1 = level1()\n",
    "    l2 = level2()\n",
    "    x = (1:nx) .- (nx-1)/2\n",
    "    y = (1:ny) .- (ny-1)/2\n",
    "    return l1 .+ (l2 - l1) * phantom(x, y, [ob], oversample),\n",
    "        ob.angle[1], ob.width[2]\n",
    "end\n",
    "\n",
    "function make_phantoms(nx, ny, nrep)\n",
    "    data = zeros(Float32, nx, ny, nrep)\n",
    "    angles = zeros(nrep)\n",
    "    widths = zeros(nrep)\n",
    "    for iz in 1:nrep\n",
    "        data[:,:,iz], angles[iz], widths[iz] = rect_phantom(; nx, ny)\n",
    "    end\n",
    "    return data, angles, widths\n",
    "end\n",
    "\n",
    "\n",
    "if !@isdefined(data)\n",
    "    nx,ny = 40,40\n",
    "    nrep = 500\n",
    "    @time data, angles, widths = make_phantoms(nx, ny, nrep)\n",
    "    pj = jim(data[:,:,1:72]; title = \"72 of $nrep images\",\n",
    "     xaxis = false, yaxis = false, colorbar = :none, # book\n",
    "     size = (400, 480), nrow = 9,\n",
    "    )\n",
    "end\n",
    "# savefig(pj, \"eigmap-data.pdf\")"
   ],
   "metadata": {},
   "execution_count": null
  },
  {
   "cell_type": "markdown",
   "source": [
    "These data do not lie in a 2-dimensional subspace.\n",
    "To see that,\n",
    "we plot the first 40 singular values.\n",
    "Even in the absence of noise here,\n",
    "there are many singular values\n",
    "that are are far from zero."
   ],
   "metadata": {}
  },
  {
   "outputs": [],
   "cell_type": "code",
   "source": [
    "tmp = svdvals(reshape(data, nx*ny, nrep))\n",
    "ps = scatter(tmp; title = \"Data singular values\", widen=true,\n",
    " xaxis = (L\"k\", (1, 40), [1, 40, nx*ny]),\n",
    " yaxis = (L\"σ_k\", (0, 216), [0, 32, 48, 72, 215]),\n",
    ")\n",
    "# savefig(ps, \"eigmap-svd.pdf\")"
   ],
   "metadata": {},
   "execution_count": null
  },
  {
   "outputs": [],
   "cell_type": "code",
   "source": [
    "prompt()"
   ],
   "metadata": {},
   "execution_count": null
  },
  {
   "cell_type": "markdown",
   "source": [
    "## Eigenmaps\n",
    "\n",
    "Apply one of the Laplacian eigenmap methods.\n",
    "First compute the distances between all pairs of data points (images).\n",
    "\n",
    "There is little if any humanly visible structure\n",
    "in the distance map."
   ],
   "metadata": {}
  },
  {
   "outputs": [],
   "cell_type": "code",
   "source": [
    "distance = [norm(d1 - d2) for\n",
    "    d1 in eachslice(data; dims=3),\n",
    "    d2 in eachslice(data; dims=3)\n",
    "]\n",
    "pd = jim(distance; title = L\"‖ X_j - X_i \\; ‖\", xlabel = L\"i\", ylabel = L\"j\")\n",
    "# savefig(pd, \"eigmap-dis.pdf\")"
   ],
   "metadata": {},
   "execution_count": null
  },
  {
   "cell_type": "markdown",
   "source": [
    "Compute the weight matrix\n",
    "that describes an affinity\n",
    "between data points $i$ and $j$.\n",
    "There are many ways to do this;\n",
    "here we follow the approach given in\n",
    "[Sanders et al. 2016](https://doi.org/10.1109/tmi.2016.2576899)."
   ],
   "metadata": {}
  },
  {
   "outputs": [],
   "cell_type": "code",
   "source": [
    "α = Float64(sum(abs2, distance) / nrep^2) # per Sanders eqn. (4)\n",
    "W = @. exp(-distance^2 / α)\n",
    "pw = jim(W; title = L\"W_{ij}\", xlabel = L\"i\", ylabel = L\"j\")\n",
    "# savefig(pw, \"eigmap-w.pdf\")"
   ],
   "metadata": {},
   "execution_count": null
  },
  {
   "cell_type": "markdown",
   "source": [
    "## Graph Laplacian\n",
    "\n",
    "Compute the\n",
    "[graph Laplacian](https://en.wikipedia.org/wiki/Laplacian_matrix)\n",
    "from the weight matrix."
   ],
   "metadata": {}
  },
  {
   "outputs": [],
   "cell_type": "code",
   "source": [
    "d = vec(sum(W; dims=2))\n",
    "D = Diagonal(d)\n",
    "L = D - W # Laplacian\n",
    "pl = jim(L; title = L\"L_{ij}\", xlabel = L\"i\", ylabel = L\"j\", color=:cividis)\n",
    "# savefig(pl, \"eigmap-l.pdf\")"
   ],
   "metadata": {},
   "execution_count": null
  },
  {
   "cell_type": "markdown",
   "source": [
    "Compute the\n",
    "[generalized eigendecomposition](https://en.wikipedia.org/wiki/Eigendecomposition_of_a_matrix#Generalized_eigenvalue_problem)\n",
    "to find solutions of\n",
    "$L v = λ D v$.\n",
    "\n",
    "Because the vector $\\mathbf{1}$\n",
    "is in the null space of $L$,\n",
    "the first (smallest) generalized eigenvalue is 0."
   ],
   "metadata": {}
  },
  {
   "outputs": [],
   "cell_type": "code",
   "source": [
    "F = eigen(L, Matrix(D))\n",
    "\n",
    "pe = scatter(F.values;\n",
    " title = \"Generalized eigenvalues\",\n",
    " xlabel=L\"k\", ylabel=L\"λ_k\",\n",
    " xticks = [1,nrep],\n",
    " yticks = [0, 0.7, 0.9, 1],\n",
    ")\n",
    "# savefig(pe, \"eigmap-eigval.pdf\")"
   ],
   "metadata": {},
   "execution_count": null
  },
  {
   "outputs": [],
   "cell_type": "code",
   "source": [
    "prompt()"
   ],
   "metadata": {},
   "execution_count": null
  },
  {
   "cell_type": "markdown",
   "source": [
    "Here we are interested in the first couple\n",
    "of generalized eigenvectors,\n",
    "excluding the one corresponding to $λ=0$.\n",
    "Those vectors serve as features\n",
    "for the reduced dimension."
   ],
   "metadata": {}
  },
  {
   "outputs": [],
   "cell_type": "code",
   "source": [
    "features = 1000 * F.vectors[:,2:3]\n",
    "pf = scatter(features[:,1], features[:,2];\n",
    "  title = \"Eigenmap features\",\n",
    "  xlabel = \"feature 1\", ylabel = \"feature 2\")\n",
    "# savefig(pf, \"eigmap-f.pdf\")"
   ],
   "metadata": {},
   "execution_count": null
  },
  {
   "outputs": [],
   "cell_type": "code",
   "source": [
    "prompt()"
   ],
   "metadata": {},
   "execution_count": null
  },
  {
   "cell_type": "markdown",
   "source": [
    "To examine whether those features\n",
    "encode the relevant manifold here,\n",
    "we plot the features\n",
    "with color-coding\n",
    "corresponding to the rectangle\n",
    "width and angle.\n",
    "\n",
    "The first feature\n",
    "is correlated with\n",
    "rectangle angle.\n",
    "The second feature\n",
    "is correlated with\n",
    "rectangle width."
   ],
   "metadata": {}
  },
  {
   "outputs": [],
   "cell_type": "code",
   "source": [
    "pc = plot(\n",
    " scatter(features[:,1], features[:,2], marker_z = widths, color=:cividis,\n",
    "  xaxis = (\"feature 1\", (-7,8), -6:6:6),\n",
    "  yaxis = (\"feature 2\", (-6,5), -4:2:4),\n",
    "# colorbar_title = \"width\", colorbar_fontsize = 15,\n",
    "  annotate = (7, 4, \"width\"),\n",
    " ),\n",
    " scatter(features[:,1], features[:,2], marker_z = angles, color=:cividis,\n",
    "  xaxis = (\"feature 1\", (-7,8), -6:6:6),\n",
    "  yaxis = (\"feature 2\", (-6,5), -4:2:4),\n",
    "  xlabel=\"feature 1\", ylabel=\"feature 2\",\n",
    "# colorbar_title = \"angle\",\n",
    "  annotate = (7, 4, \"angle\"),\n",
    " );\n",
    " layout = (2,1), size = (600, 400), right_margin = 10px,\n",
    ")\n",
    "# savefig(pc, \"eigmap-c.pdf\")"
   ],
   "metadata": {},
   "execution_count": null
  },
  {
   "outputs": [],
   "cell_type": "code",
   "source": [
    "prompt()"
   ],
   "metadata": {},
   "execution_count": null
  },
  {
   "cell_type": "markdown",
   "source": [
    "As another way to illustrate this correlation,\n",
    "suppose we examine all images\n",
    "where feature 1 is in some interval like $(-1.5,-1)$.\n",
    "These images are all of rectangles\n",
    "of similar orientation, but various widths."
   ],
   "metadata": {}
  },
  {
   "outputs": [],
   "cell_type": "code",
   "source": [
    "tmp = data[:,:, -1.5 .< features[:,1] .< -1]\n",
    "pf1 = jim(tmp; title = \"Feature 1 set\")\n",
    "# savefig(pf1, \"eigmap-pf1.pdf\")"
   ],
   "metadata": {},
   "execution_count": null
  },
  {
   "cell_type": "markdown",
   "source": [
    "Conversely,\n",
    "the images\n",
    "where feature 2 is in some interval like $(0.2,0.5)$\n",
    "are all rectangles\n",
    "of similar widths, but various rotations."
   ],
   "metadata": {}
  },
  {
   "outputs": [],
   "cell_type": "code",
   "source": [
    "tmp = data[:,:, 0.2 .< features[:,2] .< 0.5]\n",
    "pf2 = jim(tmp; nrow=2, title = \"Feature 2 set\", size=(600,300))\n",
    "# savefig(pf2, \"eigmap-pf2.pdf\")"
   ],
   "metadata": {},
   "execution_count": null
  },
  {
   "cell_type": "markdown",
   "source": [
    "Examine PCA for comparison"
   ],
   "metadata": {}
  },
  {
   "outputs": [],
   "cell_type": "code",
   "source": [
    "tmp = reshape(data, nx*ny, nrep)\n",
    "U2 = svd(tmp).U[:,1:2]\n",
    "pup = jim(reshape(U2, nx, ny, 2); title=\"First 2 PCA components\")\n",
    "# savefig(pup, \"eigmap-pca-u.pdf\")"
   ],
   "metadata": {},
   "execution_count": null
  },
  {
   "cell_type": "markdown",
   "source": [
    "Projection onto a 2-dimensional subspace works poorly:"
   ],
   "metadata": {}
  },
  {
   "outputs": [],
   "cell_type": "code",
   "source": [
    "lr2 = reshape(U2 * (U2' * tmp), nx, ny, :)\n",
    "plr = jim(lr2[:,:,1:88], \"Projection onto 2-dimensional subspace\")\n",
    "# savefig(plr, \"eigmap-pca-lr2.pdf\")"
   ],
   "metadata": {},
   "execution_count": null
  },
  {
   "cell_type": "markdown",
   "source": [
    "Nevertheless, the corresponding features\n",
    "are reasonably correlated with width and angle."
   ],
   "metadata": {}
  },
  {
   "outputs": [],
   "cell_type": "code",
   "source": [
    "feat_pca = (U2' * tmp)' # leading coefficients\n",
    "\n",
    "pp = plot(\n",
    " scatter(feat_pca[:,1], feat_pca[:,2], marker_z = widths, color=:cividis,\n",
    "  xlabel=\"feature 1\", ylabel=\"feature 2\",\n",
    "  colorbar_title=\"width\",\n",
    " ),\n",
    " scatter(feat_pca[:,1], feat_pca[:,2], marker_z = angles, color=:cividis,\n",
    "  xlabel=\"feature 1\", ylabel=\"feature 2\",\n",
    "  colorbar_title=\"angle\",\n",
    " ),\n",
    " plot_title = \"First two PCA coefficients\",\n",
    ")\n",
    "# savefig(pp, \"eigmap-pca-f.pdf\")"
   ],
   "metadata": {},
   "execution_count": null
  },
  {
   "outputs": [],
   "cell_type": "code",
   "source": [
    "prompt()"
   ],
   "metadata": {},
   "execution_count": null
  },
  {
   "cell_type": "markdown",
   "source": [
    "---\n",
    "\n",
    "*This notebook was generated using [Literate.jl](https://github.com/fredrikekre/Literate.jl).*"
   ],
   "metadata": {}
  }
 ],
 "nbformat_minor": 3,
 "metadata": {
  "language_info": {
   "file_extension": ".jl",
   "mimetype": "application/julia",
   "name": "julia",
   "version": "1.11.6"
  },
  "kernelspec": {
   "name": "julia-1.11",
   "display_name": "Julia 1.11.6",
   "language": "julia"
  }
 },
 "nbformat": 4
}

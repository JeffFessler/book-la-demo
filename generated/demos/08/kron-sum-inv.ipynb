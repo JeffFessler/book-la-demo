{
 "cells": [
  {
   "cell_type": "markdown",
   "source": [
    "# Kronecker sum of circulant\n",
    "\n",
    "This example illustrates\n",
    "efficient computation\n",
    "of the inverse of a Kronecker sum\n",
    "of circulant matrices\n",
    "using the Julia language.\n",
    "\n",
    "Related to Problem 8.7 in the textbook."
   ],
   "metadata": {}
  },
  {
   "cell_type": "markdown",
   "source": [
    "## Setup\n",
    "Add the Julia packages used in this demo.\n",
    "Change `false` to `true` in the following code block\n",
    "if you are using any of the following packages for the first time."
   ],
   "metadata": {}
  },
  {
   "outputs": [],
   "cell_type": "code",
   "source": [
    "if false\n",
    "    import Pkg\n",
    "    Pkg.add([\n",
    "        \"FFTW\"\n",
    "        \"InteractiveUtils\"\n",
    "        \"LinearAlgebra\"\n",
    "        \"MIRTjim\"\n",
    "        \"Plots\"\n",
    "        \"Random\"\n",
    "    ])\n",
    "end"
   ],
   "metadata": {},
   "execution_count": null
  },
  {
   "cell_type": "markdown",
   "source": [
    "Tell Julia to use the following packages.\n",
    "Run `Pkg.add()` in the preceding code block first, if needed."
   ],
   "metadata": {}
  },
  {
   "outputs": [],
   "cell_type": "code",
   "source": [
    "using FFTW: fft, ifft\n",
    "using InteractiveUtils: versioninfo\n",
    "using LinearAlgebra: I\n",
    "using MIRTjim: jim, prompt\n",
    "using Plots: savefig\n",
    "using Random: seed!\n",
    "seed!(0)"
   ],
   "metadata": {},
   "execution_count": null
  },
  {
   "cell_type": "markdown",
   "source": [
    "The following line helps when running this jl-file as a script;\n",
    "this way it prompts user to hit a key after each image is displayed."
   ],
   "metadata": {}
  },
  {
   "outputs": [],
   "cell_type": "code",
   "source": [
    "isinteractive() && prompt(:prompt);"
   ],
   "metadata": {},
   "execution_count": null
  },
  {
   "cell_type": "markdown",
   "source": [
    "Circulant matrix with given first column"
   ],
   "metadata": {}
  },
  {
   "outputs": [],
   "cell_type": "code",
   "source": [
    "function circm(x)\n",
    "    N = length(x)\n",
    "    return hcat([circshift(x, k-1) for k in 1:N]...)\n",
    "end"
   ],
   "metadata": {},
   "execution_count": null
  },
  {
   "cell_type": "markdown",
   "source": [
    "## Numerical test\n",
    "First perform a numerical test to verify the formulas."
   ],
   "metadata": {}
  },
  {
   "cell_type": "markdown",
   "source": [
    "Test data"
   ],
   "metadata": {}
  },
  {
   "outputs": [],
   "cell_type": "code",
   "source": [
    "M, N = 64, 32\n",
    "b = randn(N)\n",
    "c = randn(M)\n",
    "X = randn(M, N);"
   ],
   "metadata": {},
   "execution_count": null
  },
  {
   "cell_type": "markdown",
   "source": [
    "Matrix-inverse solution"
   ],
   "metadata": {}
  },
  {
   "outputs": [],
   "cell_type": "code",
   "source": [
    "B = circm(b) # N\n",
    "C = circm(c) # M\n",
    "A = kron(B, I(M)) + kron(I(N), C)\n",
    "y = inv(A) * vec(X);"
   ],
   "metadata": {},
   "execution_count": null
  },
  {
   "cell_type": "markdown",
   "source": [
    "Denominator"
   ],
   "metadata": {}
  },
  {
   "outputs": [],
   "cell_type": "code",
   "source": [
    "P = fft(c) .+ transpose(fft(b));"
   ],
   "metadata": {},
   "execution_count": null
  },
  {
   "cell_type": "markdown",
   "source": [
    "DFT solution"
   ],
   "metadata": {}
  },
  {
   "outputs": [],
   "cell_type": "code",
   "source": [
    "Fn = fft(I(N), 1)\n",
    "Fm = fft(I(M), 1)\n",
    "Y1 = (Fm' * ((Fm * X * transpose(Fn)) ./ P) * conj(Fn)) / (M * N)\n",
    "@assert Y1 ≈ real(Y1) # should be real-valued\n",
    "Y1 = real(Y1); # so discard the imaginary part"
   ],
   "metadata": {},
   "execution_count": null
  },
  {
   "cell_type": "markdown",
   "source": [
    "FFT solution"
   ],
   "metadata": {}
  },
  {
   "outputs": [],
   "cell_type": "code",
   "source": [
    "Y2 = ifft(fft(X) ./ P)\n",
    "@assert Y2 ≈ real(Y2)\n",
    "Y2 = real(Y2);"
   ],
   "metadata": {},
   "execution_count": null
  },
  {
   "cell_type": "markdown",
   "source": [
    "Verify"
   ],
   "metadata": {}
  },
  {
   "outputs": [],
   "cell_type": "code",
   "source": [
    "@assert y ≈ vec(Y1)\n",
    "@assert y ≈ vec(Y2)"
   ],
   "metadata": {},
   "execution_count": null
  },
  {
   "cell_type": "markdown",
   "source": [
    "## Image data\n",
    "Now illustrate visually\n",
    "using additively separable blur\n",
    "with individually invertible blur kernels."
   ],
   "metadata": {}
  },
  {
   "outputs": [],
   "cell_type": "code",
   "source": [
    "X = ones(60, 64); X[20:50,10:50] .= 2\n",
    "M, N = size(X)\n",
    "b = zeros(N); b[1 .+ mod.(-3:3,N)] = (4 .- abs.(-3:3)); b[1] +=  1\n",
    "b /= sum(b)\n",
    "c = zeros(M); c[1 .+ mod.(-4:4,M)] = (5 .- abs.(-4:4)); c[1] +=  1\n",
    "c /= sum(c)\n",
    "B = circm(b)\n",
    "C = circm(c)\n",
    "pb = jim(B, \"circulant B\", size=(300,300))\n",
    "pc = jim(C, \"circulant C\", size=(300,300))\n",
    "p1 = jim(pb, pc; size=(600,300))"
   ],
   "metadata": {},
   "execution_count": null
  },
  {
   "outputs": [],
   "cell_type": "code",
   "source": [
    "prompt()\n",
    "\n",
    "\n",
    "p2 = jim(X; title=\"X original\", size=(300,300))\n",
    "Y = C * X + X * transpose(B)\n",
    "p3 = jim(Y; title=\"Y blurred\", size=(300,300))\n",
    "p23 = jim(p2, p3; size=(600,300))"
   ],
   "metadata": {},
   "execution_count": null
  },
  {
   "outputs": [],
   "cell_type": "code",
   "source": [
    "prompt()"
   ],
   "metadata": {},
   "execution_count": null
  },
  {
   "cell_type": "markdown",
   "source": [
    "FFT solution"
   ],
   "metadata": {}
  },
  {
   "outputs": [],
   "cell_type": "code",
   "source": [
    "P = fft(c) .+ transpose(fft(b)) # denominator\n",
    "Xhat = ifft(fft(Y) ./ P)\n",
    "@assert Xhat ≈ real(Xhat)\n",
    "Xhat = real(Xhat)\n",
    "@assert Xhat ≈ X"
   ],
   "metadata": {},
   "execution_count": null
  },
  {
   "cell_type": "markdown",
   "source": [
    "---\n",
    "\n",
    "*This notebook was generated using [Literate.jl](https://github.com/fredrikekre/Literate.jl).*"
   ],
   "metadata": {}
  }
 ],
 "nbformat_minor": 3,
 "metadata": {
  "language_info": {
   "file_extension": ".jl",
   "mimetype": "application/julia",
   "name": "julia",
   "version": "1.11.6"
  },
  "kernelspec": {
   "name": "julia-1.11",
   "display_name": "Julia 1.11.6",
   "language": "julia"
  }
 },
 "nbformat": 4
}

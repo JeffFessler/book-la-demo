{
 "cells": [
  {
   "cell_type": "markdown",
   "source": [
    "# Wavelet frame denoising\n",
    "\n",
    "This example illustrates\n",
    "image denoising\n",
    "using a frame defined by a combination\n",
    "of an orthonormal discrete wavelet transform (ODWT)\n",
    "and \"cycle-spinning\" operators,\n",
    "using the Julia language."
   ],
   "metadata": {}
  },
  {
   "cell_type": "markdown",
   "source": [
    "## Setup\n",
    "Add the Julia packages used in this demo.\n",
    "Change `false` to `true` in the following code block\n",
    "if you are using any of the following packages for the first time."
   ],
   "metadata": {}
  },
  {
   "outputs": [],
   "cell_type": "code",
   "source": [
    "if false\n",
    "    import Pkg\n",
    "    Pkg.add([\n",
    "        \"InteractiveUtils\"\n",
    "        \"LaTeXStrings\"\n",
    "        \"LinearAlgebra\"\n",
    "        \"LinearMapsAA\"\n",
    "        \"MIRT\"\n",
    "        \"MIRTjim\"\n",
    "        \"Plots\"\n",
    "        \"Random\"\n",
    "        \"Statistics\"\n",
    "    ])\n",
    "end"
   ],
   "metadata": {},
   "execution_count": null
  },
  {
   "cell_type": "markdown",
   "source": [
    "Tell Julia to use the following packages.\n",
    "Run `Pkg.add()` in the preceding code block first, if needed."
   ],
   "metadata": {}
  },
  {
   "outputs": [],
   "cell_type": "code",
   "source": [
    "using ImagePhantoms: circle, phantom\n",
    "using InteractiveUtils: versioninfo\n",
    "# using LaTeXStrings\n",
    "using LinearAlgebra: norm\n",
    "using LinearMapsAA: LinearMapAA\n",
    "using MIRT: Aodwt #, pogm_restart\n",
    "using MIRTjim: jim, prompt\n",
    "using Plots: default, gui, plot, savefig\n",
    "using Random: seed!\n",
    "default(); default(markerstrokecolor=:auto, label = \"\", markersize=6,\n",
    " tickfontsize = 9, labelfontsize = 16, titlefontsize = 16)"
   ],
   "metadata": {},
   "execution_count": null
  },
  {
   "cell_type": "markdown",
   "source": [
    "The following line is helpful when running this file as a script;\n",
    "this way it will prompt user to hit a key after each image is displayed."
   ],
   "metadata": {}
  },
  {
   "outputs": [],
   "cell_type": "code",
   "source": [
    "isinteractive() && prompt(:prompt);"
   ],
   "metadata": {},
   "execution_count": null
  },
  {
   "cell_type": "markdown",
   "source": [
    "## Generate test image\n",
    "Both clean and noisy image."
   ],
   "metadata": {}
  },
  {
   "outputs": [],
   "cell_type": "code",
   "source": [
    "if !@isdefined(ydata)\n",
    "    nx, ny = 144, 128 # multiples of 2^3 for wavelet code\n",
    "    ob = circle(40f0, 6f0)\n",
    "    x = (1:nx) .- (nx-1)/2\n",
    "    y = (1:ny) .- (ny-1)/2\n",
    "    oversample = 3\n",
    "    xtrue = phantom(x, y, [ob], oversample)\n",
    "    seed!(0)\n",
    "    ydata = xtrue + 0.7f0 * randn(Float32, nx, ny)\n",
    "    nrmse = (xh) -> round(norm(xh - xtrue) / norm(xtrue) * 100, digits=1)\n",
    "end;\n",
    "\n",
    "clim = (-2, 8)\n",
    "clim = (-1, 7)\n",
    "py = jim(\n",
    " jim(xtrue; clim, title=\"True Image\"),\n",
    " jim(ydata; clim, xlabel=\"NRMSE=$(nrmse(ydata))%\", title=\"Noisy Image\"),\n",
    " size = (800, 350),\n",
    ")\n",
    "# savefig(py, \"frame-cycle-py.pdf\")"
   ],
   "metadata": {},
   "execution_count": null
  },
  {
   "cell_type": "markdown",
   "source": [
    "Orthogonal discrete wavelet transform operator (`LinearMapAO`):"
   ],
   "metadata": {}
  },
  {
   "outputs": [],
   "cell_type": "code",
   "source": [
    "W, scales, _ = Aodwt((nx,ny) ; T = eltype(ydata), level = 3)\n",
    "scales = Int.(scales)\n",
    "isdetail = scales .> 0\n",
    "pw = jim(\n",
    "   jim(scales, \"wavelet scales\"; color=:viridis),\n",
    "   jim(real(W * xtrue) .* isdetail, \"wavelet detail coefficients\";\n",
    "       color=:cividis),\n",
    "   size = (800, 320),\n",
    ")"
   ],
   "metadata": {},
   "execution_count": null
  },
  {
   "cell_type": "markdown",
   "source": [
    "## ODTW denoising\n",
    "This simply uses soft thresholding,\n",
    "the proximal operator for the 1-norm.\n",
    "\n",
    "Define proximal operator so that it shrinks only the detail coefficients:"
   ],
   "metadata": {}
  },
  {
   "outputs": [],
   "cell_type": "code",
   "source": [
    "soft = (z,c) -> sign(z) * max(abs(z) - c, 0) # soft thresholding\n",
    "reg = 0.9 # hand-tuned for small NRMSE\n",
    "g_prox = (z,c) -> soft.(z, isdetail .* (reg * c))\n",
    "\n",
    "# Apply wavelet coefficient soft thresholding\n",
    "coef = W * ydata\n",
    "xhat1 = W' * g_prox(coef, 1)\n",
    "jim(coef)\n",
    "p1 = jim(xhat1; clim, xlabel=\"NRMSE=$(nrmse(xhat1))%\", title=\"ODWT denoised\")"
   ],
   "metadata": {},
   "execution_count": null
  },
  {
   "cell_type": "markdown",
   "source": [
    "The NRMSE is reduced substantially,\n",
    "but there are severe \"block\" artifacts\n",
    "due to the dyadic decomposition\n",
    "of the ODWT."
   ],
   "metadata": {}
  },
  {
   "cell_type": "markdown",
   "source": [
    "## Frame approach\n",
    "Define a frame based on combining ODWT with $K$ `circshift` operations.\n",
    "The analysis operator is\n",
    "$$\n",
    "\\mathbf{T} = \\frac{1}{\\sqrt{K}}\n",
    "\\begin{bmatrix}\n",
    "\\mathbf{W} \\mathbf{P}_1 \\\\\n",
    "\\mathbf{W} \\mathbf{P}_2 \\\\ \\vdots \\\\\n",
    "\\mathbf{W} \\mathbf{P}_K\n",
    "\\end{bmatrix}\n",
    "$$\n",
    "where $\\mathbf{P}_0 = \\mathbf{I}$\n",
    "and\n",
    "where each $\\mathbf{P}_k$\n",
    "is a `circshift` operator."
   ],
   "metadata": {}
  },
  {
   "outputs": [],
   "cell_type": "code",
   "source": [
    "# Define circshift permutation map\n",
    "Pforw = shifts -> (x -> circshift(x, shifts))\n",
    "Pback = shifts -> (y -> circshift(y, -1 .* shifts))\n",
    "Pmap = shifts -> LinearMapAA(Pforw(shifts), Pback(shifts), (nx*ny,nx*ny);\n",
    "    odim=(nx,ny), idim=(nx,ny), T=Float32, prop=(; shifts, name=\"shift\"))\n",
    "\n",
    "p12 = Pmap((1,2))\n",
    "@assert p12' * (p12 * ydata) ≈ ydata # check Pmap\n",
    "\n",
    "# tmp = W * p12\n",
    "# tmp * xtrue # todo fails!?\n",
    "# Top = vcat([W * Pmap((xs,ys)) for xs in shifts, ys in shifts]...)\n",
    "\n",
    "# Define Parseval tight frame analysis operator\n",
    "shifts = -3:3\n",
    "Pmaps = [Pmap((xs,ys)) for xs in shifts, ys in shifts]\n",
    "K = length(Pmaps)\n",
    "Tforw = x -> stack(k -> (W * (Pmaps[k] * x)) / sqrt(K), 1:K, dims=3)\n",
    "Tback = y -> sum(k -> Pmaps[k]' * (W' * y[:,:,k]), 1:K) / sqrt(K)\n",
    "Top = LinearMapAA(Tforw, Tback, (nx*ny*K, nx*ny);\n",
    "    odim=(nx,ny,K), idim=(nx,ny), T=Float32, prop=(; name=\"Top\"))\n",
    "\n",
    "# Sanity check that the operator satisfies the tight frame condition:\n",
    "@assert Top' * (Top * ydata) ≈ ydata"
   ],
   "metadata": {},
   "execution_count": null
  },
  {
   "cell_type": "markdown",
   "source": [
    "## Parseval tight frame (PTF) denoising\n",
    "\n",
    "The tight frame approach\n",
    "leads to lower NRMSE\n",
    "and reduces the block artifacts.\n",
    "\n",
    "todo: describe cost functions and implement POGM"
   ],
   "metadata": {}
  },
  {
   "outputs": [],
   "cell_type": "code",
   "source": [
    "xhat2 = Top' * g_prox(Top * ydata, 0.2) # todo: hand-tuned again\n",
    "p2 = jim(xhat2; clim, xlabel=\"NRMSE=$(nrmse(xhat2))%\", title=\"PTF denoised\")\n",
    "pf = jim(p1, p2; size=(800,350))\n",
    "\n",
    "# savefig(pf, \"frame-cycle-pf.pdf\")"
   ],
   "metadata": {},
   "execution_count": null
  },
  {
   "cell_type": "markdown",
   "source": [
    "---\n",
    "\n",
    "*This notebook was generated using [Literate.jl](https://github.com/fredrikekre/Literate.jl).*"
   ],
   "metadata": {}
  }
 ],
 "nbformat_minor": 3,
 "metadata": {
  "language_info": {
   "file_extension": ".jl",
   "mimetype": "application/julia",
   "name": "julia",
   "version": "1.11.6"
  },
  "kernelspec": {
   "name": "julia-1.11",
   "display_name": "Julia 1.11.6",
   "language": "julia"
  }
 },
 "nbformat": 4
}

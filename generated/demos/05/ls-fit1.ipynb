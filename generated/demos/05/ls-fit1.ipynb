{
 "cells": [
  {
   "cell_type": "markdown",
   "source": [
    "# LS fitting\n",
    "\n",
    "This example illustrates least squares (LS) polynomial fitting\n",
    "using the Julia language."
   ],
   "metadata": {}
  },
  {
   "cell_type": "markdown",
   "source": [
    "## Setup\n",
    "Add the Julia packages used in this demo.\n",
    "Change `false` to `true` in the following code block\n",
    "if you are using any of the following packages for the first time."
   ],
   "metadata": {}
  },
  {
   "outputs": [],
   "cell_type": "code",
   "source": [
    "if false\n",
    "    import Pkg\n",
    "    Pkg.add([\n",
    "        \"InteractiveUtils\"\n",
    "        \"LaTeXStrings\"\n",
    "        \"LinearAlgebra\"\n",
    "        \"MIRTjim\"\n",
    "        \"Plots\"\n",
    "        \"Random\"\n",
    "    ])\n",
    "end"
   ],
   "metadata": {},
   "execution_count": null
  },
  {
   "cell_type": "markdown",
   "source": [
    "Tell Julia to use the following packages.\n",
    "Run `Pkg.add()` in the preceding code block first, if needed."
   ],
   "metadata": {}
  },
  {
   "outputs": [],
   "cell_type": "code",
   "source": [
    "using InteractiveUtils: versioninfo\n",
    "using LaTeXStrings\n",
    "using LinearAlgebra: Diagonal, svd\n",
    "using MIRTjim: prompt\n",
    "using Plots: default, plot, plot!, scatter, scatter!, savefig\n",
    "using Random: seed!\n",
    "default(); default(label=\"\", markerstrokecolor=:auto, widen=true, linewidth=2,\n",
    "    markersize = 6, tickfontsize=12, labelfontsize = 16, legendfontsize=14)"
   ],
   "metadata": {},
   "execution_count": null
  },
  {
   "cell_type": "markdown",
   "source": [
    "The following line is helpful when running this jl-file as a script;\n",
    "this way it will prompt user to hit a key after each image is displayed."
   ],
   "metadata": {}
  },
  {
   "outputs": [],
   "cell_type": "code",
   "source": [
    "isinteractive() && prompt(:prompt);"
   ],
   "metadata": {},
   "execution_count": null
  },
  {
   "cell_type": "markdown",
   "source": [
    "## Simulated data from latent nonlinear function"
   ],
   "metadata": {}
  },
  {
   "outputs": [],
   "cell_type": "code",
   "source": [
    "s = (t) -> atan(4*(t-0.5)) # nonlinear function\n",
    "\n",
    "seed!(0) # seed rng\n",
    "M = 15 # how many data points\n",
    "tm = sort(rand(M)) # M random sample locations\n",
    "y = s.(tm) + 0.1 * randn(M) # noisy samples\n",
    "\n",
    "t0 = range(0, 1, 101) # fine sampling for showing curve\n",
    "xaxis=(L\"t\", (0,1), 0:0.5:1)\n",
    "yaxis=(L\"y\", (-1.3, 1.3), -1:1)\n",
    "p0 = scatter(tm, y, color=:black, label=\"y (noisy data)\"; xaxis, yaxis)\n",
    "plot!(t0, s.(t0), color=:blue, label=\"s(t) : latent signal\", legend=:topleft)"
   ],
   "metadata": {},
   "execution_count": null
  },
  {
   "outputs": [],
   "cell_type": "code",
   "source": [
    "prompt()"
   ],
   "metadata": {},
   "execution_count": null
  },
  {
   "cell_type": "markdown",
   "source": [
    "## Polynomial fitting"
   ],
   "metadata": {}
  },
  {
   "outputs": [],
   "cell_type": "code",
   "source": [
    "deg = 3 # polynomial degree\n",
    "Afun = (tt) -> [t.^i for t in tt, i in 0:deg] # matrix of monomials\n",
    "A = Afun(tm) # M × 4 matrix\n",
    "p1 = plot(title=\"Columns of matrix A\", xlabel=L\"t\", legend=:left)\n",
    "for i in 0:deg\n",
    "    plot!(p1, tm, A[:,i+1], marker=:circle, label = \"A[:,$(i+1)]\")\n",
    "end\n",
    "p1"
   ],
   "metadata": {},
   "execution_count": null
  },
  {
   "outputs": [],
   "cell_type": "code",
   "source": [
    "prompt()"
   ],
   "metadata": {},
   "execution_count": null
  },
  {
   "cell_type": "markdown",
   "source": [
    "## Fit 4 unknowns with 4 equations"
   ],
   "metadata": {}
  },
  {
   "outputs": [],
   "cell_type": "code",
   "source": [
    "m4 = Int64.(round.(range(1, M-1, 4))) # pick 4 points well separated\n",
    "A4 = A[m4,:] # 4 × 4 matrix\n",
    "x4 = inv(A4) * y[m4] # inverse of 4×4 matrix to solve \"y = A x\"\n",
    "\n",
    "p1 = scatter(tm[m4], y[m4], marker=:square, color=:red)\n",
    "scatter!(tm, y, color=:black, label=\"y (noisy data)\"; xaxis, yaxis)\n",
    "plot!(t0, s.(t0), color=:blue, label=\"s(t) : latent signal\", legend=:topleft)\n",
    "plot!(t0, Afun(t0)*x4, color=:red, label=\"Fit 4 of $M points\")"
   ],
   "metadata": {},
   "execution_count": null
  },
  {
   "outputs": [],
   "cell_type": "code",
   "source": [
    "prompt()"
   ],
   "metadata": {},
   "execution_count": null
  },
  {
   "cell_type": "markdown",
   "source": [
    "## Fit 4 unknowns using all M=15 equations"
   ],
   "metadata": {}
  },
  {
   "outputs": [],
   "cell_type": "code",
   "source": [
    "xh = A \\ y # backslash for LS solution using all M samples\n",
    "\n",
    "plot!(p1, t0, Afun(t0)*xh, color=:orange, label=\"Fit cubic to M=$(M) points\")"
   ],
   "metadata": {},
   "execution_count": null
  },
  {
   "outputs": [],
   "cell_type": "code",
   "source": [
    "prompt()\n",
    "\n",
    "# savefig(p1, \"ls-fit-4-15.pdf\")"
   ],
   "metadata": {},
   "execution_count": null
  },
  {
   "cell_type": "markdown",
   "source": [
    "## SVD solution"
   ],
   "metadata": {}
  },
  {
   "outputs": [],
   "cell_type": "code",
   "source": [
    "U, s, V = svd(A)\n",
    "s"
   ],
   "metadata": {},
   "execution_count": null
  },
  {
   "cell_type": "markdown",
   "source": [
    "## Verify equivalence of SVD and backslash solutions to LS problem"
   ],
   "metadata": {}
  },
  {
   "outputs": [],
   "cell_type": "code",
   "source": [
    "xh2 = V * Diagonal(1 ./ s) * (U' * y) # SVD-based solution\n",
    "xh3 = V * ( (1 ./ s) .* (U' * y) ) # mathematically equivalent alternate expression\n",
    "\n",
    "@assert xh ≈ xh2\n",
    "@assert xh ≈ xh3"
   ],
   "metadata": {},
   "execution_count": null
  },
  {
   "cell_type": "markdown",
   "source": [
    "---\n",
    "\n",
    "*This notebook was generated using [Literate.jl](https://github.com/fredrikekre/Literate.jl).*"
   ],
   "metadata": {}
  }
 ],
 "nbformat_minor": 3,
 "metadata": {
  "language_info": {
   "file_extension": ".jl",
   "mimetype": "application/julia",
   "name": "julia",
   "version": "1.11.6"
  },
  "kernelspec": {
   "name": "julia-1.11",
   "display_name": "Julia 1.11.6",
   "language": "julia"
  }
 },
 "nbformat": 4
}

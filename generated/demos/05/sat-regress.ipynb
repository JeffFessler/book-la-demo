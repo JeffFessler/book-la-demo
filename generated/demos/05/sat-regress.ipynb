{
 "cells": [
  {
   "cell_type": "markdown",
   "source": [
    "# Linear regression and SAT scores\n",
    "\n",
    "This example is just a way to provide some template code\n",
    "for a homework problem on linear regression.\n",
    "\n",
    "The data here comes from\n",
    "the 2007 paper by L. M. Lesser\n",
    "titled\n",
    "[Critical Values and Transforming Data: Teaching Statistics with Social Justice](http://doi.org/10.1080/10691898.2007.11889454)\n",
    "and is based on data collected\n",
    "by the\n",
    "[College Board](https://en.wikipedia.org/wiki/College_Board),\n",
    "the organization that runs the\n",
    "[SAT exam](https://en.wikipedia.org/wiki/SAT)\n",
    "for high-school students.\n",
    "This data includes average SAT Math scores\n",
    "for 10 different family annual income brackets.\n",
    "The homework problem uses this data\n",
    "to explore the relationship between income and SAT scores\n",
    "via linear regression."
   ],
   "metadata": {}
  },
  {
   "cell_type": "markdown",
   "source": [
    "## Setup\n",
    "Add the Julia packages used in this demo.\n",
    "Change `false` to `true` in the following code block\n",
    "if you are using any of the following packages for the first time."
   ],
   "metadata": {}
  },
  {
   "outputs": [],
   "cell_type": "code",
   "source": [
    "if false\n",
    "    import Pkg\n",
    "    Pkg.add([\n",
    "        \"LinearAlgebra\"\n",
    "        \"MIRTjim\"\n",
    "        \"Plots\"\n",
    "    ])\n",
    "end"
   ],
   "metadata": {},
   "execution_count": null
  },
  {
   "cell_type": "markdown",
   "source": [
    "Tell Julia to use the following packages.\n",
    "Run `Pkg.add()` in the preceding code block first, if needed."
   ],
   "metadata": {}
  },
  {
   "outputs": [],
   "cell_type": "code",
   "source": [
    "using Plots: default, gui, scatter, savefig\n",
    "default(); default(label=\"\", markerstrokecolor=:auto, widen=true, linewidth=2,\n",
    " markersize = 6, tickfontsize=14, labelfontsize = 18, legendfontsize=16)"
   ],
   "metadata": {},
   "execution_count": null
  },
  {
   "cell_type": "markdown",
   "source": [
    "## Data\n",
    "\n",
    "Normally we would read such data\n",
    "from a data file\n",
    "such as a `.csv` file\n",
    "using\n",
    "[`CSV.jl`](https://github.com/JuliaData/CSV.jl).\n",
    "This data is small enough\n",
    "to just paste here directly."
   ],
   "metadata": {}
  },
  {
   "outputs": [],
   "cell_type": "code",
   "source": [
    "data = [\n",
    " \"Income Bracket (in \\$1000s)\" \"0 – 10\" \"10 – 20\" \"20 – 30\" \"30 – 40\" \"40 – 50\" \"50 – 60\" \"60 – 70\" \"70 – 80\" \"80 – 100\" \"100+\"\n",
    " \"Math\" 457 465 474 488 501 509 515 521 534 564\n",
    " \"Verbal\" 429 445 462 478 493 500 505 511 523 549\n",
    " \"Writing\" 427 440 454 470 483 490 496 502 514 543\n",
    "];\n",
    "\n",
    "math = Int.(data[2,2:end]) # math scores"
   ],
   "metadata": {},
   "execution_count": null
  },
  {
   "outputs": [],
   "cell_type": "code",
   "source": [
    "income = [5:10:75; 90; 120] # middle of each range"
   ],
   "metadata": {},
   "execution_count": null
  },
  {
   "outputs": [],
   "cell_type": "code",
   "source": [
    "scatter(income, math; label=\"Data\", legend = :bottomright,\n",
    " xaxis = (\"Family Annual Income (1000\\$)\",),\n",
    " yaxis = (\"SAT Average Math Score\", (425,575), 425:50:575),\n",
    ")"
   ],
   "metadata": {},
   "execution_count": null
  },
  {
   "cell_type": "markdown",
   "source": [
    "---\n",
    "\n",
    "*This notebook was generated using [Literate.jl](https://github.com/fredrikekre/Literate.jl).*"
   ],
   "metadata": {}
  }
 ],
 "nbformat_minor": 3,
 "metadata": {
  "language_info": {
   "file_extension": ".jl",
   "mimetype": "application/julia",
   "name": "julia",
   "version": "1.11.6"
  },
  "kernelspec": {
   "name": "julia-1.11",
   "display_name": "Julia 1.11.6",
   "language": "julia"
  }
 },
 "nbformat": 4
}

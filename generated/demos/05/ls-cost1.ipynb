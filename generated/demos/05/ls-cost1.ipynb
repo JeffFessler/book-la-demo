{
 "cells": [
  {
   "cell_type": "markdown",
   "source": [
    "# LS cost functions\n",
    "\n",
    "This example illustrates linear least-squares (LS) cost functions\n",
    "and minimum-norm LS (MNLS) solutions\n",
    "using the Julia language."
   ],
   "metadata": {}
  },
  {
   "cell_type": "markdown",
   "source": [
    "## Setup\n",
    "Add the Julia packages used in this demo.\n",
    "Change `false` to `true` in the following code block\n",
    "if you are using any of the following packages for the first time."
   ],
   "metadata": {}
  },
  {
   "outputs": [],
   "cell_type": "code",
   "source": [
    "if false\n",
    "    import Pkg\n",
    "    Pkg.add([\n",
    "        \"InteractiveUtils\"\n",
    "        \"LaTeXStrings\"\n",
    "        \"LinearAlgebra\"\n",
    "        \"MIRTjim\"\n",
    "        \"Plots\"\n",
    "        \"Random\"\n",
    "    ])\n",
    "end"
   ],
   "metadata": {},
   "execution_count": null
  },
  {
   "cell_type": "markdown",
   "source": [
    "Tell Julia to use the following packages.\n",
    "Run `Pkg.add()` in the preceding code block first, if needed."
   ],
   "metadata": {}
  },
  {
   "outputs": [],
   "cell_type": "code",
   "source": [
    "using InteractiveUtils: versioninfo\n",
    "using LaTeXStrings\n",
    "using LinearAlgebra: norm, pinv\n",
    "using MIRTjim: prompt\n",
    "using Plots: default, contour, plot!, scatter!, savefig\n",
    "using Random: seed!\n",
    "default(); default(label=\"\", markerstrokecolor=:auto, markersize=6, linewidth=2,\n",
    "    xlims = (-3,3), ylims = (-3,3), aspect_ratio=:equal, size=(450,400),\n",
    "    legendfontsize=12, guidefontsize=13, tickfontsize=10, labelfontsize=18)"
   ],
   "metadata": {},
   "execution_count": null
  },
  {
   "cell_type": "markdown",
   "source": [
    "The following line is helpful when running this jl-file as a script;\n",
    "this way it will prompt user to hit a key after each image is displayed."
   ],
   "metadata": {}
  },
  {
   "outputs": [],
   "cell_type": "code",
   "source": [
    "isinteractive() && prompt(:prompt);"
   ],
   "metadata": {},
   "execution_count": null
  },
  {
   "cell_type": "markdown",
   "source": [
    "## Under-determined case"
   ],
   "metadata": {}
  },
  {
   "outputs": [],
   "cell_type": "code",
   "source": [
    "A = [1 2] # 1st case: M < N\n",
    "y = [3] # obviously x=[1 1] is one possible solution (but not MNLS)\n",
    "f1(x) = norm(A*x - y)\n",
    "xh1 = A \\ y\n",
    "\n",
    "x1 = range(-1,1,101) * 3\n",
    "x2 = range(-1,1,103) * 3\n",
    "c1 = [f1([x1a, x2a]) for x1a in x1, x2a in x2];\n",
    "\n",
    "flabel(n) = L\"\\{%$bx : y_{%$n} = %$(bA)_{[%$n,:]} %$bx\\}\"\n",
    "bx = \"\\\\mathit{\\\\mathbf{x}}\"\n",
    "by = \"\\\\mathit{\\\\mathbf{y}}\"\n",
    "bA = \"\\\\mathit{\\\\mathbf{A}}\"\n",
    "color = :viridis\n",
    "p1 = contour(x1, x2, c1', label=\"contours\"; color)\n",
    "plot!(xlabel=L\"x_1\", ylabel=L\"x_2\", legend=:bottomleft)\n",
    "scatter!([0], [0], color=:black, markershape=:square)\n",
    "plot!([0, xh1[1]], [0, xh1[2]], line=:magenta)\n",
    "plot!(x1, (y[1] .- A[1,1]*x1)/A[1,2], line=(:blue,:dash),\n",
    "    label=L\"\\{%$bx : %$by = %$bA %$bx\\}\")\n",
    "scatter!([1], [1], color=:blue, markershape=:star5, label=L\"(1,1)\")\n",
    "scatter!([xh1[1]], [xh1[2]], color=:red, markershape=:circle, label=\"MNLS\",\n",
    "    title = \"Under-determined case\")"
   ],
   "metadata": {},
   "execution_count": null
  },
  {
   "outputs": [],
   "cell_type": "code",
   "source": [
    "prompt()\n",
    "\n",
    "# savefig(p1, \"demo_ls_cost1a.pdf\")"
   ],
   "metadata": {},
   "execution_count": null
  },
  {
   "cell_type": "markdown",
   "source": [
    "## Square but singular case"
   ],
   "metadata": {}
  },
  {
   "outputs": [],
   "cell_type": "code",
   "source": [
    "A = [1 2; 2 4] # 2nd case: M = N but singular A\n",
    "y = [3, 6] # again [1,1] is a solution (but not MNLS solution)\n",
    "f2(x) = norm(A*x - y)\n",
    "xh2 = pinv(A) * y\n",
    "\n",
    "c2 = [f2([x1a, x2a]) for x1a in x1, x2a in x2]\n",
    "p2 = contour(x1, x2, c2', label=\"contours\"; color)\n",
    "plot!(xlabel=L\"x_1\", ylabel=L\"x_2\", legend=:bottomleft)\n",
    "scatter!([0], [0], color=:black, markershape=:square)\n",
    "plot!([0, xh2[1]], [0, xh2[2]], line=:magenta)\n",
    "plot!(x1, (y[1] .- A[1,1]*x1)/A[1,2], line=(:blue,:dash), label=flabel(1))\n",
    "plot!(x1, (y[2] .- A[2,1]*x1)/A[2,2], line=(:green,:dashdot), label=flabel(2))\n",
    "scatter!([1], [1], color=:blue, markershape=:star5, label=L\"(1,1)\")\n",
    "scatter!([xh2[1]], [xh2[2]], color=:red, markershape=:circle, label=\"MNLS\",\n",
    " title = \"Singular case\")"
   ],
   "metadata": {},
   "execution_count": null
  },
  {
   "outputs": [],
   "cell_type": "code",
   "source": [
    "prompt()\n",
    "\n",
    "# savefig(p2, \"demo_ls_cost1b.pdf\")"
   ],
   "metadata": {},
   "execution_count": null
  },
  {
   "cell_type": "markdown",
   "source": [
    "## Square non-singular case"
   ],
   "metadata": {}
  },
  {
   "outputs": [],
   "cell_type": "code",
   "source": [
    "A = [1 2; 1 3] # 3rd case: M = N with non-singular A\n",
    "y = [3, 4] # now x=[1,1] is the unique solution (by design)\n",
    "f3(x) = norm(A*x - y)\n",
    "xh3 = A \\ y\n",
    "\n",
    "c3 = [f3([x1a, x2a]) for x1a in x1, x2a in x2]\n",
    "p3 = contour(x1, x2, c3', label=\"contours\"; color)\n",
    "plot!(xlabel=L\"x_1\", ylabel=L\"x_2\", legend=:bottomleft)\n",
    "plot!(x1, (y[1] .- A[1,1]*x1)/A[1,2], line=(:blue,:dash), label=flabel(1))\n",
    "plot!(x1, (y[2] .- A[2,1]*x1)/A[2,2], line=(:green,:dash), label=flabel(2))\n",
    "scatter!([xh3[1]], [xh3[2]], color=:red, markershape=:circle, label=\"LLS\",\n",
    " title = \"Non-singular case\")"
   ],
   "metadata": {},
   "execution_count": null
  },
  {
   "outputs": [],
   "cell_type": "code",
   "source": [
    "prompt()\n",
    "\n",
    "# savefig(p3, \"demo_ls_cost1c.pdf\")"
   ],
   "metadata": {},
   "execution_count": null
  },
  {
   "cell_type": "markdown",
   "source": [
    "## Typical over-determined case"
   ],
   "metadata": {}
  },
  {
   "outputs": [],
   "cell_type": "code",
   "source": [
    "A = [1 2; 1 -1; 2 1] # 4th case: M > N with (typical) inconsistent data\n",
    "y = [3, 2, 1] # no consistent solution\n",
    "f4(x) = norm(A*x - y)\n",
    "xh4 = A \\ y\n",
    "\n",
    "c4 = [f4([x1a, x2a]) for x1a in x1, x2a in x2]\n",
    "p4 = contour(x1, x2, c4', label=\"contours\"; color)\n",
    "plot!(xlabel=L\"x_1\", ylabel=L\"x_2\", legend=:bottomleft)\n",
    "plot!(x1, (y[1] .- A[1,1]*x1)/A[1,2], line=(:blue,:dash), label=flabel(1))\n",
    "plot!(x1, (y[2] .- A[2,1]*x1)/A[2,2], line=(:green,:dash), label=flabel(2))\n",
    "plot!(x1, (y[3] .- A[3,1]*x1)/A[3,2], line=(:purple,:dash), label=flabel(3))\n",
    "scatter!([xh4[1]], [xh4[2]], color=:red, markershape=:circle, label=\"LLS\",\n",
    "    title = \"Over-determined case\")"
   ],
   "metadata": {},
   "execution_count": null
  },
  {
   "outputs": [],
   "cell_type": "code",
   "source": [
    "prompt()\n",
    "\n",
    "# savefig(p4, \"demo_ls_cost1d.pdf\")"
   ],
   "metadata": {},
   "execution_count": null
  },
  {
   "cell_type": "markdown",
   "source": [
    "---\n",
    "\n",
    "*This notebook was generated using [Literate.jl](https://github.com/fredrikekre/Literate.jl).*"
   ],
   "metadata": {}
  }
 ],
 "nbformat_minor": 3,
 "metadata": {
  "language_info": {
   "file_extension": ".jl",
   "mimetype": "application/julia",
   "name": "julia",
   "version": "1.11.6"
  },
  "kernelspec": {
   "name": "julia-1.11",
   "display_name": "Julia 1.11.6",
   "language": "julia"
  }
 },
 "nbformat": 4
}

{
 "cells": [
  {
   "cell_type": "markdown",
   "source": [
    "# LS lifting\n",
    "\n",
    "This example illustrates \"lifting\" in linear regression\n",
    "using the Julia language."
   ],
   "metadata": {}
  },
  {
   "cell_type": "markdown",
   "source": [
    "## Setup\n",
    "Add the Julia packages used in this demo.\n",
    "Change `false` to `true` in the following code block\n",
    "if you are using any of the following packages for the first time."
   ],
   "metadata": {}
  },
  {
   "outputs": [],
   "cell_type": "code",
   "source": [
    "if false\n",
    "    import Pkg\n",
    "    Pkg.add([\n",
    "        \"InteractiveUtils\"\n",
    "        \"LaTeXStrings\"\n",
    "        \"LinearAlgebra\"\n",
    "        \"MIRTjim\"\n",
    "        \"Plots\"\n",
    "        \"Random\"\n",
    "    ])\n",
    "end"
   ],
   "metadata": {},
   "execution_count": null
  },
  {
   "cell_type": "markdown",
   "source": [
    "Tell Julia to use the following packages.\n",
    "Run `Pkg.add()` in the preceding code block first, if needed."
   ],
   "metadata": {}
  },
  {
   "outputs": [],
   "cell_type": "code",
   "source": [
    "using InteractiveUtils: versioninfo\n",
    "using LaTeXStrings\n",
    "using LinearAlgebra: Diagonal, svd\n",
    "using MIRTjim: prompt\n",
    "using Plots: default, gr, plotly, plot!, scatter, surface!, savefig\n",
    "using Plots.PlotMeasures: px\n",
    "using Random: seed!\n",
    "default(); default(label=\"\", markerstrokecolor=:auto, widen=true, linewidth=2,\n",
    " markersize = 6, tickfontsize=14, labelfontsize = 18, legendfontsize=16)"
   ],
   "metadata": {},
   "execution_count": null
  },
  {
   "cell_type": "markdown",
   "source": [
    "The following line is helpful when running this jl-file as a script;\n",
    "this way it will prompt user to hit a key after each image is displayed."
   ],
   "metadata": {}
  },
  {
   "outputs": [],
   "cell_type": "code",
   "source": [
    "isinteractive() && prompt(:prompt);"
   ],
   "metadata": {},
   "execution_count": null
  },
  {
   "cell_type": "markdown",
   "source": [
    "## Noisy data\n",
    "Samples of a nonlinear function."
   ],
   "metadata": {}
  },
  {
   "outputs": [],
   "cell_type": "code",
   "source": [
    "seed!(1) # seed rng\n",
    "sfun = (t) -> 1 - cos(π/2*t)\n",
    "M = 25\n",
    "tm = sort(rand(M)) # M random sample locations\n",
    "σ = 0.02\n",
    "y = sfun.(tm) + σ * randn(M); # noisy samples\n",
    "\n",
    "t0 = range(0, 1, 101) # fine sampling for showing curve\n",
    "p1 = scatter(tm, y, color=:blue, label=L\"\\mathrm{data\\ } y\",\n",
    "\txaxis = (L\"t\", (0, 1), 0:0.5:1),\n",
    "\tyaxis = (L\"y\", (-0.1, 1.1), 0:0.5:1),\n",
    ")\n",
    "plot!(t0, sfun.(t0), color=:black, label=L\"s(t)\", legend=:topleft)"
   ],
   "metadata": {},
   "execution_count": null
  },
  {
   "outputs": [],
   "cell_type": "code",
   "source": [
    "prompt()"
   ],
   "metadata": {},
   "execution_count": null
  },
  {
   "cell_type": "markdown",
   "source": [
    "## Polynomial fits"
   ],
   "metadata": {}
  },
  {
   "outputs": [],
   "cell_type": "code",
   "source": [
    "Afun = (tt, deg) -> [t.^i for t in tt, i in 1:deg] # matrix of monomials\n",
    "\n",
    "A1 = Afun(tm, 1) # M × 1 matrix\n",
    "A2 = Afun(tm, 2) # M × 2 matrix\n",
    "\n",
    "x1 = A1 \\ y # LS solution for degree=1\n",
    "plot!(p1, t0, Afun(t0,1)*x1, color=:red, label=\"linear model fit\")"
   ],
   "metadata": {},
   "execution_count": null
  },
  {
   "outputs": [],
   "cell_type": "code",
   "source": [
    "prompt()\n",
    "\n",
    "x2 = A2 \\ y # quadratic fit\n",
    "plot!(p1, t0, Afun(t0,2)*x2, color=:orange, label=\"quadratic model fit\")"
   ],
   "metadata": {},
   "execution_count": null
  },
  {
   "outputs": [],
   "cell_type": "code",
   "source": [
    "prompt()\n",
    "\n",
    "# savefig(p1, \"04-ls-lift-1.pdf\")"
   ],
   "metadata": {},
   "execution_count": null
  },
  {
   "cell_type": "markdown",
   "source": [
    "## Lifting\n",
    "\n",
    "We can view quadratic polynomial fitting\n",
    "as nonlinear \"lifting\" from a 1D function of $t$\n",
    "to a 2D function of $(t, t^2)$.\n",
    "After such lifting,\n",
    "regression with a linear model\n",
    "fits much better,\n",
    "as seen because the data points\n",
    "nearly lie on the 2D plane.\n",
    "\n",
    "Use `plotly()` backend here to view surface interactively."
   ],
   "metadata": {}
  },
  {
   "outputs": [],
   "cell_type": "code",
   "source": [
    "# plotly()\n",
    "p2 = scatter(A2[:,1], A2[:,2], y, color=:blue, right_margin = 15px,\n",
    "    cticks = [0,1],\n",
    "    xaxis = (L\"t\", (0,1), -1:1),\n",
    "    yaxis = (L\"t^2\", (0,1), -1:1),\n",
    "    zaxis = (L\"y\", (0,1), -1:1),\n",
    ")\n",
    "t1 = range(0, 1, 101)\n",
    "t2 = range(0, 1, 102)\n",
    "surface!(t1, t2, (t1,t2) -> x2[1]*t1 + x2[2]*t2, alpha=0.3)"
   ],
   "metadata": {},
   "execution_count": null
  },
  {
   "outputs": [],
   "cell_type": "code",
   "source": [
    "prompt()\n",
    "\n",
    "# gr(); # restore\n",
    "# savefig(p2, \"04-ls-lift-2.pdf\") # with gr()"
   ],
   "metadata": {},
   "execution_count": null
  },
  {
   "cell_type": "markdown",
   "source": [
    "---\n",
    "\n",
    "*This notebook was generated using [Literate.jl](https://github.com/fredrikekre/Literate.jl).*"
   ],
   "metadata": {}
  }
 ],
 "nbformat_minor": 3,
 "metadata": {
  "language_info": {
   "file_extension": ".jl",
   "mimetype": "application/julia",
   "name": "julia",
   "version": "1.11.6"
  },
  "kernelspec": {
   "name": "julia-1.11",
   "display_name": "Julia 1.11.6",
   "language": "julia"
  }
 },
 "nbformat": 4
}

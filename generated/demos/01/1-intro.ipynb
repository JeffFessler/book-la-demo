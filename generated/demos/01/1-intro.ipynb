{
 "cells": [
  {
   "cell_type": "markdown",
   "source": [
    "# Tutorial: Julia Overview\n",
    "\n",
    "Julia overview.\n",
    "\n",
    "- 2018-08-11 Julia 0.7.0 Jeff Fessler (based on 2017 version by David Hong)\n",
    "- 2019-01-20 Julia 1.0.3 and add note about line breaks\n",
    "- 2020-08-05 Julia 1.5.0\n",
    "- 2021-08-23 Julia 1.6.2\n",
    "- 2023-09-03 Julia 1.9.2, Literate"
   ],
   "metadata": {}
  },
  {
   "cell_type": "markdown",
   "source": [
    "## Setup\n",
    "Add the Julia packages used in this demo.\n",
    "Change `false` to `true` in the following code block\n",
    "if you are using any of the following packages for the first time."
   ],
   "metadata": {}
  },
  {
   "outputs": [],
   "cell_type": "code",
   "source": [
    "if false\n",
    "    import Pkg\n",
    "    Pkg.add([\n",
    "        \"InteractiveUtils\"\n",
    "        \"LinearAlgebra\"\n",
    "    ])\n",
    "end"
   ],
   "metadata": {},
   "execution_count": null
  },
  {
   "cell_type": "markdown",
   "source": [
    "Tell Julia to use the following packages.\n",
    "Run `Pkg.add()` in the preceding code block first, if needed."
   ],
   "metadata": {}
  },
  {
   "outputs": [],
   "cell_type": "code",
   "source": [
    "# using InteractiveUtils: versioninfo\n",
    "using LinearAlgebra: Diagonal, det, dot, tr"
   ],
   "metadata": {},
   "execution_count": null
  },
  {
   "cell_type": "markdown",
   "source": [
    "## Numbers, arithmetic, types"
   ],
   "metadata": {}
  },
  {
   "cell_type": "markdown",
   "source": [
    "Define a real number:"
   ],
   "metadata": {}
  },
  {
   "outputs": [],
   "cell_type": "code",
   "source": [
    "r = 3.0"
   ],
   "metadata": {},
   "execution_count": null
  },
  {
   "cell_type": "markdown",
   "source": [
    "Variables in Julia have a type:"
   ],
   "metadata": {}
  },
  {
   "outputs": [],
   "cell_type": "code",
   "source": [
    "typeof(r)"
   ],
   "metadata": {},
   "execution_count": null
  },
  {
   "outputs": [],
   "cell_type": "code",
   "source": [
    "i = 3"
   ],
   "metadata": {},
   "execution_count": null
  },
  {
   "outputs": [],
   "cell_type": "code",
   "source": [
    "typeof(i)"
   ],
   "metadata": {},
   "execution_count": null
  },
  {
   "outputs": [],
   "cell_type": "code",
   "source": [
    "c = 3. + 2im"
   ],
   "metadata": {},
   "execution_count": null
  },
  {
   "outputs": [],
   "cell_type": "code",
   "source": [
    "typeof(c)"
   ],
   "metadata": {},
   "execution_count": null
  },
  {
   "cell_type": "markdown",
   "source": [
    "We can add, subtract, multiply and divide like usual:"
   ],
   "metadata": {}
  },
  {
   "outputs": [],
   "cell_type": "code",
   "source": [
    "4. + 5"
   ],
   "metadata": {},
   "execution_count": null
  },
  {
   "outputs": [],
   "cell_type": "code",
   "source": [
    "4. - 5"
   ],
   "metadata": {},
   "execution_count": null
  },
  {
   "outputs": [],
   "cell_type": "code",
   "source": [
    "4. * 3"
   ],
   "metadata": {},
   "execution_count": null
  },
  {
   "outputs": [],
   "cell_type": "code",
   "source": [
    "2. / 3"
   ],
   "metadata": {},
   "execution_count": null
  },
  {
   "cell_type": "markdown",
   "source": [
    "Dividing `Int` values with `/` produces a `Float`:"
   ],
   "metadata": {}
  },
  {
   "outputs": [],
   "cell_type": "code",
   "source": [
    "2/3"
   ],
   "metadata": {},
   "execution_count": null
  },
  {
   "outputs": [],
   "cell_type": "code",
   "source": [
    "4/2"
   ],
   "metadata": {},
   "execution_count": null
  },
  {
   "cell_type": "markdown",
   "source": [
    "This is different from Python 2, but similar to Python 3."
   ],
   "metadata": {}
  },
  {
   "cell_type": "markdown",
   "source": [
    "To divide integers with rounding, use `÷` instead.\n",
    "Type `\\div` then hit tab:"
   ],
   "metadata": {}
  },
  {
   "outputs": [],
   "cell_type": "code",
   "source": [
    "5 ÷ 2"
   ],
   "metadata": {},
   "execution_count": null
  },
  {
   "cell_type": "markdown",
   "source": [
    "More info about numbers here:\n",
    "- [numbers](https://docs.julialang.org/en/v1/manual/integers-and-floating-point-numbers)\n",
    "- [operations](https://docs.julialang.org/en/v1/manual/mathematical-operations)\n",
    "- [complex](https://docs.julialang.org/en/v1/manual/complex-and-rational-numbers)\n",
    "\n",
    "## Vectors and matrices (i.e., arrays)\n",
    "\n",
    "Make a vector of real numbers:\n",
    "$$\n",
    "x = \\begin{bmatrix} 1.0 \\\\ 3.5 \\\\ 2 \\end{bmatrix}\n",
    "$$"
   ],
   "metadata": {}
  },
  {
   "outputs": [],
   "cell_type": "code",
   "source": [
    "x = [1, 3.5, 2]"
   ],
   "metadata": {},
   "execution_count": null
  },
  {
   "cell_type": "markdown",
   "source": [
    "Note the type: `Vector{Float64}`.\n",
    "\n",
    "Having just one real number in the array sufficed\n",
    "for the array have all `Float64` elements.\n",
    "\n",
    "This is a true **one**-dimensional array of **`Float64`** values.\n",
    "\n",
    "(Matlab does not have 1D arrays; it fakes it using 2D arrays of size `N × 1`.)"
   ],
   "metadata": {}
  },
  {
   "outputs": [],
   "cell_type": "code",
   "source": [
    "size(x) # returns a tuple"
   ],
   "metadata": {},
   "execution_count": null
  },
  {
   "outputs": [],
   "cell_type": "code",
   "source": [
    "length(x)"
   ],
   "metadata": {},
   "execution_count": null
  },
  {
   "outputs": [],
   "cell_type": "code",
   "source": [
    "x_ints = [1,3,2]"
   ],
   "metadata": {},
   "execution_count": null
  },
  {
   "cell_type": "markdown",
   "source": [
    "This is a **one**-dimensional array of **`Int64`** values.\n",
    "We use these less often."
   ],
   "metadata": {}
  },
  {
   "outputs": [],
   "cell_type": "code",
   "source": [
    "size(x_ints)"
   ],
   "metadata": {},
   "execution_count": null
  },
  {
   "outputs": [],
   "cell_type": "code",
   "source": [
    "length(x_ints)"
   ],
   "metadata": {},
   "execution_count": null
  },
  {
   "cell_type": "markdown",
   "source": [
    "# Make a matrix using a semicolon to separate rows:\n",
    "\n",
    "$$\n",
    "A = \\begin{bmatrix}\n",
    "1.1 & 1.2 & 1.3 \\\\\n",
    "2.1 & 2.2 & 2.3\n",
    "\\end{bmatrix}\n",
    "$$"
   ],
   "metadata": {}
  },
  {
   "outputs": [],
   "cell_type": "code",
   "source": [
    "A = [1.1 1.2 1.3; 2.1 2.2 2.3]"
   ],
   "metadata": {},
   "execution_count": null
  },
  {
   "cell_type": "markdown",
   "source": [
    "This is a **two**-dimensional array (aka a matrix) of **`Float64`** values."
   ],
   "metadata": {}
  },
  {
   "outputs": [],
   "cell_type": "code",
   "source": [
    "size(A)"
   ],
   "metadata": {},
   "execution_count": null
  },
  {
   "outputs": [],
   "cell_type": "code",
   "source": [
    "length(A)"
   ],
   "metadata": {},
   "execution_count": null
  },
  {
   "cell_type": "markdown",
   "source": [
    "Different from Matlab, `length` always returns the total number of elements."
   ],
   "metadata": {}
  },
  {
   "cell_type": "markdown",
   "source": [
    "Make vectors and matrices of all zeros."
   ],
   "metadata": {}
  },
  {
   "outputs": [],
   "cell_type": "code",
   "source": [
    "zeros(3)"
   ],
   "metadata": {},
   "execution_count": null
  },
  {
   "cell_type": "markdown",
   "source": [
    "Different from Matlab!\n",
    "Do not write `zeros(3,1)` because Julia has proper 1D arrays.\n",
    "`zeros(3,1)` and `zeros(3)` are different!"
   ],
   "metadata": {}
  },
  {
   "outputs": [],
   "cell_type": "code",
   "source": [
    "zeros(2,3)"
   ],
   "metadata": {},
   "execution_count": null
  },
  {
   "cell_type": "markdown",
   "source": [
    "And ones:"
   ],
   "metadata": {}
  },
  {
   "outputs": [],
   "cell_type": "code",
   "source": [
    "ones(3)"
   ],
   "metadata": {},
   "execution_count": null
  },
  {
   "outputs": [],
   "cell_type": "code",
   "source": [
    "ones(2,3)"
   ],
   "metadata": {},
   "execution_count": null
  },
  {
   "cell_type": "markdown",
   "source": [
    "The \"identity matrix\" $I$\n",
    "in Julia's `LinearAlgebra` package is sophisticated.\n",
    "\n",
    "Look at the following examples:"
   ],
   "metadata": {}
  },
  {
   "outputs": [],
   "cell_type": "code",
   "source": [
    "using LinearAlgebra: I\n",
    "ones(3,3) - I"
   ],
   "metadata": {},
   "execution_count": null
  },
  {
   "outputs": [],
   "cell_type": "code",
   "source": [
    "ones(2,2) * I"
   ],
   "metadata": {},
   "execution_count": null
  },
  {
   "outputs": [],
   "cell_type": "code",
   "source": [
    "I(3)"
   ],
   "metadata": {},
   "execution_count": null
  },
  {
   "cell_type": "markdown",
   "source": [
    "If that $I$ seems too fancy, then you could make your own `eye` function\n",
    "akin to Matlab as follows\n",
    "(but it should not be needed and it uses unnecessary memory):"
   ],
   "metadata": {}
  },
  {
   "outputs": [],
   "cell_type": "code",
   "source": [
    "eye = n -> Matrix(1.0*I(n))\n",
    "eye(2)"
   ],
   "metadata": {},
   "execution_count": null
  },
  {
   "cell_type": "markdown",
   "source": [
    "Make diagonal matrices using the `Diagonal` function in `LinearAlgebra`:"
   ],
   "metadata": {}
  },
  {
   "outputs": [],
   "cell_type": "code",
   "source": [
    "Diagonal(3:6)"
   ],
   "metadata": {},
   "execution_count": null
  },
  {
   "cell_type": "markdown",
   "source": [
    "This is far more memory efficient than Matlab's `diag` command\n",
    "or Julia's `LinearAlgebra.diagm` method.  Avoid using those!"
   ],
   "metadata": {}
  },
  {
   "cell_type": "markdown",
   "source": [
    "Make random vectors and matrices.\n",
    "\n",
    "$$\n",
    "x = \\begin{bmatrix}\n",
    " \\mathcal{N}(0,1) \\\\ \\mathcal{N}(0,1) \\\\ \\mathcal{N}(0,1)\n",
    " \\end{bmatrix}\n",
    "\\qquad \\text{i.e.,}\n",
    "\\quad x_i \\overset{\\text{iid}}{\\sim} \\mathcal{N}(0,1)\n",
    "$$\n",
    "\n",
    "$$\n",
    "A = \\begin{bmatrix}\n",
    "\\mathcal{N}(0,1) & \\mathcal{N}(0,1) & \\mathcal{N}(0,1) \\\\\n",
    "\\mathcal{N}(0,1) & \\mathcal{N}(0,1) & \\mathcal{N}(0,1)\n",
    "\\end{bmatrix}\n",
    "\\qquad \\text{i.e., }\n",
    "\\quad A_{ij} \\overset{\\text{iid}}{\\sim} \\mathcal{N}(0,1)\n",
    "$$"
   ],
   "metadata": {}
  },
  {
   "outputs": [],
   "cell_type": "code",
   "source": [
    "x = randn(3)"
   ],
   "metadata": {},
   "execution_count": null
  },
  {
   "outputs": [],
   "cell_type": "code",
   "source": [
    "A = randn(2,3)"
   ],
   "metadata": {},
   "execution_count": null
  },
  {
   "cell_type": "markdown",
   "source": [
    "## Matrix operations\n",
    "\n",
    "Indexing is done with **square** brackets\n",
    "(like in C and Python, unlike Matlab).\n",
    "\n",
    "Index and begins at **1**\n",
    "(like in Matlab and counting)\n",
    "not **0** (like in C or Python)."
   ],
   "metadata": {}
  },
  {
   "outputs": [],
   "cell_type": "code",
   "source": [
    "A = [1.1 1.2 1.3; 2.1 2.2 2.3]"
   ],
   "metadata": {},
   "execution_count": null
  },
  {
   "outputs": [],
   "cell_type": "code",
   "source": [
    "A[1,1]"
   ],
   "metadata": {},
   "execution_count": null
  },
  {
   "outputs": [],
   "cell_type": "code",
   "source": [
    "A[1,2:3]"
   ],
   "metadata": {},
   "execution_count": null
  },
  {
   "cell_type": "markdown",
   "source": [
    "This row-slice is a one-dimensional slice (!) not a `1×2` matrix:"
   ],
   "metadata": {}
  },
  {
   "outputs": [],
   "cell_type": "code",
   "source": [
    "A[1:2,1]"
   ],
   "metadata": {},
   "execution_count": null
  },
  {
   "outputs": [],
   "cell_type": "code",
   "source": [
    "A[2,:]"
   ],
   "metadata": {},
   "execution_count": null
  },
  {
   "cell_type": "markdown",
   "source": [
    "Vector dot product:"
   ],
   "metadata": {}
  },
  {
   "outputs": [],
   "cell_type": "code",
   "source": [
    "x = randn(3)\n",
    "xdx = x'x"
   ],
   "metadata": {},
   "execution_count": null
  },
  {
   "outputs": [],
   "cell_type": "code",
   "source": [
    "xdx = dot(x,x)"
   ],
   "metadata": {},
   "execution_count": null
  },
  {
   "outputs": [],
   "cell_type": "code",
   "source": [
    "xdx = x'*x"
   ],
   "metadata": {},
   "execution_count": null
  },
  {
   "cell_type": "markdown",
   "source": [
    "Different from Matlab! The output is a scalar, **not** a `1×1` \"matrix:\""
   ],
   "metadata": {}
  },
  {
   "outputs": [],
   "cell_type": "code",
   "source": [
    "typeof(xdx)"
   ],
   "metadata": {},
   "execution_count": null
  },
  {
   "cell_type": "markdown",
   "source": [
    "Matrix times vector:"
   ],
   "metadata": {}
  },
  {
   "outputs": [],
   "cell_type": "code",
   "source": [
    "A = randn(2,3)\n",
    "x = randn(3)\n",
    "A*x"
   ],
   "metadata": {},
   "execution_count": null
  },
  {
   "cell_type": "markdown",
   "source": [
    "Matrix times matrix:"
   ],
   "metadata": {}
  },
  {
   "outputs": [],
   "cell_type": "code",
   "source": [
    "A = randn(2,3)\n",
    "B = randn(3,4)\n",
    "A*B"
   ],
   "metadata": {},
   "execution_count": null
  },
  {
   "cell_type": "markdown",
   "source": [
    "Matrix transpose (conjugate and non-conjugate):"
   ],
   "metadata": {}
  },
  {
   "outputs": [],
   "cell_type": "code",
   "source": [
    "A = 10*reshape(1:6, 2, 3) + im * reshape(1:6, 2, 3)"
   ],
   "metadata": {},
   "execution_count": null
  },
  {
   "cell_type": "markdown",
   "source": [
    "conjugate transpose, could also use `adjoint(A)`:"
   ],
   "metadata": {}
  },
  {
   "outputs": [],
   "cell_type": "code",
   "source": [
    "A'"
   ],
   "metadata": {},
   "execution_count": null
  },
  {
   "cell_type": "markdown",
   "source": [
    "For complex arrays, rarely do we need a non-conjugate transpose.\n",
    "Usually we need `A'` instead.  But if we do:"
   ],
   "metadata": {}
  },
  {
   "outputs": [],
   "cell_type": "code",
   "source": [
    "transpose(A) # essentially sets a flag about transpose without reordering data"
   ],
   "metadata": {},
   "execution_count": null
  },
  {
   "cell_type": "markdown",
   "source": [
    "Matrix determinant:"
   ],
   "metadata": {}
  },
  {
   "outputs": [],
   "cell_type": "code",
   "source": [
    "A = Diagonal(2:4)\n",
    "det(A)"
   ],
   "metadata": {},
   "execution_count": null
  },
  {
   "outputs": [],
   "cell_type": "code",
   "source": [
    "B = randn(3,3)\n",
    "[det(A*B) det(A)*det(B)]"
   ],
   "metadata": {},
   "execution_count": null
  },
  {
   "cell_type": "markdown",
   "source": [
    "Matrix trace:"
   ],
   "metadata": {}
  },
  {
   "outputs": [],
   "cell_type": "code",
   "source": [
    "A = ones(3,3)\n",
    "tr(A) # in Matlab would be \"trace(A)\""
   ],
   "metadata": {},
   "execution_count": null
  },
  {
   "cell_type": "markdown",
   "source": [
    "More info in\n",
    "[Julia manual](https://docs.julialang.org/en/v1/manual/arrays)\n",
    "\n",
    "## Getting help\n",
    "\n",
    "Julia analogue of Matlab's `help` is `?`.\n",
    "\n",
    "Type `?pwd` in the REPL to get help on the `pwd` function.\n",
    "\n",
    "It does not work in this online documentation so we use `@doc` instead:"
   ],
   "metadata": {}
  },
  {
   "outputs": [],
   "cell_type": "code",
   "source": [
    "@doc pwd"
   ],
   "metadata": {},
   "execution_count": null
  },
  {
   "cell_type": "markdown",
   "source": [
    "- [Full documentation](https://docs.julialang.org)\n",
    "- Searching Julia's\n",
    "  [Github repo](https://github.com/JuliaLang/julia)\n",
    "  can sometimes also uncover similar issues.\n",
    "- Lots of neat talks on their\n",
    "  [YouTube channel](https://www.youtube.com/user/JuliaLanguage)\n",
    "- Here is an interesting one about\n",
    "  [vector transpose](https://www.youtube.com/watch?v=C2RO34b_oPM)\n",
    "\n",
    "## Ranges\n",
    "Ranges are different from (and much more efficient than) Matlab!"
   ],
   "metadata": {}
  },
  {
   "outputs": [],
   "cell_type": "code",
   "source": [
    "myrange = -2:3"
   ],
   "metadata": {},
   "execution_count": null
  },
  {
   "outputs": [],
   "cell_type": "code",
   "source": [
    "typeof(myrange)"
   ],
   "metadata": {},
   "execution_count": null
  },
  {
   "cell_type": "markdown",
   "source": [
    "Not an Array! But it can be indexed:"
   ],
   "metadata": {}
  },
  {
   "outputs": [],
   "cell_type": "code",
   "source": [
    "myrange[1]"
   ],
   "metadata": {},
   "execution_count": null
  },
  {
   "cell_type": "markdown",
   "source": [
    "Used often in `for` loops:"
   ],
   "metadata": {}
  },
  {
   "outputs": [],
   "cell_type": "code",
   "source": [
    "for a in myrange\n",
    "    println(a)\n",
    "end"
   ],
   "metadata": {},
   "execution_count": null
  },
  {
   "cell_type": "markdown",
   "source": [
    "Form an array by using `collect` if needed (use rarely):"
   ],
   "metadata": {}
  },
  {
   "outputs": [],
   "cell_type": "code",
   "source": [
    "collect(myrange)"
   ],
   "metadata": {},
   "execution_count": null
  },
  {
   "cell_type": "markdown",
   "source": [
    "Other ways to make ranges:"
   ],
   "metadata": {}
  },
  {
   "outputs": [],
   "cell_type": "code",
   "source": [
    "srange = 1:-1:-5"
   ],
   "metadata": {},
   "execution_count": null
  },
  {
   "outputs": [],
   "cell_type": "code",
   "source": [
    "typeof(srange)"
   ],
   "metadata": {},
   "execution_count": null
  },
  {
   "outputs": [],
   "cell_type": "code",
   "source": [
    "lrange = range(0, 2, 10)"
   ],
   "metadata": {},
   "execution_count": null
  },
  {
   "outputs": [],
   "cell_type": "code",
   "source": [
    "typeof(lrange)"
   ],
   "metadata": {},
   "execution_count": null
  },
  {
   "cell_type": "markdown",
   "source": [
    "Yet another option that looks the most like `linspace`:"
   ],
   "metadata": {}
  },
  {
   "outputs": [],
   "cell_type": "code",
   "source": [
    "LinRange(0,10,6)"
   ],
   "metadata": {},
   "execution_count": null
  },
  {
   "cell_type": "markdown",
   "source": [
    "## Comprehensions"
   ],
   "metadata": {}
  },
  {
   "cell_type": "markdown",
   "source": [
    "A convenient way to create arrays!"
   ],
   "metadata": {}
  },
  {
   "outputs": [],
   "cell_type": "code",
   "source": [
    "comp = [i+0.1 for i in 1:5]"
   ],
   "metadata": {},
   "execution_count": null
  },
  {
   "outputs": [],
   "cell_type": "code",
   "source": [
    "comp = [10i + j for i in 1:5, j in 1:4]"
   ],
   "metadata": {},
   "execution_count": null
  },
  {
   "cell_type": "markdown",
   "source": [
    "## Defining functions"
   ],
   "metadata": {}
  },
  {
   "cell_type": "markdown",
   "source": [
    "Way 1:"
   ],
   "metadata": {}
  },
  {
   "outputs": [],
   "cell_type": "code",
   "source": [
    "function f1(x,y)\n",
    "    z = x+y\n",
    "    return z\n",
    "end"
   ],
   "metadata": {},
   "execution_count": null
  },
  {
   "cell_type": "markdown",
   "source": [
    "Way 2:"
   ],
   "metadata": {}
  },
  {
   "outputs": [],
   "cell_type": "code",
   "source": [
    "f2(x,y) = x+y"
   ],
   "metadata": {},
   "execution_count": null
  },
  {
   "cell_type": "markdown",
   "source": [
    "Way 3: Anonymous function:"
   ],
   "metadata": {}
  },
  {
   "outputs": [],
   "cell_type": "code",
   "source": [
    "f3 = (x,y) -> x+y"
   ],
   "metadata": {},
   "execution_count": null
  },
  {
   "cell_type": "markdown",
   "source": [
    "Functions can return multiple outputs:"
   ],
   "metadata": {}
  },
  {
   "outputs": [],
   "cell_type": "code",
   "source": [
    "function f_mult(x, y)\n",
    "    add = x + y\n",
    "    sub = x - y\n",
    "    return add, sub\n",
    "end;\n",
    "\n",
    "f_mult(2,3)"
   ],
   "metadata": {},
   "execution_count": null
  },
  {
   "cell_type": "markdown",
   "source": [
    "The output is a `Tuple` of the returned values:"
   ],
   "metadata": {}
  },
  {
   "outputs": [],
   "cell_type": "code",
   "source": [
    "out_tuple = f_mult(2,3)"
   ],
   "metadata": {},
   "execution_count": null
  },
  {
   "outputs": [],
   "cell_type": "code",
   "source": [
    "typeof(out_tuple)"
   ],
   "metadata": {},
   "execution_count": null
  },
  {
   "cell_type": "markdown",
   "source": [
    "Convenient way to split out the outputs:"
   ],
   "metadata": {}
  },
  {
   "outputs": [],
   "cell_type": "code",
   "source": [
    "out1, out2 = f_mult(2,3)"
   ],
   "metadata": {},
   "execution_count": null
  },
  {
   "outputs": [],
   "cell_type": "code",
   "source": [
    "out1"
   ],
   "metadata": {},
   "execution_count": null
  },
  {
   "outputs": [],
   "cell_type": "code",
   "source": [
    "out2"
   ],
   "metadata": {},
   "execution_count": null
  },
  {
   "cell_type": "markdown",
   "source": [
    "## Broadcast\n",
    "\n",
    "Any Julia function can be \"vectorized\" using \"broadcast\""
   ],
   "metadata": {}
  },
  {
   "outputs": [],
   "cell_type": "code",
   "source": [
    "myquad = x -> (x+1)^2"
   ],
   "metadata": {},
   "execution_count": null
  },
  {
   "outputs": [],
   "cell_type": "code",
   "source": [
    "myquad(1)"
   ],
   "metadata": {},
   "execution_count": null
  },
  {
   "outputs": [],
   "cell_type": "code",
   "source": [
    "try\n",
    "    myquad([1,2,3]) # this does not work!\n",
    "catch\n",
    "    \"failed, as expected\"\n",
    "end"
   ],
   "metadata": {},
   "execution_count": null
  },
  {
   "cell_type": "markdown",
   "source": [
    "This particular function was not designed\n",
    "to be applied to vector input arguments!\n",
    "But it can be used with vectors (or arrays)\n",
    "by adding a `.` to tell Julia to apply it element-wise.\n",
    "This is called\n",
    "[broadcasting](https://docs.julialang.org/en/v1/manual/arrays/#Broadcasting)."
   ],
   "metadata": {}
  },
  {
   "outputs": [],
   "cell_type": "code",
   "source": [
    "myquad.([1,2,3])"
   ],
   "metadata": {},
   "execution_count": null
  },
  {
   "cell_type": "markdown",
   "source": [
    "## Conditionals\n",
    "\n",
    "`if` `else` `end` `for`\n",
    "\n",
    "Generally similar to Matlab.\n",
    "Optional use of `in` instead of `=` in the for loop."
   ],
   "metadata": {}
  },
  {
   "outputs": [],
   "cell_type": "code",
   "source": [
    "for j in 1:3\n",
    "    if j == 2\n",
    "        println(\"$j is a two! ^^\")\n",
    "    else\n",
    "        println(\"$j is not a two. :(\")\n",
    "    end\n",
    "end"
   ],
   "metadata": {},
   "execution_count": null
  },
  {
   "cell_type": "markdown",
   "source": [
    "Julia has the convenient ternary operator:"
   ],
   "metadata": {}
  },
  {
   "outputs": [],
   "cell_type": "code",
   "source": [
    "mystring = 2 > 3 ? \"2 is greater than 3\" : \"2 is not greater than 3\""
   ],
   "metadata": {},
   "execution_count": null
  },
  {
   "cell_type": "markdown",
   "source": [
    "## Plotting\n",
    "Suggested package: `Plots.jl` with its default `gr` backend.\n",
    "\n",
    "**Note:** Usually slower the first time you plot due to precompiling.\n",
    "You must `add` the \"Plots\" package first.\n",
    "In a regular Julia REPL you do this\n",
    "by using the `]` key to enter the package manager REPL,\n",
    "and then type `add Plots` then wait.\n",
    "\n",
    "In a Jupyter notebook,\n",
    "type `using Pkg` then `add Plots` and wait."
   ],
   "metadata": {}
  },
  {
   "outputs": [],
   "cell_type": "code",
   "source": [
    "using Plots\n",
    "backend()"
   ],
   "metadata": {},
   "execution_count": null
  },
  {
   "cell_type": "markdown",
   "source": [
    "Plot values from a vector.  (The labels are optional arguments.)"
   ],
   "metadata": {}
  },
  {
   "outputs": [],
   "cell_type": "code",
   "source": [
    "x = range(-5,5,101)\n",
    "y = x.^2\n",
    "plot(x, y, xlabel=\"x\", ylabel=\"y\", label=\"parabola\")"
   ],
   "metadata": {},
   "execution_count": null
  },
  {
   "cell_type": "markdown",
   "source": [
    "## `heatmap`"
   ],
   "metadata": {}
  },
  {
   "outputs": [],
   "cell_type": "code",
   "source": [
    "x = range(-2, 2, 101)\n",
    "y = range(-1.1, 1.1, 103)\n",
    "A = x.^2 .+ 30 * (y.^2)'\n",
    "F = exp.(-A)\n",
    "p1 = heatmap(x, y, F', # for F(x,y)\n",
    "    color=:grays, aspect_ratio=:equal, xlabel=\"x\", ylabel=\"y\", title=\"bump\")"
   ],
   "metadata": {},
   "execution_count": null
  },
  {
   "cell_type": "markdown",
   "source": [
    "Using the `jim` function the `MIRTjim.jl` package simplifies\n",
    "the display of 2D images, among other features.\n",
    "See its\n",
    "[examples](https://jefffessler.github.io/MIRTjim.jl/stable/generated/examples/1-examples)."
   ],
   "metadata": {}
  },
  {
   "cell_type": "markdown",
   "source": [
    "## Plotting functions\n",
    "\n",
    "`Plots.jl` allows you to pass in the domain and a function.\n",
    "It does the rest. :)\n",
    "This is one many examples of how Julia exploits \"multiple dispatch.\""
   ],
   "metadata": {}
  },
  {
   "outputs": [],
   "cell_type": "code",
   "source": [
    "plot(range(0,1,100), abs2, label=\"x^2\")"
   ],
   "metadata": {},
   "execution_count": null
  },
  {
   "outputs": [],
   "cell_type": "code",
   "source": [
    "heatmap(range(-2,2,102), range(-1.1,1.1,100),\n",
    "    (x,y) -> exp(-x^2-30*y^2), aspect_ratio=1)"
   ],
   "metadata": {},
   "execution_count": null
  },
  {
   "cell_type": "markdown",
   "source": [
    "More info about plotting at\n",
    "[https://juliaplots.github.io](https://juliaplots.github.io)"
   ],
   "metadata": {}
  },
  {
   "cell_type": "markdown",
   "source": [
    "## Caution: line breaks (newlines)\n",
    "\n",
    "If you want an expression to span multiple lines,\n",
    "then be sure to enclose it in parentheses."
   ],
   "metadata": {}
  },
  {
   "cell_type": "markdown",
   "source": [
    "Compare the following 3 (actually 4) expressions:"
   ],
   "metadata": {}
  },
  {
   "outputs": [],
   "cell_type": "code",
   "source": [
    "x = 9\n",
    "    - 7"
   ],
   "metadata": {},
   "execution_count": null
  },
  {
   "outputs": [],
   "cell_type": "code",
   "source": [
    "y = 9 -\n",
    "    7"
   ],
   "metadata": {},
   "execution_count": null
  },
  {
   "outputs": [],
   "cell_type": "code",
   "source": [
    "z = (9\n",
    "    - 7)"
   ],
   "metadata": {},
   "execution_count": null
  },
  {
   "outputs": [],
   "cell_type": "code",
   "source": [
    "(x,y,z)"
   ],
   "metadata": {},
   "execution_count": null
  },
  {
   "cell_type": "markdown",
   "source": [
    "## Submitting homework\n",
    "\n",
    "This part is just for EECS 551 students at UM.\n",
    "\n",
    "A quick example to try submitting problems.\n",
    "\n",
    "**Task:**\n",
    "Implement a function that takes two inputs and outputs them in reverse order."
   ],
   "metadata": {}
  },
  {
   "outputs": [],
   "cell_type": "code",
   "source": [
    "function template1(x, y)\n",
    "    return (y, x)\n",
    "end;\n",
    "\n",
    "template1(2, 3)"
   ],
   "metadata": {},
   "execution_count": null
  },
  {
   "cell_type": "markdown",
   "source": [
    "Copy the above function code into a file named `template1.jl`\n",
    "and email to `eecs551@autograder.eecs.umich.edu`.\n",
    "\n",
    "Make sure that:\n",
    "- All reasonable input types can be handled.\n",
    "  Internally trying to convert a `Float64` to an `Int64` can produce `InexactError`\n",
    "- File extension is `.jl`. Watch out for hidden extensions!\n",
    "- File has just the Julia function.\n",
    "- (Your HW solutions can also contain `using` statements.)\n",
    "\n",
    "An undocumented function is bad programming practice.\n",
    "Julia supports `docstrings` for comments like this:"
   ],
   "metadata": {}
  },
  {
   "outputs": [],
   "cell_type": "code",
   "source": [
    "\"\"\"\n",
    "    template2(x,y)\n",
    "This function reverses the order of the two input arguments.\n",
    "\"\"\"\n",
    "function template2(x,y)\n",
    "    return (y,x)\n",
    "end"
   ],
   "metadata": {},
   "execution_count": null
  },
  {
   "cell_type": "markdown",
   "source": [
    "You can see the docstring by using the `?` key or `@doc`:"
   ],
   "metadata": {}
  },
  {
   "outputs": [],
   "cell_type": "code",
   "source": [
    "@doc template2"
   ],
   "metadata": {},
   "execution_count": null
  },
  {
   "cell_type": "markdown",
   "source": [
    "---\n",
    "\n",
    "*This notebook was generated using [Literate.jl](https://github.com/fredrikekre/Literate.jl).*"
   ],
   "metadata": {}
  }
 ],
 "nbformat_minor": 3,
 "metadata": {
  "language_info": {
   "file_extension": ".jl",
   "mimetype": "application/julia",
   "name": "julia",
   "version": "1.11.6"
  },
  "kernelspec": {
   "name": "julia-1.11",
   "display_name": "Julia 1.11.6",
   "language": "julia"
  }
 },
 "nbformat": 4
}

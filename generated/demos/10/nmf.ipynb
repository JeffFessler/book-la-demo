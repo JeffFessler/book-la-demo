{
 "cells": [
  {
   "cell_type": "markdown",
   "source": [
    "# Non-negative matrix factorization\n",
    "\n",
    "[Non-negative matrix factorization](https://en.wikipedia.org/wiki/Non-negative_matrix_factorization)\n",
    "of hand-written digit images\n",
    "in Julia."
   ],
   "metadata": {}
  },
  {
   "cell_type": "markdown",
   "source": [
    "## Setup\n",
    "\n",
    "Add the Julia packages used in this demo.\n",
    "Change `false` to `true` in the following code block\n",
    "if you are using any of the following packages for the first time."
   ],
   "metadata": {}
  },
  {
   "outputs": [],
   "cell_type": "code",
   "source": [
    "if false\n",
    "    import Pkg\n",
    "    Pkg.add([\n",
    "        \"InteractiveUtils\"\n",
    "        \"LinearAlgebra\"\n",
    "        \"MIRTjim\"\n",
    "        \"MLDatasets\"\n",
    "        \"NMF\"\n",
    "        \"Plots\"\n",
    "    ])\n",
    "end"
   ],
   "metadata": {},
   "execution_count": null
  },
  {
   "cell_type": "markdown",
   "source": [
    "Tell Julia to use the following packages.\n",
    "Run `Pkg.add()` in the preceding code block first, if needed."
   ],
   "metadata": {}
  },
  {
   "outputs": [],
   "cell_type": "code",
   "source": [
    "using InteractiveUtils: versioninfo\n",
    "using LinearAlgebra: svd\n",
    "using MIRTjim: jim, prompt\n",
    "using MLDatasets: MNIST\n",
    "using NMF: nnmf\n",
    "using Plots: default, gui, savefig\n",
    "default(); default(markersize=5, markerstrokecolor=:auto, label=\"\",\n",
    " tickfontsize=14, labelfontsize=18, legendfontsize=18, titlefontsize=18)"
   ],
   "metadata": {},
   "execution_count": null
  },
  {
   "cell_type": "markdown",
   "source": [
    "The following line is helpful when running this file as a script;\n",
    "this way it will prompt user to hit a key after each figure is displayed."
   ],
   "metadata": {}
  },
  {
   "outputs": [],
   "cell_type": "code",
   "source": [
    "isinteractive() ? jim(:prompt, true) : prompt(:draw);"
   ],
   "metadata": {},
   "execution_count": null
  },
  {
   "cell_type": "markdown",
   "source": [
    "## Load data\n",
    "\n",
    "Read the MNIST data for some handwritten digits.\n",
    "This code will automatically download the data from web if needed\n",
    "and put it in a folder like: `~/.julia/datadeps/MNIST/`."
   ],
   "metadata": {}
  },
  {
   "outputs": [],
   "cell_type": "code",
   "source": [
    "if !@isdefined(data)\n",
    "    digitn = 0:9 # which digits to use\n",
    "    isinteractive() || (ENV[\"DATADEPS_ALWAYS_ACCEPT\"] = true) # avoid prompt\n",
    "    dataset = MNIST(Float32, :train)\n",
    "    nrep = 100 # how many of each digit\n",
    "    # function to extract the 1st `nrep` examples of digit n:\n",
    "    data = n -> dataset.features[:,:,findall(==(n), dataset.targets)[1:nrep]]\n",
    "    data = cat(dims=4, data.(digitn)...)\n",
    "    labels = vcat([fill(d, nrep) for d in digitn]...) # to check later\n",
    "    nx, ny, nrep, ndigit = size(data)\n",
    "    data = data[:,2:ny,:,:] # make images non-square to force debug\n",
    "    ny = size(data,2)\n",
    "    size(data) # (nx, ny, nrep, ndigit)\n",
    "end"
   ],
   "metadata": {},
   "execution_count": null
  },
  {
   "cell_type": "markdown",
   "source": [
    "Look at some of the image data"
   ],
   "metadata": {}
  },
  {
   "outputs": [],
   "cell_type": "code",
   "source": [
    "pd = jim(data[:,:,1:50,:], \"Data, M=$(nx*ny), N=$(nrep*ndigit)\";\n",
    "    colorbar=nothing, size=(600,400), tickfontsize=6, ncol=25)\n",
    "\n",
    "# savefig(pd, \"nmf-data.pdf\")"
   ],
   "metadata": {},
   "execution_count": null
  },
  {
   "cell_type": "markdown",
   "source": [
    "## Run NMF"
   ],
   "metadata": {}
  },
  {
   "outputs": [],
   "cell_type": "code",
   "source": [
    "Y = reshape(data, nx*ny, :) # unfold\n",
    "K = 20\n",
    "out = nnmf(Y, K)"
   ],
   "metadata": {},
   "execution_count": null
  },
  {
   "cell_type": "markdown",
   "source": [
    "## Results\n",
    "Examine the left factor vectors as images."
   ],
   "metadata": {}
  },
  {
   "outputs": [],
   "cell_type": "code",
   "source": [
    "W = reshape(out.W, nx, ny, K)\n",
    "# H = out.H\n",
    "pw = jim(W/maximum(W); title=\"Left NMF factor images, K=$K\", color=:cividis)\n",
    "\n",
    "# savefig(pw, \"nmf-w.pdf\")"
   ],
   "metadata": {},
   "execution_count": null
  },
  {
   "cell_type": "markdown",
   "source": [
    "## SVD basis\n",
    "Examine the left singular vectors as images."
   ],
   "metadata": {}
  },
  {
   "outputs": [],
   "cell_type": "code",
   "source": [
    "U = reshape(svd(Y).U[:,1:K], nx, ny, K)\n",
    "pu = jim(U/maximum(U); title=\"Left singular vectors\", color=:cividis)\n",
    "\n",
    "# savefig(pu, \"nmf-u.pdf\")"
   ],
   "metadata": {},
   "execution_count": null
  },
  {
   "cell_type": "markdown",
   "source": [
    "---\n",
    "\n",
    "*This notebook was generated using [Literate.jl](https://github.com/fredrikekre/Literate.jl).*"
   ],
   "metadata": {}
  }
 ],
 "nbformat_minor": 3,
 "metadata": {
  "language_info": {
   "file_extension": ".jl",
   "mimetype": "application/julia",
   "name": "julia",
   "version": "1.11.6"
  },
  "kernelspec": {
   "name": "julia-1.11",
   "display_name": "Julia 1.11.6",
   "language": "julia"
  }
 },
 "nbformat": 4
}

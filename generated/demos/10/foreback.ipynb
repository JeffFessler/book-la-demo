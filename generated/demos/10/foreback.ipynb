{
 "cells": [
  {
   "cell_type": "markdown",
   "source": [
    "# Video foreground/background separation\n",
    "\n",
    "This example illustrates\n",
    "video foreground/background separation\n",
    "via\n",
    "[robust PCA](https://en.wikipedia.org/wiki/Robust_principal_component_analysis)\n",
    "using the Julia language.\n",
    "For simplicity,\n",
    "the method here assumes a static camera.\n",
    "For free-motion camera video, see\n",
    "[Moore et al., 2019](https://doi.org/10.1109/TCI.2019.2891389)."
   ],
   "metadata": {}
  },
  {
   "cell_type": "markdown",
   "source": [
    "## Setup\n",
    "Add the Julia packages used in this demo.\n",
    "Change `false` to `true` in the following code block\n",
    "if you are using any of the following packages for the first time."
   ],
   "metadata": {}
  },
  {
   "outputs": [],
   "cell_type": "code",
   "source": [
    "if false\n",
    "    import Pkg\n",
    "    Pkg.add([\n",
    "        \"ColorTypes\"\n",
    "        \"ColorVectorSpace\"\n",
    "        \"Downloads\"\n",
    "        \"InteractiveUtils\"\n",
    "        \"LaTeXStrings\"\n",
    "        \"LinearAlgebra\"\n",
    "        \"LinearMapsAA\"\n",
    "        \"MIRT\"\n",
    "        \"MIRTjim\"\n",
    "        \"Plots\"\n",
    "        \"Statistics\"\n",
    "        \"VideoIO\"\n",
    "    ])\n",
    "end"
   ],
   "metadata": {},
   "execution_count": null
  },
  {
   "cell_type": "markdown",
   "source": [
    "Tell Julia to use the following packages.\n",
    "Run `Pkg.add()` in the preceding code block first, if needed."
   ],
   "metadata": {}
  },
  {
   "outputs": [],
   "cell_type": "code",
   "source": [
    "using ColorTypes: RGB, N0f8\n",
    "using ColorVectorSpace\n",
    "using Downloads: download\n",
    "using InteractiveUtils: versioninfo\n",
    "using LaTeXStrings\n",
    "using LinearAlgebra: Diagonal, I, norm, svd, svdvals\n",
    "using LinearMapsAA: LinearMapAA, redim\n",
    "using MIRT: pogm_restart\n",
    "using MIRTjim: jim, prompt\n",
    "using Plots: default, gui, plot, savefig\n",
    "using Plots: gif, @animate, Plots\n",
    "using Statistics: mean\n",
    "using VideoIO\n",
    "default(); default(markerstrokecolor=:auto, label = \"\", markersize=6,\n",
    "legendfontsize = 8) # todo: https://github.com/JuliaPlots/Plots.jl/issues/4621"
   ],
   "metadata": {},
   "execution_count": null
  },
  {
   "cell_type": "markdown",
   "source": [
    "The following line is helpful when running this file as a script;\n",
    "this way it will prompt user to hit a key after each image is displayed."
   ],
   "metadata": {}
  },
  {
   "outputs": [],
   "cell_type": "code",
   "source": [
    "isinteractive() && prompt(:prompt);"
   ],
   "metadata": {},
   "execution_count": null
  },
  {
   "cell_type": "markdown",
   "source": [
    "## Load video data"
   ],
   "metadata": {}
  },
  {
   "cell_type": "markdown",
   "source": [
    "Load raw data"
   ],
   "metadata": {}
  },
  {
   "outputs": [],
   "cell_type": "code",
   "source": [
    "if !@isdefined(y1)\n",
    "    url = \"https://github.com/JeffFessler/book-la-data/raw/main/data/bmc-12/111-240-320-100.mp4\"\n",
    "    tmp = download(url)\n",
    "    y1 = VideoIO.load(tmp) # 100 frames of size (240,320)\n",
    "    if !isinteractive() # downsample for github cloud\n",
    "        y1 = map(y -> y[1:2:end,1:2:end], (@view y1[2:2:end]))\n",
    "    end\n",
    "end;"
   ],
   "metadata": {},
   "execution_count": null
  },
  {
   "cell_type": "markdown",
   "source": [
    "Convert to array"
   ],
   "metadata": {}
  },
  {
   "outputs": [],
   "cell_type": "code",
   "source": [
    "yf = map(y -> 1f0*permutedims(y, (2,1)), y1) # 100 frames of size (320,240)\n",
    "Y3 = stack(yf) # (nx,ny,nf)\n",
    "(nx, ny, nf) = size(Y3)\n",
    "py = jim([yf[1], yf[end], yf[end]-yf[1]];\n",
    "    nrow = 1, size = (600, 200),\n",
    "    title=\"Frame 001  |  Frame $nf  |  Difference\")"
   ],
   "metadata": {},
   "execution_count": null
  },
  {
   "cell_type": "markdown",
   "source": [
    "## Cost function"
   ],
   "metadata": {}
  },
  {
   "cell_type": "markdown",
   "source": [
    "Encoding operator `A = [I I]` for L+S because we stack `X = [L;;;S]`"
   ],
   "metadata": {}
  },
  {
   "outputs": [],
   "cell_type": "code",
   "source": [
    "tmp = LinearMapAA(I(nx*ny*nf);\n",
    "    odim=(nx,ny,nf), idim=(nx,ny,nf), T=Float32, prop=(;name=\"I\"))\n",
    "tmp = kron([1 1], tmp)\n",
    "A = redim(tmp; odim=(nx,ny,nf), idim=(nx,ny,nf,2)) # \"squeeze\" odim\n",
    "\n",
    "unstack(X, i) = selectdim(X, ndims(X), i)\n",
    "Lpart = X -> unstack(X, 1) # extract \"L\" from X\n",
    "Spart = X -> unstack(X, 2) # extract \"S\" from X\n",
    "nucnorm(L::AbstractMatrix) = sum(svdvals(L)) # nuclear norm\n",
    "nucnorm(L::AbstractArray) = nucnorm(reshape(L, :, nf)); # (nx*ny, nf) for L"
   ],
   "metadata": {},
   "execution_count": null
  },
  {
   "cell_type": "markdown",
   "source": [
    "The robust PCA optimization cost function is:\n",
    "$$\n",
    "Ψ(\\mathbf{L},\\mathbf{S}) = \\frac{1}{2}\n",
    " \\| \\mathbf{L} + \\mathbf{S} - \\mathbf{Y} \\|_{\\mathrm{F}}^2\n",
    " + α \\| \\mathbf{L} \\|_* + β \\| \\mathrm{vec}(\\mathbf{S}) \\|_1\n",
    "$$\n",
    "or equivalently\n",
    "$$\n",
    "Ψ(\\mathbf{X}) = \\frac{1}{2}\n",
    " \\left\\| [\\mathbf{I} \\ \\mathbf{I}] \\mathbf{X} - \\mathbf{Y} \\right\\|_{\\mathrm{F}}^2\n",
    " + α \\| \\mathbf{X}_1 \\|_* + β \\| \\mathrm{vec}(\\mathbf{X}_2) \\|_1\n",
    "$$\n",
    "where $\\mathbf{Y}$ is the original data matrix."
   ],
   "metadata": {}
  },
  {
   "outputs": [],
   "cell_type": "code",
   "source": [
    "robust_pca_cost(Y, X, α::Real, β::Real) =\n",
    "    0.5 * norm( A * X - Y )^2 + α * nucnorm(Lpart(X)) + β * norm(Spart(X), 1);"
   ],
   "metadata": {},
   "execution_count": null
  },
  {
   "cell_type": "markdown",
   "source": [
    "Proximal algorithm helpers:"
   ],
   "metadata": {}
  },
  {
   "outputs": [],
   "cell_type": "code",
   "source": [
    "soft(z,t) = sign(z) * max(abs(z) - t, 0);"
   ],
   "metadata": {},
   "execution_count": null
  },
  {
   "cell_type": "markdown",
   "source": [
    "Singular value soft thresholding (SVST) function:"
   ],
   "metadata": {}
  },
  {
   "outputs": [],
   "cell_type": "code",
   "source": [
    "function SVST(X, beta)\n",
    "    shape = size(X)\n",
    "    X = reshape(X, :, shape[end]) # unfold\n",
    "    U,s,V = svd(X)\n",
    "    sthresh = @. soft(s, beta)\n",
    "    jj = findall(>(0), sthresh)\n",
    "    out = U[:,jj] * Diagonal(sthresh[jj]) * V[:,jj]'\n",
    "    return reshape(out, shape)\n",
    "end;"
   ],
   "metadata": {},
   "execution_count": null
  },
  {
   "cell_type": "markdown",
   "source": [
    "## Algorithm\n",
    "Proximal gradient methods for minimizing\n",
    "robust PCA cost function.\n",
    "\n",
    "The\n",
    "[proximal optimized gradient method (POGM)](https://doi.org/10.1137/16m108104x)\n",
    "with\n",
    "[adaptive restart](https://doi.org/10.1007/s10957-018-1287-4)\n",
    "is faster than FISTA\n",
    "with very similar computation per iteration.\n",
    "POGM does not require any algorithm tuning parameter,\n",
    "making it easier to use than ADMM\n",
    "in many practical composite optimization problems."
   ],
   "metadata": {}
  },
  {
   "outputs": [],
   "cell_type": "code",
   "source": [
    "function robust_pca(Y;\n",
    "    L = Y,\n",
    "    S = zeros(size(Y)),\n",
    "    α = 1,\n",
    "    β = 1,\n",
    "    mom = :pogm,\n",
    "    Fcost::Function = X -> robust_pca_cost(Y, X, α, β),\n",
    "#  fun = (iter, xk, yk, is_restart) -> (),\n",
    "    fun = mom === :fgm ?\n",
    "        (iter, xk, yk, is_restart) -> (yk, Fcost(yk), is_restart) :\n",
    "        (iter, xk, yk, is_restart) -> (xk, Fcost(xk), is_restart),\n",
    "    kwargs..., # for pogm_restart\n",
    ")\n",
    "\n",
    "    X0 = stack([L, S])\n",
    "    f_grad = X -> A' * (A * X - Y) # gradient of smooth term\n",
    "    f_L = 2 # Lipschitz constant of f_grad\n",
    "    g_prox = (X, c) -> stack([SVST(Lpart(X), c * α), soft.(Spart(X), c * β)])\n",
    "    Xhat, out = pogm_restart(X0, Fcost, f_grad, f_L; g_prox, fun, mom, kwargs...)\n",
    "    return Xhat, out\n",
    "end;"
   ],
   "metadata": {},
   "execution_count": null
  },
  {
   "cell_type": "markdown",
   "source": [
    "## Run algorithm\n",
    "Apply robust PCA to each RGB color channel separately\n",
    "for simplicity, then reassemble."
   ],
   "metadata": {}
  },
  {
   "outputs": [],
   "cell_type": "code",
   "source": [
    "channels = [:r :g :b]\n",
    "if !@isdefined(Xpogm)\n",
    "    α = 30\n",
    "    β = 0.1\n",
    "    niter = 10\n",
    "    Xc = Array{Any}(undef, 3)\n",
    "    out = Array{Any}(undef, 3)\n",
    "    for (i, c) in enumerate(channels) # separate color channels\n",
    "        @info \"channel $c\"\n",
    "        Yc = map(y -> getfield(y, c), Y3);\n",
    "        Xc[i], out[i] = robust_pca(Yc; α, β, mom = :pogm, niter)\n",
    "    end\n",
    "    Xpogm = map(RGB{Float32}, Xc...) # reassemble colors\n",
    "end;"
   ],
   "metadata": {},
   "execution_count": null
  },
  {
   "cell_type": "markdown",
   "source": [
    "## Results"
   ],
   "metadata": {}
  },
  {
   "cell_type": "markdown",
   "source": [
    "Extract low-rank (background) and sparse (foreground) components:"
   ],
   "metadata": {}
  },
  {
   "outputs": [],
   "cell_type": "code",
   "source": [
    "Lpogm = Lpart(Xpogm)\n",
    "Spogm = Spart(Xpogm)\n",
    "iz = nf * 81 ÷ 100\n",
    "tmp = stack([Y3[:,:,iz], Lpogm[:,:,iz], Spogm[:,:,iz]])\n",
    "jim(:line3type, :white)\n",
    "pf = jim(tmp; nrow=1, size=(700, 250),\n",
    "# xaxis = false, yaxis = false, # book\n",
    " title=\"Original frame $iz | low-rank background | sparse foreground\")\n",
    "# savefig(pf, \"foreback-81.pdf\")"
   ],
   "metadata": {},
   "execution_count": null
  },
  {
   "cell_type": "markdown",
   "source": [
    "Cost function plot\n",
    "overall cost for all 3 color channels"
   ],
   "metadata": {}
  },
  {
   "outputs": [],
   "cell_type": "code",
   "source": [
    "tmp = sum(out -> [o[2] for o in out], out)\n",
    "pc = plot(0:niter, tmp; marker = :circle, label=\"POGM\", widen = true,\n",
    "  xaxis=(\"Iteration\", (0,niter), 0:2:niter), ylabel=\"Cost function\")"
   ],
   "metadata": {},
   "execution_count": null
  },
  {
   "outputs": [],
   "cell_type": "code",
   "source": [
    "prompt()"
   ],
   "metadata": {},
   "execution_count": null
  },
  {
   "cell_type": "markdown",
   "source": [
    "## Alternatives\n",
    "Explore simpler methods:\n",
    "- average of each color channel\n",
    "- first SVD component of each color channel"
   ],
   "metadata": {}
  },
  {
   "outputs": [],
   "cell_type": "code",
   "source": [
    "if !@isdefined(Xsvd3)\n",
    "    Xmean = Vector{Matrix{Float32}}(undef, 3)\n",
    "    Xsvd3 = Vector{Matrix{Float32}}(undef, 3)\n",
    "    refold = v -> reshape(v, nx, ny)\n",
    "    for (i, c) in enumerate(channels) # separate color channels\n",
    "        @info \"channel $c\"\n",
    "        tmp_ = map(y -> getfield(y, c), Y3) # (nx,ny,nf)\n",
    "        Xsvd3[i] = refold(svd(reshape(tmp_, :, nf)).U[:,1]) # first component\n",
    "        Xmean[i] = refold(mean(tmp_, dims=3))\n",
    "    end\n",
    "    Xmean = map(RGB{Float32}, Xmean...) # reassemble colors\n",
    "    L1 = Lpogm[:,:,1]\n",
    "    extrema(norm.(Lpogm .- Xmean))\n",
    "end"
   ],
   "metadata": {},
   "execution_count": null
  },
  {
   "cell_type": "markdown",
   "source": [
    "In this case\n",
    "the temporal average of the video sequence\n",
    "is pretty close to the low-rank component,\n",
    "because this video is so simple.\n",
    "The benefits of robust PCA\n",
    "would be more apparent\n",
    "with more complicated videos,\n",
    "e.g.,\n",
    "with illumination changes.\n",
    "Even here one can see undesirable effects\n",
    "of the sparse component\n",
    "in the average\n",
    "when we scale the difference image."
   ],
   "metadata": {}
  },
  {
   "outputs": [],
   "cell_type": "code",
   "source": [
    "pm = jim(\n",
    " jim(Xmean, \"Average\"),\n",
    " jim(L1, L\"L_1\"),\n",
    " jim(9 * abs.(L1 - Xmean), \"9 × |L_1 - average|\"),\n",
    "# jim(L1 .== Xmean),\n",
    ")"
   ],
   "metadata": {},
   "execution_count": null
  },
  {
   "cell_type": "markdown",
   "source": [
    "Examining the first SVD component of each color\n",
    "takes a bit more work.\n",
    "SVD components have unit norm,\n",
    "but RGB values should be in [0,1] range.\n",
    "And the SVD has a sign ambiguity.\n",
    "Even after correcting for those issues,\n",
    "the SVD version has a visibly different color tint."
   ],
   "metadata": {}
  },
  {
   "outputs": [],
   "cell_type": "code",
   "source": [
    "ps1 = jim(Xsvd3; nrow=1, title=\"Xsvd before corrections\", size=(600,200))"
   ],
   "metadata": {},
   "execution_count": null
  },
  {
   "cell_type": "markdown",
   "source": [
    "Correct for SVD sign ambiguity"
   ],
   "metadata": {}
  },
  {
   "outputs": [],
   "cell_type": "code",
   "source": [
    "Xsvd = map(x -> x / sign(mean(x)), Xsvd3)\n",
    "ps2 = jim(Xsvd; nrow=1, title=\"Xsvd after sign correction\", size=(600,200))"
   ],
   "metadata": {},
   "execution_count": null
  },
  {
   "cell_type": "markdown",
   "source": [
    "Correct for scaling"
   ],
   "metadata": {}
  },
  {
   "outputs": [],
   "cell_type": "code",
   "source": [
    "svdmax = maximum(maximum, Xsvd)\n",
    "Xsvd = map(x -> x / svdmax, Xsvd)\n",
    "Xsvd = map(RGB{Float32}, Xsvd...) # reassemble colors\n",
    "ps = jim(\n",
    " jim(yf[1], \"First frame\"),\n",
    " jim(Lpogm[:,:,1], L\"L_1\"),\n",
    " jim(Xsvd, \"Xsvd\"),\n",
    " layout = (1,3),\n",
    " size = (600,200),\n",
    ")"
   ],
   "metadata": {},
   "execution_count": null
  },
  {
   "cell_type": "markdown",
   "source": [
    "Explore rank-1 approximation of each color channel."
   ],
   "metadata": {}
  },
  {
   "outputs": [],
   "cell_type": "code",
   "source": [
    "function lr_channel(arr::Array, r::Int=1)\n",
    "    Xlr = Vector{Array{Float32}}(undef, 3)\n",
    "    for (i, c) in enumerate(channels) # separate color channels\n",
    "        @info \"lr_channel $c\"\n",
    "        tmp = map(y -> getfield(y, c), arr) # (nx,ny,nf)\n",
    "        tmp = svd(reshape(tmp, :, nf))\n",
    "        tmp = tmp.U[:,1:r] * Diagonal(tmp.S[1:r]) * tmp.Vt[1:r,:]\n",
    "        tmp = reshape(tmp, nx, ny, :)\n",
    "        Xlr[i] = tmp\n",
    "    end\n",
    "    return Xlr\n",
    "end\n",
    "if !@isdefined(Xr1)\n",
    "    Xr1 = lr_channel(Y3)\n",
    "    Xr1 = map(RGB{Float32}, Xr1...) # reassemble colors\n",
    "    jim(Xr1)\n",
    "end;"
   ],
   "metadata": {},
   "execution_count": null
  },
  {
   "cell_type": "markdown",
   "source": [
    "Examine residual between rank-1 approximation\n",
    "and the original video sequence.\n",
    "The residual has a lot of sparse structure to it,\n",
    "rather than being random noise,\n",
    "suggesting that a robust PCA approach\n",
    "with a low-rank + sparse signal model\n",
    "could be more suitable."
   ],
   "metadata": {}
  },
  {
   "outputs": [],
   "cell_type": "code",
   "source": [
    "pr = jim(Y3 - Xr1)"
   ],
   "metadata": {},
   "execution_count": null
  },
  {
   "cell_type": "markdown",
   "source": [
    "Animate videos"
   ],
   "metadata": {}
  },
  {
   "outputs": [],
   "cell_type": "code",
   "source": [
    "anim1 = @animate for it in 1:nf\n",
    "    tmp = stack([Y3[:,:,it], Lpogm[:,:,it], Spogm[:,:,it]])\n",
    "    jim(tmp; nrow=1, title=\"Original | Low-rank | Sparse\",\n",
    "        xlabel = \"Frame $it\", size=(600, 250))\n",
    "#  gui()\n",
    "end\n",
    "gif(anim1; fps = 6)"
   ],
   "metadata": {},
   "execution_count": null
  },
  {
   "cell_type": "markdown",
   "source": [
    "---\n",
    "\n",
    "*This notebook was generated using [Literate.jl](https://github.com/fredrikekre/Literate.jl).*"
   ],
   "metadata": {}
  }
 ],
 "nbformat_minor": 3,
 "metadata": {
  "language_info": {
   "file_extension": ".jl",
   "mimetype": "application/julia",
   "name": "julia",
   "version": "1.11.6"
  },
  "kernelspec": {
   "name": "julia-1.11",
   "display_name": "Julia 1.11.6",
   "language": "julia"
  }
 },
 "nbformat": 4
}

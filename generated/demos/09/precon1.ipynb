{
 "cells": [
  {
   "cell_type": "markdown",
   "source": [
    "# Preconditioning\n",
    "\n",
    "This example illustrates\n",
    "the effects of preconditioning matrices\n",
    "for gradient descent (GD) for least squares (LS) problems,\n",
    "using the Julia language.\n",
    "* 2019-11-19 Created by Steven Whitaker\n",
    "* 2023-05-30 Julia 1.9 by Jeff Fessler"
   ],
   "metadata": {}
  },
  {
   "cell_type": "markdown",
   "source": [
    "## Setup\n",
    "Add the Julia packages used in this demo.\n",
    "Change `false` to `true` in the following code block\n",
    "if you are using any of the following packages for the first time."
   ],
   "metadata": {}
  },
  {
   "outputs": [],
   "cell_type": "code",
   "source": [
    "if false\n",
    "    import Pkg\n",
    "    Pkg.add([\n",
    "        \"InteractiveUtils\"\n",
    "        \"LaTeXStrings\"\n",
    "        \"LinearAlgebra\"\n",
    "        \"MIRTjim\"\n",
    "        \"Plots\"\n",
    "        \"Random\"\n",
    "    ])\n",
    "end"
   ],
   "metadata": {},
   "execution_count": null
  },
  {
   "cell_type": "markdown",
   "source": [
    "Tell Julia to use the following packages.\n",
    "Run `Pkg.add()` in the preceding code block first, if needed."
   ],
   "metadata": {}
  },
  {
   "outputs": [],
   "cell_type": "code",
   "source": [
    "using InteractiveUtils: versioninfo\n",
    "using LaTeXStrings\n",
    "using LinearAlgebra: svd, norm, svdvals, eigvals, Diagonal, I\n",
    "using MIRTjim: prompt\n",
    "using Plots: contour, default, gui, plot, plot!, savefig, scatter!\n",
    "using Random: seed!\n",
    "default(); default(markerstrokecolor=:auto, label = \"\", markersize=6,\n",
    " tickfontsize=12, labelfontsize=18, legendfontsize=18)"
   ],
   "metadata": {},
   "execution_count": null
  },
  {
   "cell_type": "markdown",
   "source": [
    "The following line is helpful when running this jl-file as a script;\n",
    "this way it will prompt user to hit a key after each image is displayed."
   ],
   "metadata": {}
  },
  {
   "outputs": [],
   "cell_type": "code",
   "source": [
    "isinteractive() && prompt(:prompt);"
   ],
   "metadata": {},
   "execution_count": null
  },
  {
   "cell_type": "markdown",
   "source": [
    "## Background\n",
    "\n",
    "The cost function to minimize for least squares problems is\n",
    "$f(x) = \\frac{1}{2} ‖ A x - y ‖_2^2,$\n",
    "and its gradient is\n",
    "$∇ f(x) = A' (A x - y).$\n",
    "\n",
    "Preconditioned GD with positive definite preconditioner\n",
    "$P$ has the following update:\n",
    "\n",
    "$x_{k+1} = x_{k} - P A' (A x_k - y).$\n",
    "\n",
    "For preconditioned GD to converge from any starting point,\n",
    "the following must be satisfied:\n",
    "\n",
    "$-1 < \\mathrm{eig}\\{G\\} < 1$,\n",
    "where\n",
    "$G = I - P^{1/2} A' A P^{1/2}.$\n",
    "\n",
    "Furthermore, the closer the eigenvalues of $G$ are to zero,\n",
    "the faster preconditioned GD converges.\n",
    "\n",
    "## Setup\n",
    "\n",
    "This notebook creates a matrix\n",
    "$A \\in \\mathbb{R}^{3 \\times 2}$\n",
    "with specified singular values,\n",
    "and uses\n",
    "$y = 0 \\in \\mathbb{R}^3$\n",
    "for simplicity of plots.\n",
    "\n",
    "Create random `3 × 2` matrix\n",
    "with singular values 10 and 3"
   ],
   "metadata": {}
  },
  {
   "outputs": [],
   "cell_type": "code",
   "source": [
    "seed!(0)\n",
    "(U, _, V) = svd(randn(3,2))\n",
    "A = U * [10 0; 0 3] * V';"
   ],
   "metadata": {},
   "execution_count": null
  },
  {
   "cell_type": "markdown",
   "source": [
    "Set up LS cost function and its gradient"
   ],
   "metadata": {}
  },
  {
   "outputs": [],
   "cell_type": "code",
   "source": [
    "f(x) = 0.5 * norm(A * x)^2\n",
    "∇f(x) = A' * (A * x)"
   ],
   "metadata": {},
   "execution_count": null
  },
  {
   "cell_type": "markdown",
   "source": [
    "Function for generating the matrix $G$ from a given preconditioner matrix"
   ],
   "metadata": {}
  },
  {
   "outputs": [],
   "cell_type": "code",
   "source": [
    "G(sqrtP) = I - sqrtP' * (A' * A) * sqrtP;"
   ],
   "metadata": {},
   "execution_count": null
  },
  {
   "cell_type": "markdown",
   "source": [
    "## Gradient Descent\n",
    "\n",
    "First consider regular GD,\n",
    "i.e., preconditioned GD with\n",
    "$P = \\alpha I,$\n",
    "where $α$ is the step size.\n",
    "\n",
    "We use the optimal step size\n",
    "$α = \\frac{2}{σ_1^2(A) + σ_N^2(A)}.$\n",
    "\n",
    "Pick step size (preconditioner $P = αI$)"
   ],
   "metadata": {}
  },
  {
   "outputs": [],
   "cell_type": "code",
   "source": [
    "α = 2 / (sum(svdvals(A' * A)[[1, end]])) # Optimal step size\n",
    "eigvals(G(sqrt(α))) # Eigenvalues of G govern rate of convergence"
   ],
   "metadata": {},
   "execution_count": null
  },
  {
   "cell_type": "markdown",
   "source": [
    "Plot cost function"
   ],
   "metadata": {}
  },
  {
   "outputs": [],
   "cell_type": "code",
   "source": [
    "x1 = -10:0.1:10\n",
    "x2 = -10:0.1:10\n",
    "xidx = [[x1[i], x2[j]] for i in 1:length(x1), j in 1:length(x2)]\n",
    "scale = 1/1000 # simplify clim\n",
    "pu = contour(x1, x2, scale * f.(xidx)', annotate = (1, 6, \"Unpreconditioned\"),\n",
    " xaxis = (L\"x_1\", (-1,1).*10),\n",
    " yaxis = (L\"x_2\", (-1,1).*10),\n",
    " size = (500,400),\n",
    ");\n",
    "\n",
    "x0 = [5.0, -8.0] # initial guess\n",
    "scatter!(pu, [x0[1]], [x0[2]], color=:green, label = L\"x_0\");"
   ],
   "metadata": {},
   "execution_count": null
  },
  {
   "cell_type": "markdown",
   "source": [
    "Run GD"
   ],
   "metadata": {}
  },
  {
   "outputs": [],
   "cell_type": "code",
   "source": [
    "niter = 100\n",
    "x = Vector{Vector{Float64}}(undef, niter + 1)\n",
    "x[1] = x0\n",
    "for k in 1:niter\n",
    "    x[k+1] = x[k] - α * ∇f(x[k])\n",
    "end"
   ],
   "metadata": {},
   "execution_count": null
  },
  {
   "cell_type": "markdown",
   "source": [
    "Display iterates"
   ],
   "metadata": {}
  },
  {
   "outputs": [],
   "cell_type": "code",
   "source": [
    "plot!(pu, [x[k][1] for k in 1:niter], [x[k][2] for k in 1:niter],\n",
    "    marker=:star, color=:blue, label = L\"x_k\");"
   ],
   "metadata": {},
   "execution_count": null
  },
  {
   "cell_type": "markdown",
   "source": [
    "Mark the minimum of the cost function"
   ],
   "metadata": {}
  },
  {
   "outputs": [],
   "cell_type": "code",
   "source": [
    "scatter!(pu, [0], [0], label = L\"\\hat{x}\", color=:red,\n",
    "    aspect_ratio = :equal, marker = :x)\n",
    "\n",
    "# savefig(pu, \"precon1-pu.pdf\")"
   ],
   "metadata": {},
   "execution_count": null
  },
  {
   "outputs": [],
   "cell_type": "code",
   "source": [
    "prompt()"
   ],
   "metadata": {},
   "execution_count": null
  },
  {
   "cell_type": "markdown",
   "source": [
    "The contours of our cost function $f(x)$ are ellipses.\n",
    "The ratio of the singular values of $A$ determines\n",
    "the eccentricity, or how oblong (non-circular) the ellipse is.\n",
    "In our case, the singular values are 10 and 3,\n",
    "so the major axis of the contour ellipse is 10/3 as long as the minor axis.\n",
    "\n",
    "## Preconditioned Gradient Descent\n",
    "\n",
    "Now let's see how adding a preconditioner matrix changes things.\n",
    "\n",
    "Manipulating the preconditioned GD step for LS problems\n",
    "leads to the following update:\n",
    "\n",
    "$x_{k+1} = x_k - P A' (A x_k - y)$\n",
    "\n",
    "$P^{-1/2} x_{k+1} = P^{-1/2} x_k - P^{1/2} A' (A x_k - y)$\n",
    "\n",
    "$P^{-1/2} x_{k+1} = P^{-1/2} x_k - P^{1/2} A' (A P^{1/2} P^{-1/2} x_k - y)$\n",
    "\n",
    "$z_{k+1} = z_k - P^{1/2} A' (A P^{1/2} z_k - y)$, where $z_k = P^{-1/2} x_k$\n",
    "\n",
    "$z_{k+1} = z_k - \\tilde{A}' (\\tilde{A} z_k - y)$,\n",
    "where $\\tilde{A} = A P^{1/2}$,\n",
    "and we used the fact that $P^{1/2}$ is Hermitian symmetric.\n",
    "\n",
    "This last equation is the normal (not preconditioned) GD step\n",
    "(with step size 1)\n",
    "for a LS problem with cost function\n",
    "$\\tilde{f}(z) = \\frac{1}{2} ‖ \\tilde{A} z - y ‖_2^2$.\n",
    "\n",
    "## Clicker Question\n",
    "The preconditioned LS cost function $\\tilde{f}$\n",
    "relates to the non-preconditioned LS cost function $f$\n",
    "via the relation $\\tilde{f}(z) = f(g(z))$\n",
    "for what function $g$?\n",
    "\n",
    "* A. $g(z) = P^{-1/2} z$\n",
    "* B. $g(z) = P^{1/2} z$\n",
    "* C. $g(z) = z$\n",
    "* D. $g(z) = \\tilde{A} z$\n",
    "* E. $g(z) = \\tilde{A}' z$\n",
    "\n",
    "\n",
    "## Ideal Preconditioner\n",
    "\n",
    "We first consider the ideal preconditioner\n",
    "$P = (A' A)^{-1}$.\n",
    "\n",
    "Compute ideal preconditioner"
   ],
   "metadata": {}
  },
  {
   "outputs": [],
   "cell_type": "code",
   "source": [
    "sqrtPideal = sqrt(inv(A' * A))\n",
    "eigvals(G(sqrtPideal))"
   ],
   "metadata": {},
   "execution_count": null
  },
  {
   "cell_type": "markdown",
   "source": [
    "Set up preconditioned cost function and its gradient"
   ],
   "metadata": {}
  },
  {
   "outputs": [],
   "cell_type": "code",
   "source": [
    "f̃ideal(z) = f(sqrtPideal * z)\n",
    "∇f̃ideal(z) = sqrtPideal' * ∇f(sqrtPideal * z);"
   ],
   "metadata": {},
   "execution_count": null
  },
  {
   "cell_type": "markdown",
   "source": [
    "Plot preconditioned cost function"
   ],
   "metadata": {}
  },
  {
   "outputs": [],
   "cell_type": "code",
   "source": [
    "z1 = -40:40\n",
    "z2 = -40:40\n",
    "zidx = [[z1[i], z2[j]] for i in 1:length(z1), j in 1:length(z2)]\n",
    "scale = 1/250 # simplify clim\n",
    "ph = contour(z1, z2, scale * f̃ideal.(zidx)',\n",
    " annotate = (9, 24, \"Ideal preconditioner\"),\n",
    " xaxis = (L\"z_1\", (-1,1).*40),\n",
    " yaxis = (L\"z_2\", (-1,1).*40),\n",
    " size = (500,400),\n",
    ");"
   ],
   "metadata": {},
   "execution_count": null
  },
  {
   "cell_type": "markdown",
   "source": [
    "Transform initial x guess into z coordinates and plot"
   ],
   "metadata": {}
  },
  {
   "outputs": [],
   "cell_type": "code",
   "source": [
    "z0 = sqrtPideal \\ x0\n",
    "scatter!(ph, [z0[1]], [z0[2]], color=:green, label = L\"z_0\");"
   ],
   "metadata": {},
   "execution_count": null
  },
  {
   "cell_type": "markdown",
   "source": [
    "Run GD"
   ],
   "metadata": {}
  },
  {
   "outputs": [],
   "cell_type": "code",
   "source": [
    "zk = z0 - ∇f̃ideal(z0)"
   ],
   "metadata": {},
   "execution_count": null
  },
  {
   "cell_type": "markdown",
   "source": [
    "Display iterates"
   ],
   "metadata": {}
  },
  {
   "outputs": [],
   "cell_type": "code",
   "source": [
    "plot!(ph, [z0[1],zk[1]], [z0[2],zk[2]], marker=:star, color=:blue, label = L\"z_k\");"
   ],
   "metadata": {},
   "execution_count": null
  },
  {
   "cell_type": "markdown",
   "source": [
    "Mark the minimum of the preconditioned cost function"
   ],
   "metadata": {}
  },
  {
   "outputs": [],
   "cell_type": "code",
   "source": [
    "scatter!(ph, [0], [0], label = L\"\\hat{z}\", color=:red,\n",
    "    aspect_ratio = :equal, marker = :x)\n",
    "\n",
    "# savefig(ph, \"precon1-ph.pdf\")"
   ],
   "metadata": {},
   "execution_count": null
  },
  {
   "outputs": [],
   "cell_type": "code",
   "source": [
    "prompt()"
   ],
   "metadata": {},
   "execution_count": null
  },
  {
   "cell_type": "markdown",
   "source": [
    "Using the ideal preconditioner caused a coordinate change\n",
    "in which the contours of our cost function are circles.\n",
    "In this new coordinate system,\n",
    "the negative gradient of our cost function points towards the minimizer.\n",
    "Furthermore, with the ideal preconditioner GD converged in just one step,\n",
    "which agrees with the fact that the eigenvalues of $G$\n",
    "for this preconditioner are 0\n",
    "(ignoring numerical precision issues).\n",
    "Unfortunately, computing the ideal preconditioner is expensive.\n",
    "\n",
    "## Diagonal Preconditioner\n",
    "\n",
    "A less expensive preconditioner is the diagonal preconditioner\n",
    "$P = \\alpha \\; \\mathrm{diag}\\{|A' A| 1_N\\}^{-1}$.\n",
    "For convergence, we must have $0 < \\alpha < 2$.\n",
    "We use an empirically chosen value for $α$\n",
    "in that range.\n",
    "\n",
    "Pick step size and compute diagonal preconditioner"
   ],
   "metadata": {}
  },
  {
   "outputs": [],
   "cell_type": "code",
   "source": [
    "α = 1.71 # Chosen empirically\n",
    "sqrtPdiag = sqrt(α * inv(Diagonal(abs.(A' * A) * ones(size(A, 2)))))\n",
    "eigvals(G(sqrtPdiag))"
   ],
   "metadata": {},
   "execution_count": null
  },
  {
   "cell_type": "markdown",
   "source": [
    "Set up preconditioned cost function and its gradient"
   ],
   "metadata": {}
  },
  {
   "outputs": [],
   "cell_type": "code",
   "source": [
    "f̃diag(z) = f(sqrtPdiag * z)\n",
    "∇f̃diag(z) = sqrtPdiag' * ∇f(sqrtPdiag * z);"
   ],
   "metadata": {},
   "execution_count": null
  },
  {
   "cell_type": "markdown",
   "source": [
    "Plot preconditioned cost function"
   ],
   "metadata": {}
  },
  {
   "outputs": [],
   "cell_type": "code",
   "source": [
    "z1 = -50:50\n",
    "z2 = -50:50\n",
    "zidx = [[z1[i], z2[j]] for i in 1:length(z1), j in 1:length(z2)]\n",
    "scale = 1/500 # simplify clim\n",
    "pd = contour(z1, z2, scale * f̃diag.(zidx)',\n",
    " annotate = (12, 30, \"Diagonal preconditioner\"),\n",
    " xaxis = (L\"z_1\", (-1,1).*50),\n",
    " yaxis = (L\"z_2\", (-1,1).*50),\n",
    " size = (500,400),\n",
    ");"
   ],
   "metadata": {},
   "execution_count": null
  },
  {
   "cell_type": "markdown",
   "source": [
    "Transform initial x guess into z coordinates and plot"
   ],
   "metadata": {}
  },
  {
   "outputs": [],
   "cell_type": "code",
   "source": [
    "z0 = sqrtPdiag \\ x0\n",
    "scatter!(pd, [z0[1]], [z0[2]], color=:green, label = L\"z_0\");"
   ],
   "metadata": {},
   "execution_count": null
  },
  {
   "cell_type": "markdown",
   "source": [
    "Run GD"
   ],
   "metadata": {}
  },
  {
   "outputs": [],
   "cell_type": "code",
   "source": [
    "niter = 100\n",
    "z = Array{Array{Float64,1},1}(undef, niter + 1)\n",
    "z[1] = z0\n",
    "for k in 1:niter\n",
    "    z[k+1] = z[k] - ∇f̃diag(z[k])\n",
    "end;"
   ],
   "metadata": {},
   "execution_count": null
  },
  {
   "cell_type": "markdown",
   "source": [
    "Display iterates"
   ],
   "metadata": {}
  },
  {
   "outputs": [],
   "cell_type": "code",
   "source": [
    "plot!(pd, [z[k][1] for k in 1:niter], [z[k][2] for k in 1:niter],\n",
    "    marker=:star, color=:blue, label = L\"z_k\");"
   ],
   "metadata": {},
   "execution_count": null
  },
  {
   "cell_type": "markdown",
   "source": [
    "Mark the minimum of the preconditioned cost function"
   ],
   "metadata": {}
  },
  {
   "outputs": [],
   "cell_type": "code",
   "source": [
    "scatter!(pd, [0], [0], label = L\"\\hat{z}\", color=:red,\n",
    "    aspect_ratio = :equal, marker = :x)\n",
    "\n",
    "# savefig(pd, \"precon1-pd.pdf\")"
   ],
   "metadata": {},
   "execution_count": null
  },
  {
   "outputs": [],
   "cell_type": "code",
   "source": [
    "prompt()"
   ],
   "metadata": {},
   "execution_count": null
  },
  {
   "cell_type": "markdown",
   "source": [
    "Using the diagonal preconditioner did cause a coordinate change,\n",
    "but one less dramatic than did the ideal preconditioner.\n",
    "The contours in this new coordinate system are still ellipses,\n",
    "but they are slightly more circular.\n",
    "Using the diagonal preconditioner also resulted in eigenvalues of $G$\n",
    "that are smaller than when\n",
    "using (non-preconditioned) GD with optimal step size,\n",
    "and one can see that using the diagonal preconditioner appears\n",
    "to converge more quickly.\n",
    "\n",
    "The following reports the ratio of the singular values\n",
    "of the three different $A$ (or $\\tilde{A}$) matrices used here.\n",
    "A value of 1 corresponds to circular cost function contours,\n",
    "and higher values correspond to more elliptical contours."
   ],
   "metadata": {}
  },
  {
   "outputs": [],
   "cell_type": "code",
   "source": [
    "\"Ratio of singular values of A, A * sqrtPideal A * sqrtPdiag:\"\n",
    "\n",
    "[\n",
    "/(svdvals(A)...)\n",
    "/(svdvals(A * sqrtPideal)...)\n",
    "/(svdvals(A * sqrtPdiag)...)\n",
    "]"
   ],
   "metadata": {},
   "execution_count": null
  },
  {
   "cell_type": "markdown",
   "source": [
    "Here are the three plots displayed next to each other."
   ],
   "metadata": {}
  },
  {
   "outputs": [],
   "cell_type": "code",
   "source": [
    "pp = plot(\n",
    "    plot!(pu, title = \"GD\"),\n",
    "    plot!(ph, title = \"Ideal\"),\n",
    "    plot!(pd, title = \"Diagonal\"),\n",
    "    size = (1900,470),\n",
    "    layout=(1,3),\n",
    ")\n",
    "\n",
    "# savefig(pp, \"precon1-pp.pdf\")"
   ],
   "metadata": {},
   "execution_count": null
  },
  {
   "cell_type": "markdown",
   "source": [
    "---\n",
    "\n",
    "*This notebook was generated using [Literate.jl](https://github.com/fredrikekre/Literate.jl).*"
   ],
   "metadata": {}
  }
 ],
 "nbformat_minor": 3,
 "metadata": {
  "language_info": {
   "file_extension": ".jl",
   "mimetype": "application/julia",
   "name": "julia",
   "version": "1.11.6"
  },
  "kernelspec": {
   "name": "julia-1.11",
   "display_name": "Julia 1.11.6",
   "language": "julia"
  }
 },
 "nbformat": 4
}

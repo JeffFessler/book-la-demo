{
 "cells": [
  {
   "cell_type": "markdown",
   "source": [
    "# Convolution matrix\n",
    "\n",
    "This example illustrates\n",
    "1D signal convolution\n",
    "represented as matrix operations\n",
    "(for various boundary conditions)\n",
    "using the Julia language."
   ],
   "metadata": {}
  },
  {
   "cell_type": "markdown",
   "source": [
    "## Setup\n",
    "Add the Julia packages used in this demo.\n",
    "Change `false` to `true` in the following code block\n",
    "if you are using any of the following packages for the first time."
   ],
   "metadata": {}
  },
  {
   "outputs": [],
   "cell_type": "code",
   "source": [
    "if false\n",
    "    import Pkg\n",
    "    Pkg.add([\n",
    "        \"ColorSchemes\"\n",
    "        \"DSP\"\n",
    "        \"FFTW\"\n",
    "        \"FFTViews\"\n",
    "        \"InteractiveUtils\"\n",
    "        \"LaTeXStrings\"\n",
    "        \"LinearMapsAA\"\n",
    "        \"MIRTjim\"\n",
    "        \"Plots\"\n",
    "    ])\n",
    "end"
   ],
   "metadata": {},
   "execution_count": null
  },
  {
   "cell_type": "markdown",
   "source": [
    "Tell Julia to use the following packages.\n",
    "Run `Pkg.add()` in the preceding code block first, if needed."
   ],
   "metadata": {}
  },
  {
   "outputs": [],
   "cell_type": "code",
   "source": [
    "using ColorSchemes\n",
    "using DSP: conv\n",
    "using FFTW: fft, ifft\n",
    "using FFTViews: FFTView\n",
    "using InteractiveUtils: versioninfo\n",
    "using LaTeXStrings\n",
    "using LinearMapsAA\n",
    "using MIRTjim: jim\n",
    "using Plots: RGB, default, gui, heatmap, plot, plot!, savefig, scatter!, @layout\n",
    "using Plots.PlotMeasures: px\n",
    "default(markerstrokecolor=:auto, markersize=11, linewidth=5, label=\"\",\n",
    " tickfontsize = 11, labelfontsize = 15, titlefontsize=18)"
   ],
   "metadata": {},
   "execution_count": null
  },
  {
   "cell_type": "markdown",
   "source": [
    "## Filter\n",
    "Define a 5-tap\n",
    "finite impulse response (FIR) filter\n",
    "$h[k]$ with support `-2:2`\n",
    "and display it."
   ],
   "metadata": {}
  },
  {
   "outputs": [],
   "cell_type": "code",
   "source": [
    "psf = [1, 3, 5, 4, 2] # filter impulse response\n",
    "K = length(psf)\n",
    "hp = Int((K-1)/2) # 2 (half width)\n",
    "\n",
    "cols = [ColorSchemes.viridis[x] for x in range(0,1,K)]\n",
    "\n",
    "pp = plot(widen=true, tickfontsize = 14, labelfontsize = 20,\n",
    "    xaxis = (L\"k\", (-1,1) .* 4, -4:4),\n",
    "    yaxis = (L\"h[k]\", (-0.2, 5.2)),\n",
    "    size = (600, 250), left_margin = 15px, bottom_margin = 18px,\n",
    ")\n",
    "plot!([-5, 5], [0, 0], color=:black, linewidth=2)\n",
    "for k in 1:K\n",
    "    c = psf[k]\n",
    "    c = cols[c]\n",
    "    plot!([k-hp-1], [psf[k]], line=:stem, marker=:circle, color=c)\n",
    "end\n",
    "for k in (hp+1):4\n",
    "    scatter!([k], [0], color=:grey)\n",
    "    scatter!([-k], [0], color=:grey)\n",
    "end\n",
    "gui()\n",
    "# savefig(pp, \"psf.pdf\")"
   ],
   "metadata": {},
   "execution_count": null
  },
  {
   "cell_type": "markdown",
   "source": [
    "## Convolution matrices\n",
    "\n",
    "Define convolution matrices\n",
    "for various end conditions.\n",
    "The names of the conditions below\n",
    "match those of Matlab's `conv` function.\n",
    "Submit a github issue\n",
    "to request elaboration on these cases."
   ],
   "metadata": {}
  },
  {
   "outputs": [],
   "cell_type": "code",
   "source": [
    "N = 10 # input signal length\n",
    "kernel = FFTView(zeros(Int, N))\n",
    "kernel[-hp:hp] = psf;"
   ],
   "metadata": {},
   "execution_count": null
  },
  {
   "cell_type": "markdown",
   "source": [
    "### `'full'`\n",
    "for zero end conditions\n",
    "where the output signal length is\n",
    "$M = N + K - 1$."
   ],
   "metadata": {}
  },
  {
   "outputs": [],
   "cell_type": "code",
   "source": [
    "Az = LinearMapAA(x -> conv(x, psf), (N+K-1, N))\n",
    "Az = Matrix(Az)\n",
    "Az = round.(Int, Az) # because `conv` apparently uses `fft`\n",
    "size(Az)"
   ],
   "metadata": {},
   "execution_count": null
  },
  {
   "cell_type": "markdown",
   "source": [
    "### `'circ'`\n",
    "for periodic end conditions\n",
    "for which $M = N$."
   ],
   "metadata": {}
  },
  {
   "outputs": [],
   "cell_type": "code",
   "source": [
    "Ac = LinearMapAA(x -> ifft(fft(x) .* fft(kernel)), (N,N) ; T = ComplexF64)\n",
    "Ac = Matrix(Ac)\n",
    "Ac = round.(Int, real(Ac))\n",
    "size(Ac)"
   ],
   "metadata": {},
   "execution_count": null
  },
  {
   "cell_type": "markdown",
   "source": [
    "### `'same'`\n",
    "for matching input and output signal lengths,\n",
    "so $M = N$."
   ],
   "metadata": {}
  },
  {
   "outputs": [],
   "cell_type": "code",
   "source": [
    "As = Az[hp .+ (1:N),:]\n",
    "size(As)"
   ],
   "metadata": {},
   "execution_count": null
  },
  {
   "cell_type": "markdown",
   "source": [
    "### `'valid'`\n",
    "where output is defined only for samples\n",
    "where the shifted impulse overlaps the input signal,\n",
    "for which $M = N-K+1$."
   ],
   "metadata": {}
  },
  {
   "outputs": [],
   "cell_type": "code",
   "source": [
    "Av = Az[(K-1) .+ (1:(N-(K-1))),:]\n",
    "size(Av)"
   ],
   "metadata": {},
   "execution_count": null
  },
  {
   "cell_type": "markdown",
   "source": [
    "### Display convolution matrices\n",
    "using colors that match the 1D impulse response plot."
   ],
   "metadata": {}
  },
  {
   "outputs": [],
   "cell_type": "code",
   "source": [
    "cmap = [RGB{Float64}(1.,1.,1.) .* 0.8; cols];\n",
    "\n",
    "jy = (x,t,y) -> jim(x'; color=cmap, ylims=(0.5,14.5), ylabel=y, labelfontsize=12);\n",
    "\n",
    "pz = jy(Az, \"'full'\", L\"M=N+K-1\")\n",
    "pv = jy(Av, \"'valid'\", L\"M=N-K+1\")\n",
    "ps = jy(As, \"'same'\", L\"M=N\")\n",
    "pc = jy(Ac, \"circulant\", L\"M=N\")\n",
    "# plot(pz, pv, ps, pc; size=(400,400))\n",
    "p4 = plot(pz, pv, ps, pc; size=(1000,200), layout=(1,4), left_margin = 20px)\n",
    "\n",
    "# savefig(p4, \"match4.pdf\")\n",
    "# savefig(pz, \"a-full.pdf\")\n",
    "# savefig(pv, \"a-valid.pdf\")\n",
    "# savefig(ps, \"a-same.pdf\")\n",
    "# savefig(pc, \"a-circ.pdf\")"
   ],
   "metadata": {},
   "execution_count": null
  },
  {
   "outputs": [],
   "cell_type": "code",
   "source": [
    "l = @layout [\n",
    " a{0.3w} b{0.3w}\n",
    " c{0.3w} d{0.3w}\n",
    "]\n",
    "p22 = plot(pz, pv, ps, pc) #, layout = l, size = (500,500))\n",
    "# savefig(p22, \"all4.pdf\")"
   ],
   "metadata": {},
   "execution_count": null
  },
  {
   "cell_type": "markdown",
   "source": [
    "---\n",
    "\n",
    "*This notebook was generated using [Literate.jl](https://github.com/fredrikekre/Literate.jl).*"
   ],
   "metadata": {}
  }
 ],
 "nbformat_minor": 3,
 "metadata": {
  "language_info": {
   "file_extension": ".jl",
   "mimetype": "application/julia",
   "name": "julia",
   "version": "1.11.6"
  },
  "kernelspec": {
   "name": "julia-1.11",
   "display_name": "Julia 1.11.6",
   "language": "julia"
  }
 },
 "nbformat": 4
}

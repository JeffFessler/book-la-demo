{
 "cells": [
  {
   "cell_type": "markdown",
   "source": [
    "# Vector dot product\n",
    "\n",
    "This example illustrates different ways of computing\n",
    "[vector dot products](https://en.wikipedia.org/wiki/Dot_product)\n",
    "using the Julia language."
   ],
   "metadata": {}
  },
  {
   "cell_type": "markdown",
   "source": [
    "## Setup\n",
    "Add the Julia packages used in this demo.\n",
    "Change `false` to `true` in the following code block\n",
    "if you are using any of the following packages for the first time."
   ],
   "metadata": {}
  },
  {
   "outputs": [],
   "cell_type": "code",
   "source": [
    "if false\n",
    "    import Pkg\n",
    "    Pkg.add([\n",
    "        \"BenchmarkTools\"\n",
    "        \"InteractiveUtils\"\n",
    "        \"LazyGrids\"\n",
    "        \"LinearAlgebra\"\n",
    "    ])\n",
    "end"
   ],
   "metadata": {},
   "execution_count": null
  },
  {
   "cell_type": "markdown",
   "source": [
    "Tell Julia to use the following packages.\n",
    "Run `Pkg.add()` in the preceding code block first, if needed."
   ],
   "metadata": {}
  },
  {
   "outputs": [],
   "cell_type": "code",
   "source": [
    "using BenchmarkTools: @benchmark\n",
    "using InteractiveUtils: versioninfo\n",
    "using LazyGrids: btime\n",
    "using LinearAlgebra: dot"
   ],
   "metadata": {},
   "execution_count": null
  },
  {
   "cell_type": "markdown",
   "source": [
    "## Overview of dot products\n",
    "\n",
    "The dot product between two vectors\n",
    "is such a basic method in linear algebra\n",
    "that, of course,\n",
    "Julia has a function `dot` built-in for it.\n",
    "\n",
    "In practice one should simply call that `dot` method.\n",
    "\n",
    "This demo explores other ways of coding the dot product,\n",
    "to illustrate,\n",
    "in a simple setting,\n",
    "techniques for writing efficient code.\n",
    "\n",
    "We write each method as a function\n",
    "because the most reliable way\n",
    "to benchmark different methods\n",
    "is to use functions."
   ],
   "metadata": {}
  },
  {
   "cell_type": "markdown",
   "source": [
    "### The built-in `dot` method:"
   ],
   "metadata": {}
  },
  {
   "outputs": [],
   "cell_type": "code",
   "source": [
    "f1(x,y) = dot(y,x);"
   ],
   "metadata": {},
   "execution_count": null
  },
  {
   "cell_type": "markdown",
   "source": [
    "### An equivalent method using the adjoint `'`\n",
    "It can be written `y' * x` or `*(y', x)`.\n",
    "By checking `@which *(y', x)`\n",
    "one can verify that these all call `dot`."
   ],
   "metadata": {}
  },
  {
   "outputs": [],
   "cell_type": "code",
   "source": [
    "f2(x,y) = y'x;"
   ],
   "metadata": {},
   "execution_count": null
  },
  {
   "cell_type": "markdown",
   "source": [
    "### Using `sum` with vector conjugate\n",
    "This is suboptimal because it must allocate memory for `conj(y)`"
   ],
   "metadata": {}
  },
  {
   "outputs": [],
   "cell_type": "code",
   "source": [
    "f3(x,y) = sum(conj(y) .* x); # must allocate \"conj(y)\""
   ],
   "metadata": {},
   "execution_count": null
  },
  {
   "cell_type": "markdown",
   "source": [
    "### Using `zip` and `sum` with a function argument\n",
    "This approach avoids the needless allocation."
   ],
   "metadata": {}
  },
  {
   "outputs": [],
   "cell_type": "code",
   "source": [
    "f4(x,y) = sum(z -> z[1] * conj(z[2]), zip(x,y));"
   ],
   "metadata": {},
   "execution_count": null
  },
  {
   "cell_type": "markdown",
   "source": [
    "### A basic `for` loop like one would write in a low-level language"
   ],
   "metadata": {}
  },
  {
   "outputs": [],
   "cell_type": "code",
   "source": [
    "function f5(x,y)\n",
    "    accum = zero(promote_type(eltype(x), eltype(y)))\n",
    "    for i in 1:length(x)\n",
    "        accum += x[i] * conj(y[i])\n",
    "    end\n",
    "    return accum\n",
    "end;"
   ],
   "metadata": {},
   "execution_count": null
  },
  {
   "cell_type": "markdown",
   "source": [
    "### An advanced `for` loop that uses bounds checking and SIMD operations"
   ],
   "metadata": {}
  },
  {
   "outputs": [],
   "cell_type": "code",
   "source": [
    "function f6(x,y)\n",
    "    accum = zero(promote_type(eltype(x), eltype(y)))\n",
    "    @boundscheck length(x) == length(y) || throw(\"incompatible\")\n",
    "    @simd for i in 1:length(x)\n",
    "        @inbounds accum += x[i] * conj(y[i])\n",
    "    end\n",
    "    return accum\n",
    "end;"
   ],
   "metadata": {},
   "execution_count": null
  },
  {
   "cell_type": "markdown",
   "source": [
    "### The Julia fallback method (from source code as of v1.8.1)\n",
    "This code is what is used for general `AbstractArray` types."
   ],
   "metadata": {}
  },
  {
   "outputs": [],
   "cell_type": "code",
   "source": [
    "function f7(x,y)\n",
    "    accum = zero(promote_type(eltype(x), eltype(y)))\n",
    "    @boundscheck length(x) == length(y) || throw(\"incompatible\")\n",
    "    for (ix,iy) in zip(eachindex(x), eachindex(y))\n",
    "        @inbounds accum += x[ix] * conj(y[iy]) # same as dot(y[iy], x[ix])\n",
    "    end\n",
    "    return accum\n",
    "end;"
   ],
   "metadata": {},
   "execution_count": null
  },
  {
   "cell_type": "markdown",
   "source": [
    "### Data for timing tests"
   ],
   "metadata": {}
  },
  {
   "outputs": [],
   "cell_type": "code",
   "source": [
    "N = 2^16; x = rand(ComplexF32, N); y = rand(ComplexF32, N)"
   ],
   "metadata": {},
   "execution_count": null
  },
  {
   "cell_type": "markdown",
   "source": [
    "Verify the methods are equivalent"
   ],
   "metadata": {}
  },
  {
   "outputs": [],
   "cell_type": "code",
   "source": [
    "@assert f1(x,y) == f2(x,y) ≈ f3(x,y) ≈ f4(x,y) ≈ f5(x,y) ≈ f6(x,y) ≈ f7(x,y)"
   ],
   "metadata": {},
   "execution_count": null
  },
  {
   "cell_type": "markdown",
   "source": [
    "## Benchmark the methods\n",
    "The results will depend on the computer used, of course."
   ],
   "metadata": {}
  },
  {
   "cell_type": "markdown",
   "source": [
    "y'x"
   ],
   "metadata": {}
  },
  {
   "outputs": [],
   "cell_type": "code",
   "source": [
    "t = @benchmark f1($x,$y)\n",
    "timeu = t -> btime(t, unit=:μs)\n",
    "timeu(t)"
   ],
   "metadata": {},
   "execution_count": null
  },
  {
   "cell_type": "markdown",
   "source": [
    "dot(y,x)"
   ],
   "metadata": {}
  },
  {
   "outputs": [],
   "cell_type": "code",
   "source": [
    "t = @benchmark f2($x,$y)\n",
    "timeu(t)"
   ],
   "metadata": {},
   "execution_count": null
  },
  {
   "cell_type": "markdown",
   "source": [
    "sum with conj()"
   ],
   "metadata": {}
  },
  {
   "outputs": [],
   "cell_type": "code",
   "source": [
    "t = @benchmark f3($x,$y)\n",
    "timeu(t)"
   ],
   "metadata": {},
   "execution_count": null
  },
  {
   "cell_type": "markdown",
   "source": [
    "zip sum"
   ],
   "metadata": {}
  },
  {
   "outputs": [],
   "cell_type": "code",
   "source": [
    "t = @benchmark f4($x,$y)\n",
    "timeu(t)"
   ],
   "metadata": {},
   "execution_count": null
  },
  {
   "cell_type": "markdown",
   "source": [
    "basic loop"
   ],
   "metadata": {}
  },
  {
   "outputs": [],
   "cell_type": "code",
   "source": [
    "t = @benchmark f5($x,$y)\n",
    "timeu(t)"
   ],
   "metadata": {},
   "execution_count": null
  },
  {
   "cell_type": "markdown",
   "source": [
    "fancy loop with @inbounds & @simd"
   ],
   "metadata": {}
  },
  {
   "outputs": [],
   "cell_type": "code",
   "source": [
    "t = @benchmark f6($x,$y)\n",
    "timeu(t)"
   ],
   "metadata": {},
   "execution_count": null
  },
  {
   "cell_type": "markdown",
   "source": [
    "zip accum loop"
   ],
   "metadata": {}
  },
  {
   "outputs": [],
   "cell_type": "code",
   "source": [
    "t = @benchmark f7($x,$y)\n",
    "timeu(t)"
   ],
   "metadata": {},
   "execution_count": null
  },
  {
   "cell_type": "markdown",
   "source": [
    "### Remarks\n",
    "\n",
    "The built-in `dot` method is the fastest.\n",
    "Behind the scenes it calls\n",
    "[`BLAS.dot`](https://github.com/JuliaLang/julia/blob/master/stdlib/LinearAlgebra/src/blas.jl)\n",
    "which is highly optimized\n",
    "because it uses\n",
    "[cpu specific assembly code](https://discourse.julialang.org/t/why-is-blas-dot-product-so-much-faster-than-julia-loop/44994)\n",
    "based on\n",
    "[Single instruction, multiple data (SIMD)](https://en.wikipedia.org/wiki/Single_instruction,_multiple_data)\n",
    "to perform, say, 4 multiplies\n",
    "in a single instruction.\n",
    "Thus the basic loop is several times slower than `dot()`.\n",
    "\n",
    "Sometimes we can speed up code\n",
    "by promising the Julia compiler\n",
    "that array indexing operations\n",
    "like `x[i]` are valid,\n",
    "by adding the `@inbounds` macro.\n",
    "\n",
    "Depending on the CPU,\n",
    "using `@simd` and `@inbounds`\n",
    "can lead to speeds\n",
    "close to that of `dot`.\n",
    "\n",
    "The `promote_type` function ensures that the accumulator\n",
    "uses the better precision of the two arguments."
   ],
   "metadata": {}
  },
  {
   "cell_type": "markdown",
   "source": [
    "---\n",
    "\n",
    "*This notebook was generated using [Literate.jl](https://github.com/fredrikekre/Literate.jl).*"
   ],
   "metadata": {}
  }
 ],
 "nbformat_minor": 3,
 "metadata": {
  "language_info": {
   "file_extension": ".jl",
   "mimetype": "application/julia",
   "name": "julia",
   "version": "1.11.6"
  },
  "kernelspec": {
   "name": "julia-1.11",
   "display_name": "Julia 1.11.6",
   "language": "julia"
  }
 },
 "nbformat": 4
}

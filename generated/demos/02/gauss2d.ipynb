{
 "cells": [
  {
   "cell_type": "markdown",
   "source": [
    "# 2d heatmap\n",
    "\n",
    "This example illustrates\n",
    "matrix operations by making a 2D Gaussian plot\n",
    "and computing area under a curve\n",
    "and volume under a surface\n",
    "using the Julia language.\n",
    "\n",
    "- 2017-09-07, Jeff Fessler, University of Michigan\n",
    "- 2023-06-06 Julia 1.9.0"
   ],
   "metadata": {}
  },
  {
   "cell_type": "markdown",
   "source": [
    "## Setup\n",
    "Add the Julia packages used in this demo.\n",
    "Change `false` to `true` in the following code block\n",
    "if you are using any of the following packages for the first time."
   ],
   "metadata": {}
  },
  {
   "outputs": [],
   "cell_type": "code",
   "source": [
    "if false\n",
    "    import Pkg\n",
    "    Pkg.add([\n",
    "        \"InteractiveUtils\"\n",
    "        \"LaTeXStrings\"\n",
    "        \"MIRTjim\"\n",
    "        \"Plots\"\n",
    "    ])\n",
    "end"
   ],
   "metadata": {},
   "execution_count": null
  },
  {
   "cell_type": "markdown",
   "source": [
    "Tell Julia to use the following packages.\n",
    "Run `Pkg.add()` in the preceding code block first, if needed."
   ],
   "metadata": {}
  },
  {
   "outputs": [],
   "cell_type": "code",
   "source": [
    "using InteractiveUtils: versioninfo\n",
    "using LaTeXStrings\n",
    "using MIRTjim: jim\n",
    "using Plots: default, heatmap, savefig\n",
    "default(labelfontsize=18, tickfontsize=12, titlefontsize=18)"
   ],
   "metadata": {},
   "execution_count": null
  },
  {
   "cell_type": "markdown",
   "source": [
    "## Broadast"
   ],
   "metadata": {}
  },
  {
   "outputs": [],
   "cell_type": "code",
   "source": [
    "x = range(-2, 2, 101)\n",
    "y = range(-1.1, 1.1, 103) # deliberately non-square\n",
    "A = abs2.(x) .+ 30 * abs2.(y)' # a lot is happening here!\n",
    "F = exp.(-A)\n",
    "p1 = heatmap(x, y, F', color=:grays, aspect_ratio=:equal)"
   ],
   "metadata": {},
   "execution_count": null
  },
  {
   "cell_type": "markdown",
   "source": [
    "## Heatmap\n",
    "Here is a fancy Julia way, now with labels:"
   ],
   "metadata": {}
  },
  {
   "outputs": [],
   "cell_type": "code",
   "source": [
    "p2 = heatmap(range(-2, 2, 101), range(-1.1, 1.1, 103),\n",
    "    (x,y) -> exp(-(abs2(x) + 3*abs2(y))), color=:grays, clim=(0,1),\n",
    "    aspect_ratio=:equal, xlabel=L\"x\", ylabel=L\"y\", title=L\"f(x,y)\")"
   ],
   "metadata": {},
   "execution_count": null
  },
  {
   "cell_type": "markdown",
   "source": [
    "## `jim`\n",
    "The `jim` function from MIRTjim.jl has natural defaults."
   ],
   "metadata": {}
  },
  {
   "outputs": [],
   "cell_type": "code",
   "source": [
    "p3 = jim(x, y, F; xlabel=L\"x\", ylabel=L\"y\", title=L\"f(x,y)\", clim=(0,1))\n",
    "# savefig(p3, \"plot_exp4.pdf\")"
   ],
   "metadata": {},
   "execution_count": null
  },
  {
   "cell_type": "markdown",
   "source": [
    "## Area\n",
    "Compute 1D integral $\\int_0^3 x^2 \\, \\mathrm{d}x$ numerically."
   ],
   "metadata": {}
  },
  {
   "outputs": [],
   "cell_type": "code",
   "source": [
    "f(x) = x^2 # parabola\n",
    "x = range(0,3,2000) # sample points\n",
    "w = diff(x) # \"widths\" of rectangles\n",
    "Area = w' * f.(x[2:end])"
   ],
   "metadata": {},
   "execution_count": null
  },
  {
   "cell_type": "markdown",
   "source": [
    "## Volume\n",
    "2D integral\n",
    "$\\int_0^3 \\int_0^2 \\exp(-x^2 - 3 y^2) \\, \\mathrm{d}x \\, \\mathrm{d}y$"
   ],
   "metadata": {}
  },
  {
   "outputs": [],
   "cell_type": "code",
   "source": [
    "f(x,y) = exp(-(x^2 + 3*y^2)) # gaussian bump function\n",
    "x = range(0,3,2000) # sample points\n",
    "y = range(0,2,1000) # sample points\n",
    "w = diff(x) # \"widths\" of rectangles in x\n",
    "u = diff(y) # \"widths\" of rectangles in y\n",
    "F = f.(x[2:end], y[2:end]') # automatic broadcasting again!\n",
    "Volume = w' * F * u"
   ],
   "metadata": {},
   "execution_count": null
  },
  {
   "cell_type": "markdown",
   "source": [
    "---\n",
    "\n",
    "*This notebook was generated using [Literate.jl](https://github.com/fredrikekre/Literate.jl).*"
   ],
   "metadata": {}
  }
 ],
 "nbformat_minor": 3,
 "metadata": {
  "language_info": {
   "file_extension": ".jl",
   "mimetype": "application/julia",
   "name": "julia",
   "version": "1.11.6"
  },
  "kernelspec": {
   "name": "julia-1.11",
   "display_name": "Julia 1.11.6",
   "language": "julia"
  }
 },
 "nbformat": 4
}

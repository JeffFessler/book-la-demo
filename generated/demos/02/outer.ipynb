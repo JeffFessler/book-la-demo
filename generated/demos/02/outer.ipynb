{
 "cells": [
  {
   "cell_type": "markdown",
   "source": [
    "# Vector outer product\n",
    "\n",
    "This example illustrates different ways of computing\n",
    "[vector outer products](https://en.wikipedia.org/wiki/Outer_product)\n",
    "using the Julia language."
   ],
   "metadata": {}
  },
  {
   "cell_type": "markdown",
   "source": [
    "## Setup\n",
    "Add the Julia packages used in this demo.\n",
    "Change `false` to `true` in the following code block\n",
    "if you are using any of the following packages for the first time."
   ],
   "metadata": {}
  },
  {
   "outputs": [],
   "cell_type": "code",
   "source": [
    "if false\n",
    "    import Pkg\n",
    "    Pkg.add([\n",
    "        \"BenchmarkTools\"\n",
    "        \"InteractiveUtils\"\n",
    "        \"LazyGrids\"\n",
    "        \"LinearAlgebra\"\n",
    "    ])\n",
    "end"
   ],
   "metadata": {},
   "execution_count": null
  },
  {
   "cell_type": "markdown",
   "source": [
    "Tell Julia to use the following packages.\n",
    "Run `Pkg.add()` in the preceding code block first, if needed."
   ],
   "metadata": {}
  },
  {
   "outputs": [],
   "cell_type": "code",
   "source": [
    "using BenchmarkTools: @benchmark\n",
    "using InteractiveUtils: versioninfo\n",
    "using LazyGrids: btime\n",
    "using LinearAlgebra: mul!"
   ],
   "metadata": {},
   "execution_count": null
  },
  {
   "cell_type": "markdown",
   "source": [
    "## Overview of outer products\n",
    "\n",
    "The outer product between two vectors `x` and `y` is simply `x * y'`.\n",
    "\n",
    "This demo explores a couple ways of coding that operation.\n",
    "\n",
    "We write each method as a function\n",
    "because the most reliable way\n",
    "to benchmark different methods\n",
    "is to use functions.\n",
    "\n",
    "We are interested in the computation time,\n",
    "not the time spent allocating memory,\n",
    "so we use mutating `mul!` versions of all methods."
   ],
   "metadata": {}
  },
  {
   "cell_type": "markdown",
   "source": [
    "### The built-in method:"
   ],
   "metadata": {}
  },
  {
   "outputs": [],
   "cell_type": "code",
   "source": [
    "f0!(out, x, y) = mul!(out, x, y');"
   ],
   "metadata": {},
   "execution_count": null
  },
  {
   "cell_type": "markdown",
   "source": [
    "### Hand-coded double loop"
   ],
   "metadata": {}
  },
  {
   "outputs": [],
   "cell_type": "code",
   "source": [
    "function f1!(out, x, y)\n",
    "    for j in 1:length(y)\n",
    "        @simd for i in 1:length(x)\n",
    "            @inbounds out[i,j] = x[i] * conj(y[j])\n",
    "        end\n",
    "    end\n",
    "    return out\n",
    "end"
   ],
   "metadata": {},
   "execution_count": null
  },
  {
   "cell_type": "markdown",
   "source": [
    "### column times scalar"
   ],
   "metadata": {}
  },
  {
   "outputs": [],
   "cell_type": "code",
   "source": [
    "function f2!(out, x, y)\n",
    "    for j in 1:length(y)\n",
    "        @inbounds @. (@view out[:,j]) = x * conj(y[j])\n",
    "    end\n",
    "    return out\n",
    "end"
   ],
   "metadata": {},
   "execution_count": null
  },
  {
   "cell_type": "markdown",
   "source": [
    "### Using threads across columns"
   ],
   "metadata": {}
  },
  {
   "outputs": [],
   "cell_type": "code",
   "source": [
    "function f3!(out, x, y)\n",
    "    Threads.@threads for j in 1:length(y)\n",
    "        @inbounds @. (@view out[:,j]) = x * conj(y[j])\n",
    "    end\n",
    "    return out\n",
    "end"
   ],
   "metadata": {},
   "execution_count": null
  },
  {
   "cell_type": "markdown",
   "source": [
    "## Data for timing tests"
   ],
   "metadata": {}
  },
  {
   "outputs": [],
   "cell_type": "code",
   "source": [
    "M, N = 2^9, 2^10\n",
    "T = ComplexF32\n",
    "x = rand(T, M)\n",
    "y = rand(T, N)\n",
    "out = Matrix{T}(undef, M, N)\n",
    "out2 = Matrix{T}(undef, M, N);"
   ],
   "metadata": {},
   "execution_count": null
  },
  {
   "cell_type": "markdown",
   "source": [
    "Verify the methods are equivalent:"
   ],
   "metadata": {}
  },
  {
   "outputs": [],
   "cell_type": "code",
   "source": [
    "@assert f0!(out,x,y) ≈ f1!(out2,x,y) # why is ≈ needed here?!\n",
    "@assert f1!(out,x,y) == f2!(out2,x,y)\n",
    "@assert f1!(out,x,y) == f3!(out2,x,y)"
   ],
   "metadata": {},
   "execution_count": null
  },
  {
   "cell_type": "markdown",
   "source": [
    "## Benchmark the methods\n",
    "The results will depend on the computer used, of course."
   ],
   "metadata": {}
  },
  {
   "cell_type": "markdown",
   "source": [
    "x*y'"
   ],
   "metadata": {}
  },
  {
   "outputs": [],
   "cell_type": "code",
   "source": [
    "t = @benchmark f0!($out, $x, $y)\n",
    "timeu = t -> btime(t, unit=:μs)\n",
    "t0 = timeu(t);"
   ],
   "metadata": {},
   "execution_count": null
  },
  {
   "cell_type": "markdown",
   "source": [
    "double loop"
   ],
   "metadata": {}
  },
  {
   "outputs": [],
   "cell_type": "code",
   "source": [
    "t = @benchmark f1!($out, $x, $y)\n",
    "timeu = t -> btime(t, unit=:μs)\n",
    "t1 = timeu(t);"
   ],
   "metadata": {},
   "execution_count": null
  },
  {
   "cell_type": "markdown",
   "source": [
    "column times scalar"
   ],
   "metadata": {}
  },
  {
   "outputs": [],
   "cell_type": "code",
   "source": [
    "t = @benchmark f2!($out, $x, $y)\n",
    "t2 = timeu(t);"
   ],
   "metadata": {},
   "execution_count": null
  },
  {
   "cell_type": "markdown",
   "source": [
    "threads"
   ],
   "metadata": {}
  },
  {
   "outputs": [],
   "cell_type": "code",
   "source": [
    "t = @benchmark f3!($out, $x, $y)\n",
    "t3 = timeu(t);"
   ],
   "metadata": {},
   "execution_count": null
  },
  {
   "cell_type": "markdown",
   "source": [
    "Result summary:"
   ],
   "metadata": {}
  },
  {
   "outputs": [],
   "cell_type": "code",
   "source": [
    "[\"built-in\" t0; \"double\" t1; \"column\" t2; \"thread\" t3]"
   ],
   "metadata": {},
   "execution_count": null
  },
  {
   "cell_type": "markdown",
   "source": [
    "### Remarks\n",
    "\n",
    "With Julia 1.9 a 2017 iMac with 8 threads\n",
    "(4.2 GHz Quad-Core Intel i7),\n",
    "the results are\n",
    "* \"time=235.7μs mem=0 alloc=0\"\n",
    "* \"time=153.9μs mem=0 alloc=0\"\n",
    "* \"time=153.0μs mem=0 alloc=0\"\n",
    "* \"time=54.1μs mem=4096 alloc=43\"\n",
    "\n",
    "Interestingly,\n",
    "the hand coded loop\n",
    "is faster than the built-in `mul!` for `x * y'`.\n",
    "\n",
    "The results in github's cloud may differ,\n",
    "because it uses different CPUs\n",
    "and typically only one thread."
   ],
   "metadata": {}
  },
  {
   "cell_type": "markdown",
   "source": [
    "---\n",
    "\n",
    "*This notebook was generated using [Literate.jl](https://github.com/fredrikekre/Literate.jl).*"
   ],
   "metadata": {}
  }
 ],
 "nbformat_minor": 3,
 "metadata": {
  "language_info": {
   "file_extension": ".jl",
   "mimetype": "application/julia",
   "name": "julia",
   "version": "1.11.6"
  },
  "kernelspec": {
   "name": "julia-1.11",
   "display_name": "Julia 1.11.6",
   "language": "julia"
  }
 },
 "nbformat": 4
}

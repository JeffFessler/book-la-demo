{
 "cells": [
  {
   "cell_type": "markdown",
   "source": [
    "# SVD of finite differences\n",
    "\n",
    "This example illustrates the SVD of a first-order finite-difference matrix\n",
    "using the Julia language.\n",
    "This demo was inspired\n",
    "by\n",
    "[Gilbert Strang's 2006 article](https://archive.siam.org/news/news.php?id=828)."
   ],
   "metadata": {}
  },
  {
   "cell_type": "markdown",
   "source": [
    "## Setup\n",
    "Add the Julia packages used in this demo.\n",
    "Change `false` to `true` in the following code block\n",
    "if you are using any of the following packages for the first time."
   ],
   "metadata": {}
  },
  {
   "outputs": [],
   "cell_type": "code",
   "source": [
    "if false\n",
    "    import Pkg\n",
    "    Pkg.add([\n",
    "        \"InteractiveUtils\"\n",
    "        \"LaTeXStrings\"\n",
    "        \"LinearAlgebra\"\n",
    "        \"MIRTjim\"\n",
    "        \"Plots\"\n",
    "    ])\n",
    "end"
   ],
   "metadata": {},
   "execution_count": null
  },
  {
   "cell_type": "markdown",
   "source": [
    "Tell Julia to use the following packages.\n",
    "Run `Pkg.add()` in the preceding code block first, if needed."
   ],
   "metadata": {}
  },
  {
   "outputs": [],
   "cell_type": "code",
   "source": [
    "using InteractiveUtils: versioninfo\n",
    "using LaTeXStrings\n",
    "using LinearAlgebra: norm, I, diag, diagm, Diagonal\n",
    "using MIRTjim: jim, prompt\n",
    "using Plots: default, plot, scatter\n",
    "default(); default(label=\"\", markerstrokecolor=:auto, color=:blue, widen=:true)"
   ],
   "metadata": {},
   "execution_count": null
  },
  {
   "cell_type": "markdown",
   "source": [
    "The following line is helpful when running this jl-file as a script;\n",
    "this way it will prompt user to hit a key after each image is displayed."
   ],
   "metadata": {}
  },
  {
   "outputs": [],
   "cell_type": "code",
   "source": [
    "isinteractive() && jim(:prompt, true);"
   ],
   "metadata": {},
   "execution_count": null
  },
  {
   "cell_type": "markdown",
   "source": [
    "## First-order finite-difference matrix"
   ],
   "metadata": {}
  },
  {
   "outputs": [],
   "cell_type": "code",
   "source": [
    "N = 16\n",
    "Δ = diagm(0 => -ones(Int,N-1), 1 => ones(Int,N-1))[1:(N-1),:] # (N-1,N) diff\n",
    "jim(Δ'; title=\"$(N-1) × $N finite-difference matrix Δ\", color=:cividis)"
   ],
   "metadata": {},
   "execution_count": null
  },
  {
   "cell_type": "markdown",
   "source": [
    "## Right singular vectors are cos functions"
   ],
   "metadata": {}
  },
  {
   "outputs": [],
   "cell_type": "code",
   "source": [
    "h = π / N\n",
    "v = k -> cos.(((1:N)*2 .- 1) * k * h / 2) / sqrt(N/2)\n",
    "\n",
    "plot(v(5), line=:stem, marker=:circle, title=\"5th right singular vector\",\n",
    " xaxis = (L\"i\", (1,N), 1:N), yaxis=(L\"v_5[i]\", (-0.5,0.5), (-1:1)*0.5))"
   ],
   "metadata": {},
   "execution_count": null
  },
  {
   "outputs": [],
   "cell_type": "code",
   "source": [
    "prompt()"
   ],
   "metadata": {},
   "execution_count": null
  },
  {
   "cell_type": "markdown",
   "source": [
    "## Left singular vectors are -sin functions"
   ],
   "metadata": {}
  },
  {
   "outputs": [],
   "cell_type": "code",
   "source": [
    "u = k -> -sin.((1:(N-1)) * k * h) / sqrt(N/2) # \"derivative of cos is -sin\"\n",
    "\n",
    "plot(u(5), line=:stem, marker=:circle, title=\"5th left singular vector\",\n",
    " xaxis = (L\"i\", (1,N), 1:N-1), yaxis=(L\"u_5[i]\", (-0.5,0.5), (-1:1)*0.5))"
   ],
   "metadata": {},
   "execution_count": null
  },
  {
   "outputs": [],
   "cell_type": "code",
   "source": [
    "prompt()"
   ],
   "metadata": {},
   "execution_count": null
  },
  {
   "cell_type": "markdown",
   "source": [
    "## Singular values\n",
    "### (Caution: not in descending order)"
   ],
   "metadata": {}
  },
  {
   "outputs": [],
   "cell_type": "code",
   "source": [
    "σ = k -> 2*sin(k*h/2)\n",
    "k = 1:(N-1)\n",
    "\n",
    "scatter(k, σ.(k), title=\"$(N-1) singular values (unordered)\",\n",
    " color=:red, xaxis=(L\"k\", (1,N-1), 1:N-1), yaxis=(L\"σ_k\", (0,2), 0:2))"
   ],
   "metadata": {},
   "execution_count": null
  },
  {
   "outputs": [],
   "cell_type": "code",
   "source": [
    "prompt()"
   ],
   "metadata": {},
   "execution_count": null
  },
  {
   "cell_type": "markdown",
   "source": [
    "## SVD components"
   ],
   "metadata": {}
  },
  {
   "outputs": [],
   "cell_type": "code",
   "source": [
    "V = hcat([v(k) for k in 1:(N-1)]...) # (N,N-1) \"V_{N-1}\" DCT\n",
    "U = hcat([u(k) for k in 1:(N-1)]...) # (N-1,N-1) DST\n",
    "Σ = Diagonal(σ.(1:(N-1))) # (N-1,N_1) Σ_N\n",
    "\n",
    "jim(\n",
    " jim(U', \"U: Left singular vectors\"; color=:cividis),\n",
    " jim(V', \"V: Right singular vectors\"; color=:cividis),\n",
    " jim(Σ', \"Σ: Singular values\"; color=:cividis),\n",
    ")"
   ],
   "metadata": {},
   "execution_count": null
  },
  {
   "cell_type": "markdown",
   "source": [
    "## Verify correctness of SVD"
   ],
   "metadata": {}
  },
  {
   "outputs": [],
   "cell_type": "code",
   "source": [
    "@assert all(>(0), diag(Σ)) # singular values are nonnegative\n",
    "@assert Δ * V ≈ U * Σ # \"derivative of cos is -sin\"\n",
    "@assert V'V ≈ I(N-1) # V is semi-unitary\n",
    "@assert U'U ≈ I(N-1) && U*U' ≈ I(N-1) # U is unitary\n",
    "@assert Δ ≈ U * Σ * V' # SVD of Δ"
   ],
   "metadata": {},
   "execution_count": null
  },
  {
   "cell_type": "markdown",
   "source": [
    "---\n",
    "\n",
    "*This notebook was generated using [Literate.jl](https://github.com/fredrikekre/Literate.jl).*"
   ],
   "metadata": {}
  }
 ],
 "nbformat_minor": 3,
 "metadata": {
  "language_info": {
   "file_extension": ".jl",
   "mimetype": "application/julia",
   "name": "julia",
   "version": "1.11.6"
  },
  "kernelspec": {
   "name": "julia-1.11",
   "display_name": "Julia 1.11.6",
   "language": "julia"
  }
 },
 "nbformat": 4
}

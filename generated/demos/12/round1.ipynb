{
 "cells": [
  {
   "cell_type": "markdown",
   "source": [
    "# Roundoff errors and rank\n",
    "\n",
    "This example examines the effects of\n",
    "[roundoff error](https://en.wikipedia.org/wiki/Round-off_error)\n",
    "associated with finite-precision arithmetic\n",
    "on matrix `rank` and singular value calculations,\n",
    "using the Julia language.\n",
    "The focus is rank-1 matrices."
   ],
   "metadata": {}
  },
  {
   "cell_type": "markdown",
   "source": [
    "Add the Julia packages that are need for this demo.\n",
    "Change `false` to `true` in the following code block\n",
    "if you are using any of the following packages for the first time."
   ],
   "metadata": {}
  },
  {
   "outputs": [],
   "cell_type": "code",
   "source": [
    "if false\n",
    "    import Pkg\n",
    "    Pkg.add([\n",
    "        \"InteractiveUtils\"\n",
    "        \"LaTeXStrings\"\n",
    "        \"LinearAlgebra\"\n",
    "        \"MIRTjim\"\n",
    "        \"Plots\"\n",
    "        \"StatsBase\"\n",
    "    ])\n",
    "end"
   ],
   "metadata": {},
   "execution_count": null
  },
  {
   "cell_type": "markdown",
   "source": [
    "Tell Julia to use the following packages for this example.\n",
    "Run `Pkg.add()` in the preceding code block first, if needed."
   ],
   "metadata": {}
  },
  {
   "outputs": [],
   "cell_type": "code",
   "source": [
    "using InteractiveUtils: versioninfo\n",
    "using LaTeXStrings\n",
    "using LinearAlgebra: rank, svd, svdvals, Diagonal, norm\n",
    "using MIRTjim: prompt\n",
    "using Plots: default, gui, plot, plot!, scatter, scatter!, savefig, histogram\n",
    "using Plots.PlotMeasures: px\n",
    "using StatsBase: mean, var\n",
    "default(markerstrokecolor=:auto, label=\"\", widen=true, markersize = 6,\n",
    " tickfontsize = 12, labelfontsize = 18, legendfontsize = 18, linewidth=2,\n",
    ")"
   ],
   "metadata": {},
   "execution_count": null
  },
  {
   "cell_type": "markdown",
   "source": [
    "The following line is helpful when running this file as a script;\n",
    "this way it will prompt user to hit a key after each image is displayed."
   ],
   "metadata": {}
  },
  {
   "outputs": [],
   "cell_type": "code",
   "source": [
    "isinteractive() && prompt(:prompt);"
   ],
   "metadata": {},
   "execution_count": null
  },
  {
   "cell_type": "markdown",
   "source": [
    "## Roundoff errors and singular values\n",
    "\n",
    "Examine the singular values of a matrix\n",
    "that ideally should have rank=1."
   ],
   "metadata": {}
  },
  {
   "outputs": [],
   "cell_type": "code",
   "source": [
    "n = 100\n",
    "T = Float32\n",
    "u = ones(T, n) / T(sqrt(n))\n",
    "v = ones(T, n) / T(sqrt(n))\n",
    "Y = 1 * u * v' # theoretically rank-1 matrix\n",
    "@assert rank(Y) == 1 # julia is aware of precision limits\n",
    "sigma = svdvals(Y)\n",
    "sigma[1], abs(sigma[1] - 1)"
   ],
   "metadata": {},
   "execution_count": null
  },
  {
   "outputs": [],
   "cell_type": "code",
   "source": [
    "xaxis = (L\"k\", (1,n), [1, n÷2, n])\n",
    "p1 = scatter(sigma; xaxis, yaxis = (L\"σ_k\", (-0.02, 1.02), -1:1), color=:blue)\n",
    "good = findall(sigma .> 0)\n",
    "xaxis = (L\"k\", (1,n), [2, n÷2, n])\n",
    "p2 = scatter(good, log10.(sigma[good]);\n",
    "    xaxis, yaxis = (L\"\\log_{10}(σ_k)\", (-40, 2), -40:20:0), color=:red)\n",
    "p12 = plot(p1, p2, layout=(2,1))\n",
    "# savefig(p12, \"round1.pdf\")"
   ],
   "metadata": {},
   "execution_count": null
  },
  {
   "outputs": [],
   "cell_type": "code",
   "source": [
    "prompt()"
   ],
   "metadata": {},
   "execution_count": null
  },
  {
   "cell_type": "markdown",
   "source": [
    "## Roundoff errors and rank\n",
    "\n",
    "For a matrix that is sufficiently large\n",
    "relative to the precision of the matrix elements,\n",
    "the threshold in the `rank` function\n",
    "can be high enough\n",
    "that the returned rank is `0`."
   ],
   "metadata": {}
  },
  {
   "outputs": [],
   "cell_type": "code",
   "source": [
    "using LinearAlgebra: rank, svdvals\n",
    "n = 1100 # > 1 / eps(Float16)\n",
    "T = Float16\n",
    "u = ones(T, n) / T(sqrt(n))\n",
    "v = ones(T, n) / T(sqrt(n))\n",
    "Y = u * v' # theoretically rank-1 matrix\n",
    "rank(Y) # 0 !"
   ],
   "metadata": {},
   "execution_count": null
  },
  {
   "cell_type": "markdown",
   "source": [
    "The following plot shows the singular values\n",
    "and the threshold set in the `rank` function.\n",
    "There is a gap with a ratio of $10^5$ between\n",
    "$σ₁ = 1$\n",
    "and\n",
    "$σ₂$\n",
    "so `rank`'s threshold is unnecessarily conservative in this case.\n",
    "\n",
    "RMT suggests that the (smaller) tolerance\n",
    "$\\max(M,N) \\, ε \\, σ₁$\n",
    "can suffice,\n",
    "and indeed in this particular example\n",
    "it correctly separates the nonzero signal singular value\n",
    "from the noise singular values.\n",
    "\n",
    "Here the matrix `Y` nicely fits the assumptions of RMT;\n",
    "there may be other situations\n",
    "with \"worst case\" data matrices\n",
    "where the conservative threshold is needed.\n",
    "\n",
    "We have noticed that this plot looks different\n",
    "on a Mac and on Linux with Julia 1.9.2.\n",
    "Apparently some differences in the SVD libraries\n",
    "on different systems can affect the details\n",
    "of the tiny singular values."
   ],
   "metadata": {}
  },
  {
   "outputs": [],
   "cell_type": "code",
   "source": [
    "s = svdvals(Y)\n",
    "tol = minimum(size(Y)) * eps(T) * s[1] # from rank()\n",
    "tol2 = sqrt(maximum(size(Y))) * eps(T) * s[1] # from RMT\n",
    "p16 = plot([1, n], [1,1] * log10(tol),\n",
    " label=\"rank threshold: tol=$(round(tol,digits=2))\",\n",
    " title = \"Rank-1 matrix with $T elements\",\n",
    ")\n",
    "plot!([1, n], [1,1] * log10(tol2),\n",
    " label=\"RMT threshold: tol=$(round(tol2,digits=2))\")\n",
    "scatter!(1:n, log10.(s); label=\"singular values\", alpha=0.8,\n",
    " xaxis = (L\"k\", (1,n), [2, n÷2, n]),\n",
    " yaxis = (L\"\\log_{10}(σ)\", (-45, 2), [-40:20:0; -5]),\n",
    " left_margin = 40px, bottom_margin = 20px,\n",
    " annotate = (200, -8, Sys.MACHINE, :left),\n",
    ")"
   ],
   "metadata": {},
   "execution_count": null
  },
  {
   "outputs": [],
   "cell_type": "code",
   "source": [
    "prompt()\n",
    "# savefig(p16, \"round1-p16-$(Sys.MACHINE).pdf\")"
   ],
   "metadata": {},
   "execution_count": null
  },
  {
   "cell_type": "markdown",
   "source": [
    "## Roundoff error variance"
   ],
   "metadata": {}
  },
  {
   "outputs": [],
   "cell_type": "code",
   "source": [
    "N = 200"
   ],
   "metadata": {},
   "execution_count": null
  },
  {
   "cell_type": "markdown",
   "source": [
    "very high-precision reference, var=1"
   ],
   "metadata": {}
  },
  {
   "outputs": [],
   "cell_type": "code",
   "source": [
    "X = (2 * rand(BigFloat, N, N) .- 1) * sqrt(3)\n",
    "for T in (Float16, Float32, Float64)\n",
    "    local Y = T.(X) # quantize\n",
    "    local Z = T.(Y - X) # quantization error\n",
    "    @show T, mean(Z) # approximately 0\n",
    "    vr = var(Float64.(Z)) # sample variance\n",
    "    @show (vr, eps(T)^2/24) # empirical, predicted\n",
    "end"
   ],
   "metadata": {},
   "execution_count": null
  },
  {
   "cell_type": "markdown",
   "source": [
    "## Roundoff error plot"
   ],
   "metadata": {}
  },
  {
   "outputs": [],
   "cell_type": "code",
   "source": [
    "T = Float32\n",
    "Y = T.(X) # quantize\n",
    "Z = T.(Y - X); # quantization error"
   ],
   "metadata": {},
   "execution_count": null
  },
  {
   "cell_type": "markdown",
   "source": [
    "Examine histogram of floating point quantization errors"
   ],
   "metadata": {}
  },
  {
   "outputs": [],
   "cell_type": "code",
   "source": [
    "ph = histogram(vec(Z), bins = (-40:40)/40 * eps(T))"
   ],
   "metadata": {},
   "execution_count": null
  },
  {
   "outputs": [],
   "cell_type": "code",
   "source": [
    "prompt()"
   ],
   "metadata": {},
   "execution_count": null
  },
  {
   "cell_type": "markdown",
   "source": [
    "Examine floating point quantization errors"
   ],
   "metadata": {}
  },
  {
   "outputs": [],
   "cell_type": "code",
   "source": [
    "x = range(BigFloat(-1), BigFloat(1), 1001) * 2\n",
    "z = T.(x) - x # quantization error\n",
    "ylabel = latexstring(\"error: \\$\\\\ (q(x) - x)/ϵ\\$\")\n",
    "scatter(x, z / eps(T), yaxis=(ylabel, (-1,1).*0.51, (-2:2)*0.25))\n",
    "plot!(x, (@. eps(T(x)) / eps(T) / 2), label=L\"ϵ(x)/2\", color=:blue)\n",
    "pq = plot!(x, x/2, xaxis=(L\"x\",), label=L\"x/2\", legend=:top, color=:red)"
   ],
   "metadata": {},
   "execution_count": null
  },
  {
   "outputs": [],
   "cell_type": "code",
   "source": [
    "prompt()"
   ],
   "metadata": {},
   "execution_count": null
  },
  {
   "cell_type": "markdown",
   "source": [
    "Based on the quantization error plot above,\n",
    "the quantization error for a floating point number near $x$\n",
    "is bounded above by $ϵ x / 2$.\n",
    "See the\n",
    "[Julia manual for `eps`](https://docs.julialang.org/en/v1/base/base/\\#Base.eps-Tuple{AbstractFloat}).\n",
    "Thus if $x ∼ \\mathrm{Unif}(-a,a)$ then\n",
    "$\n",
    "E[z^2] = E[|q(x) - x|^2]\n",
    "= \\frac{1}{2a} ∫_{-a}^a |q(x) - x|^2 \\mathrm{d} x\n",
    "\\leq\n",
    "\\frac{1}{a} ∫_0^a |ϵ x / 2|^2 \\mathrm{d} x\n",
    "= ϵ^2 a^2 / 12.\n",
    "$"
   ],
   "metadata": {}
  },
  {
   "cell_type": "markdown",
   "source": [
    "---\n",
    "\n",
    "*This notebook was generated using [Literate.jl](https://github.com/fredrikekre/Literate.jl).*"
   ],
   "metadata": {}
  }
 ],
 "nbformat_minor": 3,
 "metadata": {
  "language_info": {
   "file_extension": ".jl",
   "mimetype": "application/julia",
   "name": "julia",
   "version": "1.11.6"
  },
  "kernelspec": {
   "name": "julia-1.11",
   "display_name": "Julia 1.11.6",
   "language": "julia"
  }
 },
 "nbformat": 4
}

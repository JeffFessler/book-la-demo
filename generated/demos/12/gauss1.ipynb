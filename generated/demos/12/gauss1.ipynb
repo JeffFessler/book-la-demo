{
 "cells": [
  {
   "cell_type": "markdown",
   "source": [
    "# Random matrix theory and rank-1 signal + noise\n",
    "\n",
    "This example compares results from random matrix theory\n",
    "with empirical results\n",
    "for rank-1 matrices with additive white Gaussian noise\n",
    "using the Julia language.\n",
    "This demo illustrates the phase transition\n",
    "that occurs when the singular value\n",
    "is sufficiently large\n",
    "relative to the matrix aspect ratio $c = M/N$."
   ],
   "metadata": {}
  },
  {
   "cell_type": "markdown",
   "source": [
    "Add the Julia packages that are need for this demo.\n",
    "Change `false` to `true` in the following code block\n",
    "if you are using any of the following packages for the first time."
   ],
   "metadata": {}
  },
  {
   "outputs": [],
   "cell_type": "code",
   "source": [
    "if false\n",
    "    import Pkg\n",
    "    Pkg.add([\n",
    "        \"InteractiveUtils\"\n",
    "        \"LaTeXStrings\"\n",
    "        \"LinearAlgebra\"\n",
    "        \"MIRTjim\"\n",
    "        \"Plots\"\n",
    "        \"Random\"\n",
    "        \"StatsBase\"\n",
    "    ])\n",
    "end"
   ],
   "metadata": {},
   "execution_count": null
  },
  {
   "cell_type": "markdown",
   "source": [
    "Tell Julia to use the following packages for this example.\n",
    "Run `Pkg.add()` in the preceding code block first, if needed."
   ],
   "metadata": {}
  },
  {
   "outputs": [],
   "cell_type": "code",
   "source": [
    "using InteractiveUtils: versioninfo\n",
    "using LaTeXStrings\n",
    "using LinearAlgebra: dot, rank, svd, svdvals\n",
    "using MIRTjim: prompt, jim\n",
    "using Plots: default, gui, plot, plot!, scatter!, savefig, histogram\n",
    "using Plots.PlotMeasures: px\n",
    "using Random: seed!\n",
    "using StatsBase: mean, var\n",
    "default(markerstrokecolor=:auto, label=\"\", widen=true, markersize = 6,\n",
    " labelfontsize = 24, legendfontsize = 18, tickfontsize = 14, linewidth = 3,\n",
    ")\n",
    "seed!(0)"
   ],
   "metadata": {},
   "execution_count": null
  },
  {
   "cell_type": "markdown",
   "source": [
    "The following line is helpful when running this file as a script;\n",
    "this way it will prompt user to hit a key after each image is displayed."
   ],
   "metadata": {}
  },
  {
   "outputs": [],
   "cell_type": "code",
   "source": [
    "isinteractive() && prompt(:prompt);"
   ],
   "metadata": {},
   "execution_count": null
  },
  {
   "cell_type": "markdown",
   "source": [
    "## Helper functions"
   ],
   "metadata": {}
  },
  {
   "cell_type": "markdown",
   "source": [
    "Generate random data for one trial:"
   ],
   "metadata": {}
  },
  {
   "outputs": [],
   "cell_type": "code",
   "source": [
    "function gen1(\n",
    "    θ::Real = 3,\n",
    "    M::Int = 100,\n",
    "    N::Int = 2M,\n",
    "    T::Type{<:Real} = Float32,\n",
    ")\n",
    "    u = randn(T, M) / T(sqrt(M))\n",
    "    v = randn(T, N) / T(sqrt(N))\n",
    "    X = θ * u * v' # theoretically rank-1 matrix\n",
    "    Z = randn(T, M, N) / T(sqrt(N)) # gaussian noise\n",
    "    Y = X + Z\n",
    "    return Y, u, v, θ\n",
    "end;"
   ],
   "metadata": {},
   "execution_count": null
  },
  {
   "cell_type": "markdown",
   "source": [
    "SVD results for 1 trial:"
   ],
   "metadata": {}
  },
  {
   "outputs": [],
   "cell_type": "code",
   "source": [
    "function trial1(args...)\n",
    "    Y, u, v, θ = gen1(args...)\n",
    "    fac = svd(Y)\n",
    "    σ1 = fac.S[1]\n",
    "    u1 = fac.U[:,1]\n",
    "    v1 = fac.Vt[1,:]\n",
    "    return [σ1, abs2(dot(u1, u)), abs2(dot(v1, v))]\n",
    "end;"
   ],
   "metadata": {},
   "execution_count": null
  },
  {
   "cell_type": "markdown",
   "source": [
    "Average `nrep` trials:"
   ],
   "metadata": {}
  },
  {
   "outputs": [],
   "cell_type": "code",
   "source": [
    "trial2(nrep::Int, args...) = mean((_) -> trial1(args...), 1:nrep);"
   ],
   "metadata": {},
   "execution_count": null
  },
  {
   "cell_type": "markdown",
   "source": [
    "SVD for each of multiple trials, for different SNRs and matrix sizes:"
   ],
   "metadata": {}
  },
  {
   "outputs": [],
   "cell_type": "code",
   "source": [
    "if !@isdefined(vgrid)\n",
    "\n",
    "    # Simulation parameters\n",
    "    T = Float32\n",
    "    Mlist = [30, 300]\n",
    "    θmax = 4\n",
    "    nθ = θmax * 4 + 1\n",
    "    nrep = 100\n",
    "    θlist = T.(range(0, θmax, nθ));\n",
    "    labels = map(n -> latexstring(\"\\$M = $n\\$\"), Mlist)\n",
    "\n",
    "    c = 1 # square matrices for simplicity\n",
    "    c4 = c^0.25\n",
    "    tmp = ((θ, M) -> trial2(nrep, θ, M, ceil(Int, M/c) #= N =#)).(θlist, Mlist')\n",
    "    σgrid = map(x -> x[1], tmp)\n",
    "    ugrid = map(x -> x[2], tmp)\n",
    "    vgrid = map(x -> x[3], tmp)\n",
    "end;"
   ],
   "metadata": {},
   "execution_count": null
  },
  {
   "cell_type": "markdown",
   "source": [
    "## Results\n",
    "Compare theory predictions and empirical results.\n",
    "There is again notable agreement\n",
    "between theory and empirical results here."
   ],
   "metadata": {}
  },
  {
   "cell_type": "markdown",
   "source": [
    "σ1 plot"
   ],
   "metadata": {}
  },
  {
   "outputs": [],
   "cell_type": "code",
   "source": [
    "colors = [:orange, :red]\n",
    "θfine = range(0, θmax, 40θmax + 1)\n",
    "sbg(θ) = θ > c4 ? sqrt((1 + θ^2) * (c + θ^2)) / θ : 1 + √(c)\n",
    "stheory = sbg.(θfine)\n",
    "bm = s -> \"\\\\mathbf{\\\\mathit{$s}}\"\n",
    "ylabel = latexstring(\"\\$σ_1($(bm(:Y)))\\$ (Avg)\")\n",
    "ps = plot(θfine, θfine, color=:black,\n",
    "    aspect_ratio = 1, linewidth = 2,\n",
    "    xaxis = (L\"θ\", (0,θmax), 0:θmax),\n",
    "    yaxis = (ylabel, (1,θmax), 1:θmax),\n",
    "    annotate = (2.1, 3.6, latexstring(\"c = $c\"), :left),\n",
    ")\n",
    "plot!(θfine, stheory, color=:blue, label=\"theory\")\n",
    "scatter!(θlist, σgrid[:,1], marker=:square, color=colors[1], label = labels[1])\n",
    "scatter!(θlist, σgrid[:,2], marker=:circle, color=colors[2], label = labels[2])"
   ],
   "metadata": {},
   "execution_count": null
  },
  {
   "outputs": [],
   "cell_type": "code",
   "source": [
    "prompt()"
   ],
   "metadata": {},
   "execution_count": null
  },
  {
   "cell_type": "markdown",
   "source": [
    "u1 plot"
   ],
   "metadata": {}
  },
  {
   "outputs": [],
   "cell_type": "code",
   "source": [
    "ubg(θ) = (θ > c4) ? 1 - c * (1 + θ^2) / (θ^2 * (θ^2 + c)) : 0\n",
    "utheory = ubg.(θfine)\n",
    "ylabel = latexstring(\"\\$|⟨\\\\hat{$(bm(:u))}, $(bm(:u))⟩|^2\\$ (Avg)\")\n",
    "pu = plot(θfine, utheory, color=:blue, label=\"theory\",\n",
    "    left_margin = 10px, legend = :bottomright,\n",
    "    xaxis = (L\"θ\", (0,θmax), 0:θmax),\n",
    "    yaxis = (ylabel, (0,1), 0:0.5:1),\n",
    ")\n",
    "scatter!(θlist, ugrid[:,1], marker=:square, color=colors[1], label = labels[1])\n",
    "scatter!(θlist, ugrid[:,2], marker=:circle, color=colors[2], label = labels[2])"
   ],
   "metadata": {},
   "execution_count": null
  },
  {
   "outputs": [],
   "cell_type": "code",
   "source": [
    "prompt()"
   ],
   "metadata": {},
   "execution_count": null
  },
  {
   "cell_type": "markdown",
   "source": [
    "v1 plot"
   ],
   "metadata": {}
  },
  {
   "outputs": [],
   "cell_type": "code",
   "source": [
    "vbg(θ) = (θ > c^0.25) ? 1 - (c + θ^2) / (θ^2 * (θ^2 + 1)) : 0\n",
    "vtheory = vbg.(θfine)\n",
    "ylabel = latexstring(\"\\$|⟨\\\\hat{$(bm(:v))}, $(bm(:v))⟩|^2\\$ (Avg)\")\n",
    "pv = plot(θfine, vtheory, color=:blue, label=\"theory\",\n",
    "    left_margin = 10px, legend = :bottomright,\n",
    "    xaxis = (L\"θ\", (0,θmax), 0:θmax),\n",
    "    yaxis = (ylabel, (0,1), 0:0.5:1),\n",
    ")\n",
    "scatter!(θlist, vgrid[:,1], marker=:square, color=colors[1], label = labels[1])\n",
    "scatter!(θlist, vgrid[:,2], marker=:circle, color=colors[2], label = labels[2])"
   ],
   "metadata": {},
   "execution_count": null
  },
  {
   "outputs": [],
   "cell_type": "code",
   "source": [
    "prompt()\n",
    "\n",
    "\n",
    "if false\n",
    "    savefig(ps, \"gauss1-s.pdf\")\n",
    "    savefig(pu, \"gauss1-u.pdf\")\n",
    "    savefig(pv, \"gauss1-v.pdf\")\n",
    "end"
   ],
   "metadata": {},
   "execution_count": null
  },
  {
   "cell_type": "markdown",
   "source": [
    "## Marčenko–Pastur distribution\n",
    "\n",
    "Examine the singular values of the noise-only matrix $Z$.\n",
    "having elements\n",
    "$z_{ij} ∼ N(0, 1/N)$.\n",
    "and compare to the asymptotic prediction by the\n",
    "[Marčenko–Pastur distribution](https://en.wikipedia.org/wiki/Marchenko-Pastur_distribution).\n",
    "The agreement is remarkably good,\n",
    "even for a modest matrix size of 100 × 100."
   ],
   "metadata": {}
  },
  {
   "cell_type": "markdown",
   "source": [
    "Marčenko–Pastur pdf"
   ],
   "metadata": {}
  },
  {
   "outputs": [],
   "cell_type": "code",
   "source": [
    "function mp_predict(x::Real, c::Real)\n",
    "    σm = 1 - sqrt(c)\n",
    "    σp = 1 + sqrt(c)\n",
    "    return (σm < x < σp) ?\n",
    "        sqrt(4c - (x^2 - 1 - c)^2) / (π * c * x) : 0.\n",
    "end;\n",
    "\n",
    "\n",
    "function mp_plot(M::Int, N::Int, rando::Function, name::String;\n",
    "    ntrial = 150,\n",
    "    bins = range(0, 2, 101),\n",
    ")\n",
    "    c = M//N\n",
    "    pred = mp_predict.(bins, c)\n",
    "    pmax = ceil(maximum(pred), digits=1)\n",
    "    data = [svdvals(rando()) for _ in 1:ntrial]\n",
    "    data = reduce(hcat, data)\n",
    "    σm = 1 - sqrt(c)\n",
    "    σp = 1 + sqrt(c)\n",
    "    xticks = (c == 1) ? (0:2) : round.([0, σm, 1, σp, 2]; digits=2)\n",
    "    cstr = c == 1 ? L\"c = 1\" : latexstring(\"c = $(c.num)/$(c.den) $name\")\n",
    "    histogram(vec(data); bins, linewidth=0,\n",
    "     xaxis = (L\"σ\", (0, 2), xticks),\n",
    "     yaxis = (\"\", (0, 2.0), [-1, 0, pmax]),\n",
    "     label = \"Empirical\", normalize = :pdf,\n",
    "     left_margin = 10px,\n",
    "     annotate = (0.1, 1.5, cstr, :left),\n",
    "    )\n",
    "    return plot!(bins, pred, label=\"Predicted\")\n",
    "end;\n",
    "\n",
    "M = 100\n",
    "Nlist = [1, 4, 9] * M\n",
    "fun1 = N -> mp_plot(M, N, () -> randn(M, N) / sqrt(N), \"\")\n",
    "pp = fun1.(Nlist)\n",
    "p3 = plot(pp...; layout=(3,1), size=(600,800))\n",
    "\n",
    "# savefig(p3, \"gauss-mp.pdf\")\n",
    "# savefig(pp[2], \"gauss-mp-c4.pdf\")"
   ],
   "metadata": {},
   "execution_count": null
  },
  {
   "outputs": [],
   "cell_type": "code",
   "source": [
    "prompt()"
   ],
   "metadata": {},
   "execution_count": null
  },
  {
   "cell_type": "markdown",
   "source": [
    "## Universality\n",
    "\n",
    "Repeat the previous experiment\n",
    "with a (zero-mean) Bernoulli distribution."
   ],
   "metadata": {}
  },
  {
   "outputs": [],
   "cell_type": "code",
   "source": [
    "M = 100\n",
    "N = 4 * M\n",
    "randb = () -> rand((-1,1), M, N) / sqrt(N) # Bernoulli, variance 1/N\n",
    "if false\n",
    "    tmp = randb()\n",
    "    @show mean(tmp) # check mean is 0\n",
    "    @show mean(abs2, tmp), 1/N # check variance is 1/N (exact!)\n",
    "end\n",
    "pb = mp_plot(M, N, randb, \", \\\\mathrm{Bernoulli}\")"
   ],
   "metadata": {},
   "execution_count": null
  },
  {
   "outputs": [],
   "cell_type": "code",
   "source": [
    "prompt()"
   ],
   "metadata": {},
   "execution_count": null
  },
  {
   "cell_type": "markdown",
   "source": [
    "Show a typical Bernoulli matrix realization"
   ],
   "metadata": {}
  },
  {
   "outputs": [],
   "cell_type": "code",
   "source": [
    "pb0 = jim(randb()', \"'Bernoulli' matrix\"; clim = (-1,1) .* 0.05,\n",
    " size=(600,200), right_margin = 30px, cticks=(-1:1)*0.05)"
   ],
   "metadata": {},
   "execution_count": null
  },
  {
   "cell_type": "markdown",
   "source": [
    "## Sparsity\n",
    "\n",
    "Universality can break down\n",
    "if the data is too sparse.\n",
    "Here we modify Bernoulli to be a categorical distribution\n",
    "with values\n",
    "$(-a, 0, a)$\n",
    "and probabilities\n",
    "$((1-p)/2, p, (1-p)/2)$,\n",
    "with $a$ set so that the variance is $1/N$.\n",
    "\n",
    "Here we set $p$ so that most of the random matrix elements are zero.\n",
    "In this extremely sparse case,\n",
    "the Marčenko–Pastur distribution\n",
    "no longer applies."
   ],
   "metadata": {}
  },
  {
   "outputs": [],
   "cell_type": "code",
   "source": [
    "M = 100\n",
    "N = 4 * M\n",
    "p = (1 - 8/N) # just a few non-zero per row\n",
    "\n",
    "rands = () -> rand((-1,1), M, N) / sqrt(N * (1-p)) .* (rand(M,N) .> p)\n",
    "if false\n",
    "    tmp = rands()\n",
    "    @show count(==(0), tmp) / (M*N), p\n",
    "    @show mean(tmp) # check mean is 0\n",
    "    @show mean(abs2, tmp), 1/N # check variance is 1/N (exact!)\n",
    "end"
   ],
   "metadata": {},
   "execution_count": null
  },
  {
   "cell_type": "markdown",
   "source": [
    "Show a typical matrix realization to illustrate the sparsity"
   ],
   "metadata": {}
  },
  {
   "outputs": [],
   "cell_type": "code",
   "source": [
    "pb1 = jim(rands()', \"Very sparse 'Bernoulli' matrix\";\n",
    " size=(600,200), right_margin = 20px)"
   ],
   "metadata": {},
   "execution_count": null
  },
  {
   "cell_type": "markdown",
   "source": [
    "Now make the plot"
   ],
   "metadata": {}
  },
  {
   "outputs": [],
   "cell_type": "code",
   "source": [
    "pss = mp_plot(M, N, rands, \", \\\\mathrm{Sparse},  p = $p\")"
   ],
   "metadata": {},
   "execution_count": null
  },
  {
   "outputs": [],
   "cell_type": "code",
   "source": [
    "prompt()"
   ],
   "metadata": {},
   "execution_count": null
  },
  {
   "cell_type": "markdown",
   "source": [
    "---\n",
    "\n",
    "*This notebook was generated using [Literate.jl](https://github.com/fredrikekre/Literate.jl).*"
   ],
   "metadata": {}
  }
 ],
 "nbformat_minor": 3,
 "metadata": {
  "language_info": {
   "file_extension": ".jl",
   "mimetype": "application/julia",
   "name": "julia",
   "version": "1.11.6"
  },
  "kernelspec": {
   "name": "julia-1.11",
   "display_name": "Julia 1.11.6",
   "language": "julia"
  }
 },
 "nbformat": 4
}

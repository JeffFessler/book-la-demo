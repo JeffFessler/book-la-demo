{
 "cells": [
  {
   "cell_type": "markdown",
   "source": [
    "# RMT and matrix completion\n",
    "\n",
    "This example examines noisy matrix completion\n",
    "(estimating a low-rank matrix from noisy data with missing measurements)\n",
    "through the lens of random matrix theory,\n",
    "using the Julia language."
   ],
   "metadata": {}
  },
  {
   "cell_type": "markdown",
   "source": [
    "Add the Julia packages that are need for this demo.\n",
    "Change `false` to `true` in the following code block\n",
    "if you are using any of the following packages for the first time."
   ],
   "metadata": {}
  },
  {
   "outputs": [],
   "cell_type": "code",
   "source": [
    "if false\n",
    "    import Pkg\n",
    "    Pkg.add([\n",
    "        \"InteractiveUtils\"\n",
    "        \"LaTeXStrings\"\n",
    "        \"LinearAlgebra\"\n",
    "        \"MIRTjim\"\n",
    "        \"Plots\"\n",
    "        \"Random\"\n",
    "        \"StatsBase\"\n",
    "    ])\n",
    "end"
   ],
   "metadata": {},
   "execution_count": null
  },
  {
   "cell_type": "markdown",
   "source": [
    "Tell Julia to use the following packages for this example.\n",
    "Run `Pkg.add()` in the preceding code block first, if needed."
   ],
   "metadata": {}
  },
  {
   "outputs": [],
   "cell_type": "code",
   "source": [
    "using InteractiveUtils: versioninfo\n",
    "using LaTeXStrings\n",
    "using LinearAlgebra: Diagonal, dot, norm, rank, svd, svdvals\n",
    "using MIRTjim: prompt, jim\n",
    "using Plots: default, gui, plot, plot!, scatter!, savefig\n",
    "using Plots.PlotMeasures: px\n",
    "using Random: seed!\n",
    "using StatsBase: mean, var\n",
    "default(markerstrokecolor=:auto, label=\"\", widen=true, markersize = 6,\n",
    " labelfontsize = 24, legendfontsize = 18, tickfontsize = 14, linewidth = 3,\n",
    ")\n",
    "seed!(0)"
   ],
   "metadata": {},
   "execution_count": null
  },
  {
   "cell_type": "markdown",
   "source": [
    "The following line is helpful when running this file as a script;\n",
    "this way it will prompt user to hit a key after each image is displayed."
   ],
   "metadata": {}
  },
  {
   "outputs": [],
   "cell_type": "code",
   "source": [
    "isinteractive() && prompt(:prompt);"
   ],
   "metadata": {},
   "execution_count": null
  },
  {
   "cell_type": "markdown",
   "source": [
    "## Helper functions"
   ],
   "metadata": {}
  },
  {
   "cell_type": "markdown",
   "source": [
    "Generate random data for one trial:"
   ],
   "metadata": {}
  },
  {
   "outputs": [],
   "cell_type": "code",
   "source": [
    "function gen1(\n",
    "    θ::Real = 3,\n",
    "    M::Int = 100,\n",
    "    N::Int = 2M,\n",
    "    p_obs::Real = 1, # probability an element is observed\n",
    "    T::Type{<:Real} = Float32,\n",
    ")\n",
    "    mask = rand(M, N) .<= p_obs\n",
    "    u = rand((-1,+1), M) / T(sqrt(M)) # Bernoulli just for variety\n",
    "    v = rand((-1,+1), N) / T(sqrt(N))\n",
    "    # u = randn(T, M) / T(sqrt(M))\n",
    "    # v = randn(T, N) / T(sqrt(N))\n",
    "    X = θ * u * v' # theoretically rank-1 matrix\n",
    "    Z = randn(T, M, N) / T(sqrt(N)) # gaussian noise\n",
    "    Y = mask .* (X + Z) # missing entries set to zero\n",
    "    return Y, u, v, θ, p_obs\n",
    "end;"
   ],
   "metadata": {},
   "execution_count": null
  },
  {
   "cell_type": "markdown",
   "source": [
    "SVD results for 1 trial:"
   ],
   "metadata": {}
  },
  {
   "outputs": [],
   "cell_type": "code",
   "source": [
    "function trial1(args...)\n",
    "    Y, u, v, θ, p_obs = gen1(args...)\n",
    "    fac = svd(Y)\n",
    "    σ1 = fac.S[1]\n",
    "    u1 = fac.U[:,1]\n",
    "    v1 = fac.Vt[1,:]\n",
    "    return [σ1, abs2(dot(u1, u)), abs2(dot(v1, v))]\n",
    "end;"
   ],
   "metadata": {},
   "execution_count": null
  },
  {
   "cell_type": "markdown",
   "source": [
    "Average `nrep` trials:"
   ],
   "metadata": {}
  },
  {
   "outputs": [],
   "cell_type": "code",
   "source": [
    "trial2(nrep::Int, args...) = mean((_) -> trial1(args...), 1:nrep);"
   ],
   "metadata": {},
   "execution_count": null
  },
  {
   "cell_type": "markdown",
   "source": [
    "SVD for each of multiple trials, for different SNRs and matrix sizes:"
   ],
   "metadata": {}
  },
  {
   "outputs": [],
   "cell_type": "code",
   "source": [
    "if !@isdefined(vgrid)\n",
    "\n",
    "    # Simulation parameters\n",
    "    T = Float32\n",
    "    p_obs = 0.49\n",
    "    Mlist = [30, 300]\n",
    "    θmax = 4\n",
    "    nθ = θmax * 4 + 1\n",
    "    nrep = 100\n",
    "    θlist = T.(range(0, θmax, nθ));\n",
    "    labels = map(n -> latexstring(\"\\$M = $n\\$\"), Mlist)\n",
    "\n",
    "    c = 0.7 # non-square matrix to test\n",
    "    c4 = c^0.25\n",
    "    tmp = ((θ, M) -> trial2(nrep, θ, M, ceil(Int, M/c) #= N =#, p_obs)).(θlist, Mlist')\n",
    "    σgrid = map(x -> x[1], tmp)\n",
    "    ugrid = map(x -> x[2], tmp)\n",
    "    vgrid = map(x -> x[3], tmp)\n",
    "end;"
   ],
   "metadata": {},
   "execution_count": null
  },
  {
   "cell_type": "markdown",
   "source": [
    "## Results\n",
    "Compare theory predictions and empirical results.\n",
    "There is again notable agreement\n",
    "between theory and empirical results here."
   ],
   "metadata": {}
  },
  {
   "cell_type": "markdown",
   "source": [
    "σ1 plot"
   ],
   "metadata": {}
  },
  {
   "outputs": [],
   "cell_type": "code",
   "source": [
    "colors = [:orange, :red]\n",
    "θfine = range(0, 2θmax, 60θmax + 1)\n",
    "θmod = θfine .* sqrt(p_obs) # key modification from RMT!\n",
    "sbg(θ) = θ > c4 ? sqrt((1 + θ^2) * (c + θ^2)) / θ : 1 + √(c)\n",
    "stheory = sbg.(θmod) * sqrt(p_obs) # note modification!\n",
    "bm = s -> \"\\\\mathbf{\\\\mathit{$s}}\"\n",
    "ylabel = latexstring(\"\\$σ_1($(bm(:Y)))\\$ (Avg)\")\n",
    "ps = plot(θfine, stheory, color=:blue, label=\"theory\",\n",
    "    aspect_ratio = 1, legend = :topleft,\n",
    "    xaxis = (L\"θ\", (0,θmax), 0:θmax),\n",
    "    yaxis = (ylabel, (1,θmax), 1:θmax),\n",
    "    annotate = (3.1, 3.6, latexstring(\"c = $c\"), :left),\n",
    ")\n",
    "scatter!(θlist, σgrid[:,1], marker=:square, color=colors[1], label = labels[1])\n",
    "scatter!(θlist, σgrid[:,2], marker=:circle, color=colors[2], label = labels[2])\n",
    "plot!(θlist, θlist * p_obs, label=L\"p \\; θ\", color=:black, linewidth=2,\n",
    "    annotate = (3.1, 3.3, latexstring(\"p = $p_obs\"), :left))"
   ],
   "metadata": {},
   "execution_count": null
  },
  {
   "outputs": [],
   "cell_type": "code",
   "source": [
    "prompt()"
   ],
   "metadata": {},
   "execution_count": null
  },
  {
   "cell_type": "markdown",
   "source": [
    "u1 plot"
   ],
   "metadata": {}
  },
  {
   "outputs": [],
   "cell_type": "code",
   "source": [
    "ubg(θ) = (θ > c4) ? 1 - c * (1 + θ^2) / (θ^2 * (θ^2 + c)) : 0\n",
    "utheory = ubg.(θmod)\n",
    "ylabel = latexstring(\"\\$|⟨\\\\hat{$(bm(:u))}, $(bm(:u))⟩|^2\\$ (Avg)\")\n",
    "pu = plot(θfine, utheory, color=:blue, label=\"theory\",\n",
    "    left_margin = 10px, legend = :bottomright,\n",
    "    xaxis = (L\"θ\", (0,θmax), 0:θmax),\n",
    "    yaxis = (ylabel, (0,1), 0:0.5:1),\n",
    ")\n",
    "scatter!(θlist, ugrid[:,1], marker=:square, color=colors[1], label = labels[1])\n",
    "scatter!(θlist, ugrid[:,2], marker=:circle, color=colors[2], label = labels[2])"
   ],
   "metadata": {},
   "execution_count": null
  },
  {
   "outputs": [],
   "cell_type": "code",
   "source": [
    "prompt()"
   ],
   "metadata": {},
   "execution_count": null
  },
  {
   "cell_type": "markdown",
   "source": [
    "v1 plot"
   ],
   "metadata": {}
  },
  {
   "outputs": [],
   "cell_type": "code",
   "source": [
    "vbg(θ) = (θ > c^0.25) ? 1 - (c + θ^2) / (θ^2 * (θ^2 + 1)) : 0\n",
    "vtheory = vbg.(θmod)\n",
    "ylabel = latexstring(\"\\$|⟨\\\\hat{$(bm(:v))}, $(bm(:v))⟩|^2\\$ (Avg)\")\n",
    "pv = plot(θfine, vtheory, color=:blue, label=\"theory\",\n",
    "    left_margin = 10px, legend = :bottomright,\n",
    "    xaxis = (L\"θ\", (0,θmax), 0:θmax),\n",
    "    yaxis = (ylabel, (0,1), 0:0.5:1),\n",
    ")\n",
    "scatter!(θlist, vgrid[:,1], marker=:square, color=colors[1], label = labels[1])\n",
    "scatter!(θlist, vgrid[:,2], marker=:circle, color=colors[2], label = labels[2])"
   ],
   "metadata": {},
   "execution_count": null
  },
  {
   "outputs": [],
   "cell_type": "code",
   "source": [
    "prompt()\n",
    "\n",
    "\n",
    "if false\n",
    " savefig(ps, \"complete1-s.pdf\")\n",
    " savefig(pu, \"complete1-u.pdf\")\n",
    " savefig(pv, \"complete1-v.pdf\")\n",
    " pp = plot(ps, pu, pv; layout=(3,1), size=(600, 900))\n",
    "end"
   ],
   "metadata": {},
   "execution_count": null
  },
  {
   "cell_type": "markdown",
   "source": [
    "## Image example\n",
    "\n",
    "Apply an SVD-based matrix completion approach\n",
    "to some noisy and incomplete image data."
   ],
   "metadata": {}
  },
  {
   "cell_type": "markdown",
   "source": [
    "## Latent matrix\n",
    "Make a matrix that has low rank:"
   ],
   "metadata": {}
  },
  {
   "outputs": [],
   "cell_type": "code",
   "source": [
    "tmp = [\n",
    "    zeros(1,20);\n",
    "    0 1 0 0 0 0 1 0 0 0 1 1 1 1 0 1 1 1 1 0;\n",
    "    0 1 0 0 0 0 1 0 0 0 0 1 0 0 1 0 0 1 0 0;\n",
    "    0 1 0 0 0 0 1 0 0 0 0 1 0 0 0 0 0 1 0 0;\n",
    "    0 0 1 1 1 1 0 0 0 0 1 1 0 0 0 0 0 1 1 0;\n",
    "    zeros(1,20)\n",
    "]';\n",
    "rank(tmp)"
   ],
   "metadata": {},
   "execution_count": null
  },
  {
   "cell_type": "markdown",
   "source": [
    "Turn it into an image:"
   ],
   "metadata": {}
  },
  {
   "outputs": [],
   "cell_type": "code",
   "source": [
    "Xtrue = kron(10 .+ 80*tmp, ones(9,9))\n",
    "rtrue = rank(Xtrue)"
   ],
   "metadata": {},
   "execution_count": null
  },
  {
   "cell_type": "markdown",
   "source": [
    "plots with consistent size"
   ],
   "metadata": {}
  },
  {
   "outputs": [],
   "cell_type": "code",
   "source": [
    "jim1 = (X ; kwargs...) -> jim(X; size = (700,300),\n",
    " leftmargin = 10px, rightmargin = 10px, kwargs...);"
   ],
   "metadata": {},
   "execution_count": null
  },
  {
   "cell_type": "markdown",
   "source": [
    "and consistent display range"
   ],
   "metadata": {}
  },
  {
   "outputs": [],
   "cell_type": "code",
   "source": [
    "jimc = (X ; kwargs...) -> jim1(X; clim=(0,99), kwargs...);"
   ],
   "metadata": {},
   "execution_count": null
  },
  {
   "cell_type": "markdown",
   "source": [
    "and with NRMSE label"
   ],
   "metadata": {}
  },
  {
   "outputs": [],
   "cell_type": "code",
   "source": [
    "nrmse = (Xh) -> round(norm(Xh - Xtrue) / norm(Xtrue) * 100, digits=1)\n",
    "args = (xaxis = false, yaxis = false, colorbar = :none) # book\n",
    "args = (;) # web\n",
    "jime = (X; kwargs...) -> jimc(X; xlabel = \"NRMSE = $(nrmse(X)) %\",\n",
    " args..., kwargs...,\n",
    ")\n",
    "title = latexstring(\"\\$$(bm(:X))\\$ : Latent image\")\n",
    "pt = jimc(Xtrue; title, xlabel = \" \", args...)"
   ],
   "metadata": {},
   "execution_count": null
  },
  {
   "cell_type": "markdown",
   "source": [
    "## Noisy / incomplete data"
   ],
   "metadata": {}
  },
  {
   "outputs": [],
   "cell_type": "code",
   "source": [
    "seed!(0)\n",
    "p_see = 0.8\n",
    "mask = rand(Float32, size(Xtrue)) .<= p_see\n",
    "sigZ = 6\n",
    "Mx,Nx = sort(collect(size(Xtrue)))\n",
    "Z = sigZ * randn(size(Xtrue)) # AWGN\n",
    "Y = mask .* (Xtrue + Z);\n",
    "\n",
    "title = latexstring(\"\\$$(bm(:Y))\\$ : Corrupted image matrix\\n(missing pixels set to 0)\")\n",
    "py = jime(Y ; title)"
   ],
   "metadata": {},
   "execution_count": null
  },
  {
   "cell_type": "markdown",
   "source": [
    "Show mask; count proportion of missing entries"
   ],
   "metadata": {}
  },
  {
   "outputs": [],
   "cell_type": "code",
   "source": [
    "frac_nonzero = count(mask) / length(mask)\n",
    "title = latexstring(\"\\$$(bm(:M))\\$ : Locations of observed entries\")\n",
    "pm = jim1(mask; title, args...,\n",
    "    xlabel = \"sampled fraction = $(round(frac_nonzero * 100, digits=1))%\")"
   ],
   "metadata": {},
   "execution_count": null
  },
  {
   "cell_type": "markdown",
   "source": [
    "## Singular values.\n",
    "\n",
    "The first 3 singular values of $Y$\n",
    "are well above the \"noise floor\" caused by masking,\n",
    "but, relative to those of $X$\n",
    "they are scaled down by a factor of $p$ as expected.\n",
    "\n",
    "We also show the critical value of $σ$\n",
    "where the phase transition occurs.\n",
    "$σ₄(X)$ is just barely above the threshold,\n",
    "and $σ₅(X)$ below the threshold,\n",
    "so we cannot expect a simple SVD approach\n",
    "to recover them."
   ],
   "metadata": {}
  },
  {
   "outputs": [],
   "cell_type": "code",
   "source": [
    "c_4 = (Mx / Nx)^(1/4)\n",
    "σcrit = sigZ^2 * sqrt(Nx) * c_4 / sqrt(p_see) # from RMT\n",
    "\n",
    "pg = plot([1, Nx], [1, 1] * σcrit, color=:cyan,\n",
    " title=\"singular values\",\n",
    " xaxis=(L\"k\", (1, Mx), [1, 3, 6, Mx]),\n",
    " yaxis=(L\"σ_k\",),\n",
    " leftmargin = 15px, bottommargin = 20px, size = (600,350), widen = true,\n",
    ")\n",
    "sv_x = svdvals(Xtrue)\n",
    "sv_y = svdvals(Y)\n",
    "scatter!(pg, sv_x, color=:blue, label=\"Xtrue\", marker=:utriangle)\n",
    "scatter!(pg, sv_y, color=:red, label=\"Y (data)\", marker=:dtriangle)\n",
    "scatter!(pg, sv_y[1:3] / p_see, color=:green, label=\"Y/p\", marker=:hex, alpha=0.8)"
   ],
   "metadata": {},
   "execution_count": null
  },
  {
   "outputs": [],
   "cell_type": "code",
   "source": [
    "prompt()"
   ],
   "metadata": {},
   "execution_count": null
  },
  {
   "cell_type": "markdown",
   "source": [
    "## Low-rank estimate\n",
    "\n",
    "A simple low-rank estimate of $X$\n",
    "from the first few SVD components of $Y$\n",
    "works just so-so here.\n",
    "A simple SVD approach recovers the first 3 components well,\n",
    "but cannot estimate the 4th and 5th components."
   ],
   "metadata": {}
  },
  {
   "outputs": [],
   "cell_type": "code",
   "source": [
    "r = 3\n",
    "U,s,V = svd(Y)\n",
    "s ./= p_see # correction for masking effect\n",
    "Xr = U[:,1:r] * Diagonal(s[1:r]) * V[:,1:r]'\n",
    "title = latexstring(\"Rank $r approximation of data \\$$(bm(:Y))\\$\")\n",
    "pr = jime(Xr ; title)"
   ],
   "metadata": {},
   "execution_count": null
  },
  {
   "cell_type": "markdown",
   "source": [
    "How well do the singular vectors match?\n",
    "The first 3 components match quite well:"
   ],
   "metadata": {}
  },
  {
   "outputs": [],
   "cell_type": "code",
   "source": [
    "[sum(svd(Xr).U[:,1:r] .* svd(Xtrue).U[:,1:r], dims=1).^2;\n",
    " sum(svd(Xr).V[:,1:r] .* svd(Xtrue).V[:,1:r], dims=1).^2]"
   ],
   "metadata": {},
   "execution_count": null
  },
  {
   "cell_type": "markdown",
   "source": [
    "The next 2 components match very poorly, as predicted:"
   ],
   "metadata": {}
  },
  {
   "outputs": [],
   "cell_type": "code",
   "source": [
    "[sum(svd(Y).U[:,4:5]/p_see .* svd(Xtrue).U[:,4:5], dims=1).^2;\n",
    " sum(svd(Y).V[:,4:5]/p_see .* svd(Xtrue).V[:,4:5], dims=1).^2]"
   ],
   "metadata": {},
   "execution_count": null
  },
  {
   "cell_type": "markdown",
   "source": [
    "---\n",
    "\n",
    "*This notebook was generated using [Literate.jl](https://github.com/fredrikekre/Literate.jl).*"
   ],
   "metadata": {}
  }
 ],
 "nbformat_minor": 3,
 "metadata": {
  "language_info": {
   "file_extension": ".jl",
   "mimetype": "application/julia",
   "name": "julia",
   "version": "1.11.6"
  },
  "kernelspec": {
   "name": "julia-1.11",
   "display_name": "Julia 1.11.6",
   "language": "julia"
  }
 },
 "nbformat": 4
}

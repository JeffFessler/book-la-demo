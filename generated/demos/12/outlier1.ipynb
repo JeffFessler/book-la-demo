{
 "cells": [
  {
   "cell_type": "markdown",
   "source": [
    "# RMT and outliers\n",
    "\n",
    "This example examines the effects of outliers on SVD performance\n",
    "for estimating a low-rank matrix from noisy data,\n",
    "from the perspective of random matrix theory,\n",
    "using the Julia language."
   ],
   "metadata": {}
  },
  {
   "cell_type": "markdown",
   "source": [
    "Add the Julia packages that are need for this demo.\n",
    "Change `false` to `true` in the following code block\n",
    "if you are using any of the following packages for the first time."
   ],
   "metadata": {}
  },
  {
   "outputs": [],
   "cell_type": "code",
   "source": [
    "if false\n",
    "    import Pkg\n",
    "    Pkg.add([\n",
    "        \"InteractiveUtils\"\n",
    "        \"LaTeXStrings\"\n",
    "        \"LinearAlgebra\"\n",
    "        \"MIRTjim\"\n",
    "        \"Plots\"\n",
    "        \"Random\"\n",
    "        \"StatsBase\"\n",
    "    ])\n",
    "end"
   ],
   "metadata": {},
   "execution_count": null
  },
  {
   "cell_type": "markdown",
   "source": [
    "Tell Julia to use the following packages for this example.\n",
    "Run `Pkg.add()` in the preceding code block first, if needed."
   ],
   "metadata": {}
  },
  {
   "outputs": [],
   "cell_type": "code",
   "source": [
    "using InteractiveUtils: versioninfo\n",
    "using LaTeXStrings\n",
    "using LinearAlgebra: Diagonal, norm, rank, svd, svdvals\n",
    "using MIRTjim: jim, prompt\n",
    "using Plots.PlotMeasures: px\n",
    "using Plots: default, gui, plot, plot!, scatter!, savefig\n",
    "using Random: seed!\n",
    "using StatsBase: mean\n",
    "default(markerstrokecolor=:auto, label=\"\", widen=true, markersize = 6,\n",
    " labelfontsize = 24, legendfontsize = 18, tickfontsize = 14, linewidth = 3,\n",
    ")\n",
    "seed!(0)"
   ],
   "metadata": {},
   "execution_count": null
  },
  {
   "cell_type": "markdown",
   "source": [
    "The following line is helpful when running this file as a script;\n",
    "this way it will prompt user to hit a key after each image is displayed."
   ],
   "metadata": {}
  },
  {
   "outputs": [],
   "cell_type": "code",
   "source": [
    "isinteractive() && prompt(:prompt);"
   ],
   "metadata": {},
   "execution_count": null
  },
  {
   "cell_type": "markdown",
   "source": [
    "## Image example\n",
    "\n",
    "Apply an SVD-based low-rank approximation approach\n",
    "to some data with outliers."
   ],
   "metadata": {}
  },
  {
   "cell_type": "markdown",
   "source": [
    "## Latent matrix\n",
    "Make a matrix that has low rank:"
   ],
   "metadata": {}
  },
  {
   "outputs": [],
   "cell_type": "code",
   "source": [
    "tmp = [\n",
    "    zeros(1,20);\n",
    "    0 1 0 0 0 0 1 0 0 0 1 1 1 1 0 1 1 1 1 0;\n",
    "    0 1 0 0 0 0 1 0 0 0 0 1 0 0 1 0 0 1 0 0;\n",
    "    0 1 0 0 0 0 1 0 0 0 0 1 0 0 0 0 0 1 0 0;\n",
    "    0 0 1 1 1 1 0 0 0 0 1 1 0 0 0 0 0 1 1 0;\n",
    "    zeros(1,20)\n",
    "]';\n",
    "rank(tmp)"
   ],
   "metadata": {},
   "execution_count": null
  },
  {
   "cell_type": "markdown",
   "source": [
    "Turn it into an image:"
   ],
   "metadata": {}
  },
  {
   "outputs": [],
   "cell_type": "code",
   "source": [
    "Xtrue = kron(1 .+ 8*tmp, ones(9,9))\n",
    "rtrue = rank(Xtrue)"
   ],
   "metadata": {},
   "execution_count": null
  },
  {
   "cell_type": "markdown",
   "source": [
    "plots with consistent size"
   ],
   "metadata": {}
  },
  {
   "outputs": [],
   "cell_type": "code",
   "source": [
    "jim1 = (X ; kwargs...) -> jim(X; size = (700,300),\n",
    " leftmargin = 10px, rightmargin = 10px, kwargs...);"
   ],
   "metadata": {},
   "execution_count": null
  },
  {
   "cell_type": "markdown",
   "source": [
    "and consistent display range"
   ],
   "metadata": {}
  },
  {
   "outputs": [],
   "cell_type": "code",
   "source": [
    "jimc = (X ; kwargs...) -> jim1(X; clim=(0,9), kwargs...);"
   ],
   "metadata": {},
   "execution_count": null
  },
  {
   "cell_type": "markdown",
   "source": [
    "and with NRMSE label"
   ],
   "metadata": {}
  },
  {
   "outputs": [],
   "cell_type": "code",
   "source": [
    "nrmse = (Xh) -> round(norm(Xh - Xtrue) / norm(Xtrue) * 100, digits=1)\n",
    "args = (xaxis = false, yaxis = false, colorbar = :none) # book\n",
    "args = (;) # web\n",
    "jime = (X; kwargs...) -> jimc(X; xlabel = \"NRMSE = $(nrmse(X)) %\",\n",
    " args..., kwargs...,\n",
    ")\n",
    "bm = s -> \"\\\\mathbf{\\\\mathit{$s}}\"\n",
    "title = latexstring(\"\\$$(bm(:X))\\$ : Latent image\")\n",
    "pt = jimc(Xtrue; title, xlabel = \" \", args...)"
   ],
   "metadata": {},
   "execution_count": null
  },
  {
   "cell_type": "markdown",
   "source": [
    "## Helper functions"
   ],
   "metadata": {}
  },
  {
   "cell_type": "markdown",
   "source": [
    "Bernoulli outliers with magnitude `τ` and probability `p`:"
   ],
   "metadata": {}
  },
  {
   "outputs": [],
   "cell_type": "code",
   "source": [
    "function outliers(dims::Dims, τ::Real = 6, p::Real = 0.05)\n",
    "    Z = τ * sign.(randn(dims)) .* (rand(dims...) .< p)\n",
    "    return Z\n",
    "end;"
   ],
   "metadata": {},
   "execution_count": null
  },
  {
   "cell_type": "markdown",
   "source": [
    "## Noisy data"
   ],
   "metadata": {}
  },
  {
   "outputs": [],
   "cell_type": "code",
   "source": [
    "seed!(0)\n",
    "(M, N) = size(Xtrue)\n",
    "Z = outliers((M,N))\n",
    "Y = Xtrue + Z\n",
    "\n",
    "title = latexstring(\"\\$$(bm(:Y))\\$ : Corrupted image matrix\\n(with outliers)\")\n",
    "py = jime(Y ; title)"
   ],
   "metadata": {},
   "execution_count": null
  },
  {
   "cell_type": "markdown",
   "source": [
    "## Singular values\n",
    "\n",
    "The first 3 singular values of $Y$\n",
    "are well above the \"noise floor\" caused by outliers.\n",
    "\n",
    "But\n",
    "$σ₄(X)$\n",
    "is just barely above the threshold,\n",
    "and\n",
    "$σ₅(X)$\n",
    "is below the threshold,\n",
    "so we cannot expect a simple SVD approach\n",
    "to recover them well."
   ],
   "metadata": {}
  },
  {
   "outputs": [],
   "cell_type": "code",
   "source": [
    "ps1 = plot(\n",
    " title = \"Singular values\",\n",
    " xaxis = (L\"k\", (1, N), [1, 3, 6, N]),\n",
    " yaxis = (L\"σ_k\",),\n",
    " leftmargin = 15px, bottommargin = 20px, size = (600,350), widen = true,\n",
    ")\n",
    "sv_x = svdvals(Xtrue)\n",
    "sv_y = svdvals(Y)\n",
    "scatter!(sv_y, color=:red, label=\"Y (data)\", marker=:dtriangle)\n",
    "scatter!(sv_x, color=:blue, label=\"Xtrue\", marker=:utriangle)"
   ],
   "metadata": {},
   "execution_count": null
  },
  {
   "outputs": [],
   "cell_type": "code",
   "source": [
    "prompt()"
   ],
   "metadata": {},
   "execution_count": null
  },
  {
   "cell_type": "markdown",
   "source": [
    "## Low-rank estimate\n",
    "\n",
    "A simple low-rank estimate of $X$\n",
    "from the first few SVD components of $Y$\n",
    "works just so-so here.\n",
    "A simple SVD approach recovers the first 3 components well,\n",
    "but cannot estimate the 4th and 5th components."
   ],
   "metadata": {}
  },
  {
   "outputs": [],
   "cell_type": "code",
   "source": [
    "r = 5\n",
    "U,s,V = svd(Y)\n",
    "Xr = U[:,1:r] * Diagonal(s[1:r]) * V[:,1:r]'\n",
    "title = latexstring(\"Rank $r approximation of data \\$$(bm(:Y))\\$\")\n",
    "pr = jime(Xr ; title)"
   ],
   "metadata": {},
   "execution_count": null
  },
  {
   "cell_type": "markdown",
   "source": [
    "Examine singular vector estimates.\n",
    "The first 3 are quite good; the next two are poor."
   ],
   "metadata": {}
  },
  {
   "outputs": [],
   "cell_type": "code",
   "source": [
    "sv1 = [\n",
    " sum(svd(Xr).U[:,1:r] .* svd(Xtrue).U[:,1:r], dims=1).^2\n",
    " sum(svd(Xr).V[:,1:r] .* svd(Xtrue).V[:,1:r], dims=1).^2\n",
    "]"
   ],
   "metadata": {},
   "execution_count": null
  },
  {
   "cell_type": "markdown",
   "source": [
    "## Non-iterative \"robust\" PCA\n",
    "\n",
    "Try simple outlier removal method.\n",
    "Look at the residual between $\\hat{X}$ and $Y$:"
   ],
   "metadata": {}
  },
  {
   "outputs": [],
   "cell_type": "code",
   "source": [
    "residual = Xr - Y\n",
    "\n",
    "pd = jim1(residual; clim = (-1,1) .* 7, cticks = (-1:1:1) * 8,\n",
    " title = latexstring(\"Residual \\$$(bm(:Y)) - \\\\hat{$(bm(:X))}\\$\"),\n",
    ")"
   ],
   "metadata": {},
   "execution_count": null
  },
  {
   "cell_type": "markdown",
   "source": [
    "Identify \"bad\" pixels with large residual errors"
   ],
   "metadata": {}
  },
  {
   "outputs": [],
   "cell_type": "code",
   "source": [
    "badpixel = @. abs(residual) > 3\n",
    "jim1(badpixel)"
   ],
   "metadata": {},
   "execution_count": null
  },
  {
   "cell_type": "markdown",
   "source": [
    "Replace \"bad\" pixels with typical image values"
   ],
   "metadata": {}
  },
  {
   "outputs": [],
   "cell_type": "code",
   "source": [
    "Ymod = copy(Y)\n",
    "Ymod[badpixel] .= mean(Y[.!badpixel])\n",
    "jime(Ymod) # already reduces NRMSE by a lot compared to Y itself!"
   ],
   "metadata": {},
   "execution_count": null
  },
  {
   "cell_type": "markdown",
   "source": [
    "Examine singular values of modified $Y$.\n",
    "The noise floor is lower."
   ],
   "metadata": {}
  },
  {
   "outputs": [],
   "cell_type": "code",
   "source": [
    "ps2 = plot(\n",
    " title = \"Singular values\",\n",
    " xaxis = (L\"k\", (1, N), [1, 3, 6, N]),\n",
    " yaxis = (L\"σ_k\",),\n",
    " leftmargin = 15px, bottommargin = 20px, size = (600,350), widen = true,\n",
    ")\n",
    "sv_f = svdvals(Ymod)\n",
    "scatter!(sv_f, color=:green, label=\"Y (modified)\", marker=:hex)\n",
    "scatter!(sv_x, color=:blue, label=\"Xtrue\", marker=:utriangle)"
   ],
   "metadata": {},
   "execution_count": null
  },
  {
   "outputs": [],
   "cell_type": "code",
   "source": [
    "prompt()"
   ],
   "metadata": {},
   "execution_count": null
  },
  {
   "cell_type": "markdown",
   "source": [
    "Applying low-rank matrix approximation to modified $Y$\n",
    "leads to lower NRMSE."
   ],
   "metadata": {}
  },
  {
   "outputs": [],
   "cell_type": "code",
   "source": [
    "Um,sm,Vm = svd(Ymod)\n",
    "Xh = Um[:,1:r] * Diagonal(sm[1:r]) * Vm[:,1:r]'\n",
    "title = latexstring(\"Rank $r approximation of modified data \\$$(bm(:Y))\\$\")\n",
    "ph = jime(Xh ; title)"
   ],
   "metadata": {},
   "execution_count": null
  },
  {
   "cell_type": "markdown",
   "source": [
    "All of the singular components are better recovered,\n",
    "including the ones that were near or below the noise threshold."
   ],
   "metadata": {}
  },
  {
   "outputs": [],
   "cell_type": "code",
   "source": [
    "sv2 = [\n",
    " sum(svd(Xh).U[:,1:r] .* svd(Xtrue).U[:,1:r], dims=1).^2\n",
    " sum(svd(Xh).V[:,1:r] .* svd(Xtrue).V[:,1:r], dims=1).^2\n",
    "]"
   ],
   "metadata": {},
   "execution_count": null
  },
  {
   "cell_type": "markdown",
   "source": [
    "Summary"
   ],
   "metadata": {}
  },
  {
   "outputs": [],
   "cell_type": "code",
   "source": [
    "pa = jim(stack((Xtrue, abs.(Z), Y, Xr, 6*badpixel, Xh));\n",
    " ncol=1, size=(600, 900), clim=(0,9))"
   ],
   "metadata": {},
   "execution_count": null
  },
  {
   "cell_type": "markdown",
   "source": [
    "## More outliers\n",
    "\n",
    "Now examine a case where the outliers are stronger\n",
    "and more prevalent."
   ],
   "metadata": {}
  },
  {
   "outputs": [],
   "cell_type": "code",
   "source": [
    "pout2 = 0.1\n",
    "Z = outliers((M,N), 50, pout2)\n",
    "Y = Xtrue + Z\n",
    "\n",
    "title = latexstring(\"\\$$(bm(:Y))\\$ : Corrupted image matrix\\n(with $(100*pout2)% outliers)\")\n",
    "py2 = jime(Y ; title)"
   ],
   "metadata": {},
   "execution_count": null
  },
  {
   "cell_type": "markdown",
   "source": [
    "## Singular values\n",
    "\n",
    "Now all of the singular values of $X$\n",
    "are below the \"noise floor\" caused by outliers."
   ],
   "metadata": {}
  },
  {
   "outputs": [],
   "cell_type": "code",
   "source": [
    "ps3 = plot(\n",
    " title = \"Singular values\",\n",
    " xaxis = (L\"k\", (1, N), [1, 3, 6, N]),\n",
    " yaxis = (L\"σ_k\",),\n",
    " leftmargin = 15px, bottommargin = 20px, size = (600,350), widen = true,\n",
    ")\n",
    "sv_x = svdvals(Xtrue)\n",
    "sv_y = svdvals(Y)\n",
    "scatter!(sv_y, color=:red, label=\"Y (data)\", marker=:dtriangle)\n",
    "scatter!(sv_x, color=:blue, label=\"Xtrue\", marker=:utriangle)"
   ],
   "metadata": {},
   "execution_count": null
  },
  {
   "outputs": [],
   "cell_type": "code",
   "source": [
    "prompt()"
   ],
   "metadata": {},
   "execution_count": null
  },
  {
   "cell_type": "markdown",
   "source": [
    "## Low-rank estimate\n",
    "\n",
    "A simple low-rank estimate of $X$\n",
    "from the first few SVD components of $Y$\n",
    "does not work at all now\n",
    "for such heavily corrupted data."
   ],
   "metadata": {}
  },
  {
   "outputs": [],
   "cell_type": "code",
   "source": [
    "r = 5\n",
    "U,s,V = svd(Y)\n",
    "Xr = U[:,1:r] * Diagonal(s[1:r]) * V[:,1:r]'\n",
    "title = latexstring(\"Rank $r approximation of data \\$$(bm(:Y))\\$\")\n",
    "pr2 = jime(Xr ; title)"
   ],
   "metadata": {},
   "execution_count": null
  },
  {
   "cell_type": "markdown",
   "source": [
    "Examine singular vector estimates.\n",
    "The first one is so-so, the rest are useless."
   ],
   "metadata": {}
  },
  {
   "outputs": [],
   "cell_type": "code",
   "source": [
    "sv3 = [\n",
    " sum(svd(Xr).U[:,1:r] .* svd(Xtrue).U[:,1:r], dims=1).^2\n",
    " sum(svd(Xr).V[:,1:r] .* svd(Xtrue).V[:,1:r], dims=1).^2\n",
    "]"
   ],
   "metadata": {},
   "execution_count": null
  },
  {
   "cell_type": "markdown",
   "source": [
    "## Non-iterative \"robust\" PCA\n",
    "\n",
    "Try simple outlier removal method.\n",
    "Look at the residual between $\\hat{X}$ and $Y$:"
   ],
   "metadata": {}
  },
  {
   "outputs": [],
   "cell_type": "code",
   "source": [
    "residual = Xr - Y\n",
    "\n",
    "pd2 = jim1(residual; clim = (-1,1) .* 70, cticks = (-1:1:1) * 8,\n",
    " title = latexstring(\"Residual \\$$(bm(:Y)) - \\\\hat{$(bm(:X))}\\$\"),\n",
    ")"
   ],
   "metadata": {},
   "execution_count": null
  },
  {
   "cell_type": "markdown",
   "source": [
    "Identify \"bad\" pixels with large residual errors.\n",
    "This is a nonlinear operation:"
   ],
   "metadata": {}
  },
  {
   "outputs": [],
   "cell_type": "code",
   "source": [
    "badpixel = @. abs(residual) > 10\n",
    "jim1(badpixel)"
   ],
   "metadata": {},
   "execution_count": null
  },
  {
   "cell_type": "markdown",
   "source": [
    "Replace \"bad\" pixels with typical image values"
   ],
   "metadata": {}
  },
  {
   "outputs": [],
   "cell_type": "code",
   "source": [
    "Ymod = copy(Y)\n",
    "Ymod[badpixel] .= mean(Y[.!badpixel])\n",
    "jime(Ymod) # already reduces NRMSE by a lot compared to Y itself!"
   ],
   "metadata": {},
   "execution_count": null
  },
  {
   "cell_type": "markdown",
   "source": [
    "Examine singular values of modified $Y$.\n",
    "The noise floor is lower."
   ],
   "metadata": {}
  },
  {
   "outputs": [],
   "cell_type": "code",
   "source": [
    "ps4 = plot(\n",
    " title = \"Singular values\",\n",
    " xaxis = (L\"k\", (1, N), [1, 3, 6, N]),\n",
    " yaxis = (L\"σ_k\",),\n",
    " leftmargin = 15px, bottommargin = 20px, size = (600,350), widen = true,\n",
    ")\n",
    "sv_f = svdvals(Ymod)\n",
    "scatter!(sv_f, color=:green, label=\"Y (modified)\", marker=:hex)\n",
    "scatter!(sv_x, color=:blue, label=\"Xtrue\", marker=:utriangle)"
   ],
   "metadata": {},
   "execution_count": null
  },
  {
   "outputs": [],
   "cell_type": "code",
   "source": [
    "prompt()"
   ],
   "metadata": {},
   "execution_count": null
  },
  {
   "cell_type": "markdown",
   "source": [
    "Applying low-rank matrix approximation to modified $Y$\n",
    "leads to lower NRMSE."
   ],
   "metadata": {}
  },
  {
   "outputs": [],
   "cell_type": "code",
   "source": [
    "Um,sm,Vm = svd(Ymod)\n",
    "Xh = Um[:,1:r] * Diagonal(sm[1:r]) * Vm[:,1:r]'\n",
    "title = latexstring(\"Rank $r approximation of modified data \\$$(bm(:Y))\\$\")\n",
    "ph2 = jime(Xh ; title)"
   ],
   "metadata": {},
   "execution_count": null
  },
  {
   "cell_type": "markdown",
   "source": [
    "Now the first three singular components are better recovered."
   ],
   "metadata": {}
  },
  {
   "outputs": [],
   "cell_type": "code",
   "source": [
    "sv4 = [\n",
    " sum(svd(Xh).U[:,1:r] .* svd(Xtrue).U[:,1:r], dims=1).^2\n",
    " sum(svd(Xh).V[:,1:r] .* svd(Xtrue).V[:,1:r], dims=1).^2\n",
    "]"
   ],
   "metadata": {},
   "execution_count": null
  },
  {
   "cell_type": "markdown",
   "source": [
    "Let's try iterating to see if we can refine it.\n",
    "Indeed it does refine it,\n",
    "but at this point it starts to become an ad hoc iterative method.\n",
    "If we going to iterate,\n",
    "then it seems preferable to use a cost function\n",
    "like the one used in robust PCA,\n",
    "with a proper optimization algorithm."
   ],
   "metadata": {}
  },
  {
   "outputs": [],
   "cell_type": "code",
   "source": [
    "residual = Xh - Y\n",
    "badpixel = @. abs(residual) > 10\n",
    "jim1(badpixel)\n",
    "Ymod = copy(Y)\n",
    "Ymod[badpixel] .= mean(Y[.!badpixel])\n",
    "Um,sm,Vm = svd(Ymod)\n",
    "Xh3 = Um[:,1:r] * Diagonal(sm[1:r]) * Vm[:,1:r]'\n",
    "title = latexstring(\"Rank $r approximation of modified data \\$$(bm(:Y))\\$\")\n",
    "ph3 = jime(Xh3 ; title)"
   ],
   "metadata": {},
   "execution_count": null
  },
  {
   "cell_type": "markdown",
   "source": [
    "---\n",
    "\n",
    "*This notebook was generated using [Literate.jl](https://github.com/fredrikekre/Literate.jl).*"
   ],
   "metadata": {}
  }
 ],
 "nbformat_minor": 3,
 "metadata": {
  "language_info": {
   "file_extension": ".jl",
   "mimetype": "application/julia",
   "name": "julia",
   "version": "1.11.6"
  },
  "kernelspec": {
   "name": "julia-1.11",
   "display_name": "Julia 1.11.6",
   "language": "julia"
  }
 },
 "nbformat": 4
}
